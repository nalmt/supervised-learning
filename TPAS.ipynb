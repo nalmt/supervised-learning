{
 "cells": [
  {
   "cell_type": "markdown",
   "metadata": {},
   "source": [
    "Emna Barred & Nabil Lamrabet"
   ]
  },
  {
   "cell_type": "code",
   "execution_count": 243,
   "metadata": {},
   "outputs": [],
   "source": [
    "import numpy as np\n",
    "np.set_printoptions(threshold=10000, suppress=True)\n",
    "import pandas as pd\n",
    "import time\n",
    "import operator\n",
    "import matplotlib.pyplot as plt\n",
    "from sklearn.tree import DecisionTreeClassifier\n",
    "from sklearn.neighbors import KNeighborsClassifier\n",
    "from sklearn.neural_network import MLPClassifier\n",
    "from sklearn.naive_bayes import GaussianNB\n",
    "from sklearn.ensemble import RandomForestClassifier, AdaBoostClassifier, BaggingClassifier\n",
    "from sklearn.metrics import confusion_matrix, accuracy_score, precision_score, recall_score, make_scorer\n",
    "from sklearn.model_selection import train_test_split, GridSearchCV, KFold, cross_val_score\n",
    "from sklearn import preprocessing\n",
    "from sklearn.preprocessing import StandardScaler, MinMaxScaler, OneHotEncoder\n",
    "from sklearn.decomposition import PCA\n",
    "from sklearn.pipeline import Pipeline, FeatureUnion\n",
    "import pickle\n",
    "import warnings\n",
    "from sklearn.impute import SimpleImputer as Imputer\n",
    "warnings.filterwarnings('ignore')"
   ]
  },
  {
   "cell_type": "markdown",
   "metadata": {},
   "source": [
    "# Apprentissage supervisé : Feature engineering et Classification"
   ]
  },
  {
   "cell_type": "markdown",
   "metadata": {},
   "source": [
    "### 1. Chargement des données et préparation : "
   ]
  },
  {
   "cell_type": "markdown",
   "metadata": {},
   "source": [
    "Importer ce jeu de données avec la librairie pandas (c.f. read_csv)"
   ]
  },
  {
   "cell_type": "code",
   "execution_count": 2,
   "metadata": {},
   "outputs": [
    {
     "data": {
      "text/html": [
       "<div>\n",
       "<style scoped>\n",
       "    .dataframe tbody tr th:only-of-type {\n",
       "        vertical-align: middle;\n",
       "    }\n",
       "\n",
       "    .dataframe tbody tr th {\n",
       "        vertical-align: top;\n",
       "    }\n",
       "\n",
       "    .dataframe thead th {\n",
       "        text-align: right;\n",
       "    }\n",
       "</style>\n",
       "<table border=\"1\" class=\"dataframe\">\n",
       "  <thead>\n",
       "    <tr style=\"text-align: right;\">\n",
       "      <th></th>\n",
       "      <th>Seniority</th>\n",
       "      <th>Home</th>\n",
       "      <th>Time</th>\n",
       "      <th>Age</th>\n",
       "      <th>Marital</th>\n",
       "      <th>Records</th>\n",
       "      <th>Job</th>\n",
       "      <th>Expenses</th>\n",
       "      <th>Income</th>\n",
       "      <th>Assets</th>\n",
       "      <th>Debt</th>\n",
       "      <th>Amount</th>\n",
       "      <th>Price</th>\n",
       "      <th>Status</th>\n",
       "    </tr>\n",
       "  </thead>\n",
       "  <tbody>\n",
       "    <tr>\n",
       "      <th>0</th>\n",
       "      <td>9.0</td>\n",
       "      <td>1.0</td>\n",
       "      <td>60.0</td>\n",
       "      <td>30.0</td>\n",
       "      <td>0.0</td>\n",
       "      <td>1.0</td>\n",
       "      <td>1.0</td>\n",
       "      <td>73.0</td>\n",
       "      <td>129.0</td>\n",
       "      <td>0.0</td>\n",
       "      <td>0.0</td>\n",
       "      <td>800.0</td>\n",
       "      <td>846.0</td>\n",
       "      <td>1</td>\n",
       "    </tr>\n",
       "    <tr>\n",
       "      <th>1</th>\n",
       "      <td>17.0</td>\n",
       "      <td>1.0</td>\n",
       "      <td>60.0</td>\n",
       "      <td>58.0</td>\n",
       "      <td>1.0</td>\n",
       "      <td>1.0</td>\n",
       "      <td>0.0</td>\n",
       "      <td>48.0</td>\n",
       "      <td>131.0</td>\n",
       "      <td>0.0</td>\n",
       "      <td>0.0</td>\n",
       "      <td>1000.0</td>\n",
       "      <td>1658.0</td>\n",
       "      <td>1</td>\n",
       "    </tr>\n",
       "    <tr>\n",
       "      <th>2</th>\n",
       "      <td>10.0</td>\n",
       "      <td>0.0</td>\n",
       "      <td>36.0</td>\n",
       "      <td>46.0</td>\n",
       "      <td>0.0</td>\n",
       "      <td>2.0</td>\n",
       "      <td>1.0</td>\n",
       "      <td>90.0</td>\n",
       "      <td>200.0</td>\n",
       "      <td>3000.0</td>\n",
       "      <td>0.0</td>\n",
       "      <td>2000.0</td>\n",
       "      <td>2985.0</td>\n",
       "      <td>0</td>\n",
       "    </tr>\n",
       "    <tr>\n",
       "      <th>3</th>\n",
       "      <td>0.0</td>\n",
       "      <td>1.0</td>\n",
       "      <td>60.0</td>\n",
       "      <td>24.0</td>\n",
       "      <td>1.0</td>\n",
       "      <td>1.0</td>\n",
       "      <td>0.0</td>\n",
       "      <td>63.0</td>\n",
       "      <td>182.0</td>\n",
       "      <td>2500.0</td>\n",
       "      <td>0.0</td>\n",
       "      <td>900.0</td>\n",
       "      <td>1325.0</td>\n",
       "      <td>1</td>\n",
       "    </tr>\n",
       "    <tr>\n",
       "      <th>4</th>\n",
       "      <td>0.0</td>\n",
       "      <td>1.0</td>\n",
       "      <td>36.0</td>\n",
       "      <td>26.0</td>\n",
       "      <td>1.0</td>\n",
       "      <td>1.0</td>\n",
       "      <td>0.0</td>\n",
       "      <td>46.0</td>\n",
       "      <td>107.0</td>\n",
       "      <td>0.0</td>\n",
       "      <td>0.0</td>\n",
       "      <td>310.0</td>\n",
       "      <td>910.0</td>\n",
       "      <td>1</td>\n",
       "    </tr>\n",
       "  </tbody>\n",
       "</table>\n",
       "</div>"
      ],
      "text/plain": [
       "   Seniority  Home  Time   Age  Marital  Records  Job  Expenses  Income  \\\n",
       "0        9.0   1.0  60.0  30.0      0.0      1.0  1.0      73.0   129.0   \n",
       "1       17.0   1.0  60.0  58.0      1.0      1.0  0.0      48.0   131.0   \n",
       "2       10.0   0.0  36.0  46.0      0.0      2.0  1.0      90.0   200.0   \n",
       "3        0.0   1.0  60.0  24.0      1.0      1.0  0.0      63.0   182.0   \n",
       "4        0.0   1.0  36.0  26.0      1.0      1.0  0.0      46.0   107.0   \n",
       "\n",
       "   Assets  Debt  Amount   Price  Status  \n",
       "0     0.0   0.0   800.0   846.0       1  \n",
       "1     0.0   0.0  1000.0  1658.0       1  \n",
       "2  3000.0   0.0  2000.0  2985.0       0  \n",
       "3  2500.0   0.0   900.0  1325.0       1  \n",
       "4     0.0   0.0   310.0   910.0       1  "
      ]
     },
     "execution_count": 2,
     "metadata": {},
     "output_type": "execute_result"
    }
   ],
   "source": [
    "cscores = pd.read_csv('./credit_scoring.csv', sep=';') \n",
    "cscores.head(5)"
   ]
  },
  {
   "cell_type": "markdown",
   "metadata": {},
   "source": [
    "Transformer votre jeu de données en numpy Array"
   ]
  },
  {
   "cell_type": "code",
   "execution_count": 3,
   "metadata": {},
   "outputs": [],
   "source": [
    "cscores_numpy = cscores.values"
   ]
  },
  {
   "cell_type": "code",
   "execution_count": 4,
   "metadata": {},
   "outputs": [
    {
     "name": "stdout",
     "output_type": "stream",
     "text": [
      "[[   9.    1.   60. ...  800.  846.    1.]\n",
      " [  17.    1.   60. ... 1000. 1658.    1.]\n",
      " [  10.    0.   36. ... 2000. 2985.    0.]\n",
      " ...\n",
      " [   0.    0.   24. ...  500.  963.    0.]\n",
      " [   0.    1.   48. ...  550.  550.    1.]\n",
      " [   5.    0.   60. ... 1350. 1650.    1.]]\n"
     ]
    }
   ],
   "source": [
    "print(cscores_numpy)"
   ]
  },
  {
   "cell_type": "markdown",
   "metadata": {},
   "source": [
    "séparer les variables caractéristiques de la variable à prédire"
   ]
  },
  {
   "cell_type": "code",
   "execution_count": 5,
   "metadata": {},
   "outputs": [],
   "source": [
    "X = cscores_numpy[:,0:13]\n",
    "Y = cscores_numpy[:,13-14]"
   ]
  },
  {
   "cell_type": "markdown",
   "metadata": {},
   "source": [
    "Analyser les propriétés de vos données"
   ]
  },
  {
   "cell_type": "code",
   "execution_count": 6,
   "metadata": {},
   "outputs": [
    {
     "name": "stdout",
     "output_type": "stream",
     "text": [
      "Nous avons 4375 échantillons\n"
     ]
    }
   ],
   "source": [
    "Nsamples = cscores_numpy.shape[0]\n",
    "print(\"Nous avons\", Nsamples, \"échantillons\")"
   ]
  },
  {
   "cell_type": "code",
   "execution_count": 7,
   "metadata": {},
   "outputs": [
    {
     "data": {
      "text/plain": [
       "array([[<AxesSubplot:title={'center':'Status'}>]], dtype=object)"
      ]
     },
     "execution_count": 7,
     "metadata": {},
     "output_type": "execute_result"
    },
    {
     "data": {
      "image/png": "[encoded data removed]",
      "text/plain": [
       "<Figure size 432x288 with 1 Axes>"
      ]
     },
     "metadata": {
      "needs_background": "light"
     },
     "output_type": "display_data"
    }
   ],
   "source": [
    "cscores.hist(column='Status')"
   ]
  },
  {
   "cell_type": "code",
   "execution_count": 8,
   "metadata": {},
   "outputs": [],
   "source": [
    "GC = np.sum(Y==1)/len(Y) #good creditor\n",
    "BC = np.sum(Y==0)/len(Y) #bad creditor"
   ]
  },
  {
   "cell_type": "code",
   "execution_count": 9,
   "metadata": {},
   "outputs": [
    {
     "name": "stdout",
     "output_type": "stream",
     "text": [
      "72.21%  personnes ayant une bonne solvabilité .\n",
      "27.79%  personnes ayant une mauvaise solvabilité .\n"
     ]
    }
   ],
   "source": [
    "print(\"{0:.2f}%\".format(GC * 100), \" personnes ayant une bonne solvabilité .\")\n",
    "print(\"{0:.2f}%\".format(BC * 100), \" personnes ayant une mauvaise solvabilité .\")"
   ]
  },
  {
   "cell_type": "markdown",
   "metadata": {},
   "source": [
    "séparer les données en deux parties (de taille 50% chacune) "
   ]
  },
  {
   "cell_type": "code",
   "execution_count": 10,
   "metadata": {},
   "outputs": [],
   "source": [
    "x_train, x_test, y_train, y_test = train_test_split(X, Y, test_size=0.5, random_state=1)"
   ]
  },
  {
   "cell_type": "markdown",
   "metadata": {},
   "source": [
    "### 2. Apprentissage et évaluation de modèles : "
   ]
  },
  {
   "cell_type": "markdown",
   "metadata": {},
   "source": [
    "Algorithmes d’apprentissage supervisé"
   ]
  },
  {
   "cell_type": "code",
   "execution_count": 11,
   "metadata": {},
   "outputs": [],
   "source": [
    "classifiers = [\n",
    "    (\"Cart\", DecisionTreeClassifier(random_state=1)),\n",
    "    (\"KNN\", KNeighborsClassifier(n_neighbors=5)),\n",
    "    (\"MLP\", MLPClassifier(hidden_layer_sizes=(40, 20), random_state=1)),\n",
    "]"
   ]
  },
  {
   "cell_type": "code",
   "execution_count": 12,
   "metadata": {},
   "outputs": [],
   "source": [
    "def testingClassifiers(x_train, x_test, y_train, y_test):\n",
    "    accuracies = {}\n",
    "    recalls = {}\n",
    "    precisions = {}\n",
    "    for cl in classifiers:\n",
    "        classifier = cl[1].fit(x_train, y_train)\n",
    "        y_pred = classifier.predict(x_test)\n",
    "        \n",
    "        accuracy = accuracy_score(y_test, y_pred)\n",
    "        recall = recall_score(y_test, y_pred)\n",
    "        precision = precision_score(y_test, y_pred)\n",
    "        confusion_mat = confusion_matrix(y_test, y_pred)\n",
    "        \n",
    "        accuracies[cl[0]] = accuracy\n",
    "        recalls[cl[0]] = recall\n",
    "        precisions[cl[0]] = precision\n",
    "        \n",
    "        print(\"Les indicateurs de \", cl[0], \":\")\n",
    "        print(\"- Accuracy :\", \"{0:.2f}%\".format(accuracy * 100))\n",
    "        print(\"- Rappel :\", \"{0:.2f}%\".format(recall * 100))\n",
    "        print(\"- Précision :\", \"{0:.2f}%\".format(precision * 100))\n",
    "        print(\"- Matrice de confusion :\\n\", confusion_mat)\n",
    "        print(\"\\n\")\n",
    "    \n",
    "    accuracies = dict(sorted(accuracies.items(), key=operator.itemgetter(1),reverse=True))\n",
    "    recalls = dict(sorted(recalls.items(), key=operator.itemgetter(1),reverse=True))\n",
    "    precisions = dict(sorted(precisions.items(), key=operator.itemgetter(1),reverse=True))\n",
    "\n",
    "\n",
    "    print(\"\\n La meilleure Accuracy est donnée par l'algorithme \", list(accuracies.keys())[0], \" à \", \"{0:.2f}%\".format(list(accuracies.values())[0]*100))\n",
    "    print(\"\\n Le meilleure rappel est donnée par l'algorithme \", list(recalls.keys())[0], \" à \", \"{0:.2f}%\".format(list(recalls.values())[0]*100))\n",
    "    print(\"\\n La meilleure précision est donnée par l'algorithme \", list(precisions.keys())[0], \" à \", \"{0:.2f}%\".format(list(precisions.values())[0]*100))"
   ]
  },
  {
   "cell_type": "code",
   "execution_count": 13,
   "metadata": {},
   "outputs": [
    {
     "name": "stdout",
     "output_type": "stream",
     "text": [
      "Les indicateurs de  Cart :\n",
      "- Accuracy : 72.71%\n",
      "- Rappel : 79.92%\n",
      "- Précision : 81.94%\n",
      "- Matrice de confusion :\n",
      " [[ 325  279]\n",
      " [ 318 1266]]\n",
      "\n",
      "\n",
      "Les indicateurs de  KNN :\n",
      "- Accuracy : 72.49%\n",
      "- Rappel : 88.19%\n",
      "- Précision : 77.10%\n",
      "- Matrice de confusion :\n",
      " [[ 189  415]\n",
      " [ 187 1397]]\n",
      "\n",
      "\n",
      "Les indicateurs de  MLP :\n",
      "- Accuracy : 70.38%\n",
      "- Rappel : 89.39%\n",
      "- Précision : 74.68%\n",
      "- Matrice de confusion :\n",
      " [[ 124  480]\n",
      " [ 168 1416]]\n",
      "\n",
      "\n",
      "\n",
      " La meilleure Accuracy est donnée par l'algorithme  Cart  à  72.71%\n",
      "\n",
      " Le meilleure rappel est donnée par l'algorithme  MLP  à  89.39%\n",
      "\n",
      " La meilleure précision est donnée par l'algorithme  Cart  à  81.94%\n"
     ]
    }
   ],
   "source": [
    "testingClassifiers(x_train, x_test, y_train, y_test)     "
   ]
  },
  {
   "cell_type": "markdown",
   "metadata": {},
   "source": [
    "**Etant donné que la question est de donner un crédit à une personne qui pourrait potentiellement etre incapable de le rembourser, la précision est imporante.** \n",
    "\n",
    "**La précision permet de répondre à la question \"Quelle proportion d'identifications positives était effectivement correcte ?\" et dans notre cas, c'est imporant de savoir si on donne le crédit à une personne qui est \"correctement positive\" (quelqu'un qui a une bonne solvabilité).**\n",
    "\n",
    "Par cette logique et sur les données brute, en excutant notre méthode qui teste les classifieurs, on peut dire que Cart est le plus adéquat. "
   ]
  },
  {
   "cell_type": "markdown",
   "metadata": {},
   "source": [
    "### 3. Normalisation des variables continues : "
   ]
  },
  {
   "cell_type": "markdown",
   "metadata": {},
   "source": [
    "Normalisation avec MinMaxScaler"
   ]
  },
  {
   "cell_type": "code",
   "execution_count": 14,
   "metadata": {},
   "outputs": [],
   "source": [
    "MMScaler= MinMaxScaler()\n",
    "MMScaler.fit(x_train)\n",
    "x_train_norm = MMScaler.transform(x_train)\n",
    "x_test_norm = MMScaler.transform(x_test)"
   ]
  },
  {
   "cell_type": "code",
   "execution_count": 15,
   "metadata": {},
   "outputs": [
    {
     "name": "stdout",
     "output_type": "stream",
     "text": [
      "Les indicateurs de  Cart :\n",
      "- Accuracy : 72.85%\n",
      "- Rappel : 80.11%\n",
      "- Précision : 81.98%\n",
      "- Matrice de confusion :\n",
      " [[ 325  279]\n",
      " [ 315 1269]]\n",
      "\n",
      "\n",
      "Les indicateurs de  KNN :\n",
      "- Accuracy : 74.54%\n",
      "- Rappel : 85.10%\n",
      "- Précision : 80.77%\n",
      "- Matrice de confusion :\n",
      " [[ 283  321]\n",
      " [ 236 1348]]\n",
      "\n",
      "\n",
      "Les indicateurs de  MLP :\n",
      "- Accuracy : 78.88%\n",
      "- Rappel : 88.70%\n",
      "- Précision : 83.23%\n",
      "- Matrice de confusion :\n",
      " [[ 321  283]\n",
      " [ 179 1405]]\n",
      "\n",
      "\n",
      "\n",
      " La meilleure Accuracy est donnée par l'algorithme  MLP  à  78.88%\n",
      "\n",
      " Le meilleure rappel est donnée par l'algorithme  MLP  à  88.70%\n",
      "\n",
      " La meilleure précision est donnée par l'algorithme  MLP  à  83.23%\n"
     ]
    }
   ],
   "source": [
    "testingClassifiers(x_train_norm, x_test_norm, y_train, y_test)     "
   ]
  },
  {
   "cell_type": "markdown",
   "metadata": {},
   "source": [
    "***En testant les données normalisé avec MinMaxScaler, MLP est le plus adéquat.***"
   ]
  },
  {
   "cell_type": "markdown",
   "metadata": {},
   "source": [
    "Normalisation avec StandardScaler"
   ]
  },
  {
   "cell_type": "code",
   "execution_count": 16,
   "metadata": {},
   "outputs": [],
   "source": [
    "SScaler= StandardScaler()\n",
    "SScaler.fit(x_train)\n",
    "x_train_norm = SScaler.transform(x_train)\n",
    "x_test_norm = SScaler.transform(x_test)\n",
    "       "
   ]
  },
  {
   "cell_type": "code",
   "execution_count": 17,
   "metadata": {},
   "outputs": [
    {
     "name": "stdout",
     "output_type": "stream",
     "text": [
      "Les indicateurs de  Cart :\n",
      "- Accuracy : 72.71%\n",
      "- Rappel : 80.11%\n",
      "- Précision : 81.82%\n",
      "- Matrice de confusion :\n",
      " [[ 322  282]\n",
      " [ 315 1269]]\n",
      "\n",
      "\n",
      "Les indicateurs de  KNN :\n",
      "- Accuracy : 75.27%\n",
      "- Rappel : 85.92%\n",
      "- Précision : 81.06%\n",
      "- Matrice de confusion :\n",
      " [[ 286  318]\n",
      " [ 223 1361]]\n",
      "\n",
      "\n",
      "Les indicateurs de  MLP :\n",
      "- Accuracy : 77.65%\n",
      "- Rappel : 85.67%\n",
      "- Précision : 83.82%\n",
      "- Matrice de confusion :\n",
      " [[ 342  262]\n",
      " [ 227 1357]]\n",
      "\n",
      "\n",
      "\n",
      " La meilleure Accuracy est donnée par l'algorithme  MLP  à  77.65%\n",
      "\n",
      " Le meilleure rappel est donnée par l'algorithme  KNN  à  85.92%\n",
      "\n",
      " La meilleure précision est donnée par l'algorithme  MLP  à  83.82%\n"
     ]
    }
   ],
   "source": [
    "testingClassifiers(x_train_norm, x_test_norm, y_train, y_test)     "
   ]
  },
  {
   "cell_type": "markdown",
   "metadata": {},
   "source": [
    "***En testant les données normalisé avec StandardScaler, MLP est le plus adéquat. Mais MinMaxScaler, nous donne une accuracy meilleure que StandardScaler. En prennant en compte l'accuracy et la précision des deux scalers, nous avons choisit MinMaxScaler***"
   ]
  },
  {
   "cell_type": "code",
   "execution_count": 18,
   "metadata": {},
   "outputs": [],
   "source": [
    "x_train_norm = MMScaler.transform(x_train)\n",
    "x_test_norm = MMScaler.transform(x_test)"
   ]
  },
  {
   "cell_type": "markdown",
   "metadata": {},
   "source": [
    "### 4. Création de nouvelles variables caractéristiques par combinaisons linéaires des variables initiales :"
   ]
  },
  {
   "cell_type": "code",
   "execution_count": 33,
   "metadata": {},
   "outputs": [
    {
     "data": {
      "text/plain": [
       "(2187, 16)"
      ]
     },
     "execution_count": 33,
     "metadata": {},
     "output_type": "execute_result"
    }
   ],
   "source": [
    "pca = PCA(n_components=3)\n",
    "pca.fit(x_train_norm)\n",
    "\n",
    "x_train_pca = np.concatenate((x_train_norm, pca.transform(x_train_norm)), axis=1)\n",
    "x_test_pca = np.concatenate((x_test_norm, pca.transform(x_test_norm)), axis=1)\n",
    "\n",
    "x_train_pca.shape"
   ]
  },
  {
   "cell_type": "code",
   "execution_count": 34,
   "metadata": {},
   "outputs": [
    {
     "name": "stdout",
     "output_type": "stream",
     "text": [
      "Les indicateurs de  Cart :\n",
      "- Accuracy : 72.21%\n",
      "- Rappel : 79.48%\n",
      "- Précision : 81.65%\n",
      "- Matrice de confusion :\n",
      " [[ 321  283]\n",
      " [ 325 1259]]\n",
      "\n",
      "\n",
      "Les indicateurs de  KNN :\n",
      "- Accuracy : 74.45%\n",
      "- Rappel : 85.23%\n",
      "- Précision : 80.60%\n",
      "- Matrice de confusion :\n",
      " [[ 279  325]\n",
      " [ 234 1350]]\n",
      "\n",
      "\n",
      "Les indicateurs de  MLP :\n",
      "- Accuracy : 79.25%\n",
      "- Rappel : 88.95%\n",
      "- Précision : 83.47%\n",
      "- Matrice de confusion :\n",
      " [[ 325  279]\n",
      " [ 175 1409]]\n",
      "\n",
      "\n",
      "\n",
      " La meilleure Accuracy est donnée par l'algorithme  MLP  à  79.25%\n",
      "\n",
      " Le meilleure rappel est donnée par l'algorithme  MLP  à  88.95%\n",
      "\n",
      " La meilleure précision est donnée par l'algorithme  MLP  à  83.47%\n"
     ]
    }
   ],
   "source": [
    "testingClassifiers(x_train_PCA, x_test_pca, y_train, y_test)     "
   ]
  },
  {
   "cell_type": "markdown",
   "metadata": {},
   "source": [
    "***En testant les données ACP, MLP nous donne la meilleur précision et accuracy entre les trois classifieur.***"
   ]
  },
  {
   "cell_type": "markdown",
   "metadata": {},
   "source": [
    "**Après avoir testé avec les données brutes, normalisés et ACP, nous avons choisit MLP avec les données ACP qui nous donnent le meilleur couple (accuracy, précision)**"
   ]
  },
  {
   "cell_type": "markdown",
   "metadata": {},
   "source": [
    "### 5. Sélection de variables : "
   ]
  },
  {
   "cell_type": "code",
   "execution_count": 35,
   "metadata": {},
   "outputs": [
    {
     "name": "stdout",
     "output_type": "stream",
     "text": [
      "['Seniority' 'Home' 'Time' 'Age' 'Marital' 'Records' 'Job' 'Expenses'\n",
      " 'Income' 'Assets' 'Debt' 'Amount' 'Price' 'PCA1' 'PCA2' 'PCA3']\n"
     ]
    }
   ],
   "source": [
    "features= np.concatenate((cscores.columns[:13],['PCA1','PCA2','PCA3']))\n",
    "print(features)"
   ]
  },
  {
   "cell_type": "code",
   "execution_count": 37,
   "metadata": {},
   "outputs": [
    {
     "data": {
      "image/png": "[encoded data removed]",
      "text/plain": [
       "<Figure size 432x288 with 1 Axes>"
      ]
     },
     "metadata": {
      "needs_background": "light"
     },
     "output_type": "display_data"
    }
   ],
   "source": [
    "#histogramme des importances des variables\n",
    "clf = RandomForestClassifier(n_estimators=500)\n",
    "clf.fit(x_train_pca, y_train)\n",
    "\n",
    "importances=clf.feature_importances_\n",
    "\n",
    "std = np.std([tree.feature_importances_ for tree in clf.estimators_],axis=0)\n",
    "\n",
    "sorted_idx = np.argsort(importances)[::-1]\n",
    "\n",
    "padding = np.arange(x_train_pca.size/len(x_train_pca)) + 0.5\n",
    "\n",
    "plt.barh(padding, importances[sorted_idx],xerr=std[sorted_idx2], align='center')\n",
    "plt.yticks(padding, features[sorted_idx])\n",
    "plt.xlabel(\"Relative Importance\")\n",
    "plt.title(\"Variable Importance\")\n",
    "plt.show()"
   ]
  },
  {
   "cell_type": "code",
   "execution_count": 38,
   "metadata": {},
   "outputs": [
    {
     "data": {
      "image/png": "[encoded data removed]",
      "text/plain": [
       "<Figure size 432x288 with 1 Axes>"
      ]
     },
     "metadata": {
      "needs_background": "light"
     },
     "output_type": "display_data"
    },
    {
     "name": "stdout",
     "output_type": "stream",
     "text": [
      "[0.739 0.757 0.76  0.772 0.781 0.787 0.791 0.784 0.792 0.793 0.795 0.787\n",
      " 0.785 0.787 0.    0.    0.   ]\n"
     ]
    }
   ],
   "source": [
    "best_classifier = classifiers[2][1]\n",
    "\n",
    "scores = np.zeros(x_train_pca.shape[1]+1)\n",
    "\n",
    "for f in np.arange(0, x_train_norm.shape[1]+1):\n",
    "    X1_f = x_train_pca[:,sorted_idx[:f+1]]\n",
    "    X2_f = x_test_pca[:,sorted_idx[:f+1]] \n",
    "    best_classifier.fit(X1_f,y_train)\n",
    "    y_pred=best_classifier.predict(X2_f) \n",
    "    scores[f]=np.round(accuracy_score(y_test,y_pred),3)\n",
    "\n",
    "plt.plot(scores)\n",
    "plt.xlabel(\"Nombre de Variables\")\n",
    "plt.ylabel(\"Accuracy\")\n",
    "plt.title(\"Evolution de l'accuracy de MLP en fonction des variables normalisées\")\n",
    "plt.show()\n",
    "print(scores)"
   ]
  },
  {
   "cell_type": "markdown",
   "metadata": {},
   "source": [
    "**Le nombre de variable à garder est 13**"
   ]
  },
  {
   "cell_type": "code",
   "execution_count": 44,
   "metadata": {},
   "outputs": [],
   "source": [
    "best_var_number = 10\n",
    "best_idx = sorted_idx[:best_var_number]"
   ]
  },
  {
   "cell_type": "markdown",
   "metadata": {},
   "source": [
    "### 6. Paramétrage des classifieurs : "
   ]
  },
  {
   "cell_type": "code",
   "execution_count": 45,
   "metadata": {},
   "outputs": [
    {
     "name": "stdout",
     "output_type": "stream",
     "text": [
      "{'algorithm': 'ball_tree', 'n_neighbors': 10}\n",
      "0.7567299233379415\n",
      "Accuracy_score d'un KNN optimisé: 0.758\n"
     ]
    }
   ],
   "source": [
    "parametres = {\"n_neighbors\" : [0, 1, 2, 3, 4, 6, 8, 9, 10], 'algorithm': ['ball_tree', 'kd_tree', 'brute']}\n",
    "model = KNeighborsClassifier()\n",
    "\n",
    "GS= GridSearchCV(model, parametres, scoring='accuracy', cv=10)\n",
    "grid= GS.fit(x_train_pca, y_train)\n",
    "print(grid.best_params_)\n",
    "print(grid.best_score_)\n",
    "\n",
    "YKNN_O = grid.predict(x_test_pca)\n",
    "print(\"Accuracy_score d'un KNN optimisé: {0:.3f}\".format(accuracy_score(y_test, YKNN_O)))"
   ]
  },
  {
   "cell_type": "code",
   "execution_count": 46,
   "metadata": {},
   "outputs": [
    {
     "name": "stdout",
     "output_type": "stream",
     "text": [
      "{'n_neighbors': 9}\n",
      "0.757647354530602\n",
      "Accuracy_score d'un KNN optimisé: 0.762\n"
     ]
    }
   ],
   "source": [
    "parametres = {\"n_neighbors\" : [0, 1, 2, 3, 4, 6, 8, 9, 10]}\n",
    "model = KNeighborsClassifier()\n",
    "\n",
    "GS= GridSearchCV(model, parametres, scoring='accuracy', cv=10)\n",
    "grid= GS.fit(x_train_pca[:,best_idx], y_train)\n",
    "print(grid.best_params_)\n",
    "print(grid.best_score_)\n",
    "\n",
    "YKNN_O2 = grid.predict(x_test_pca[:,best_idx])\n",
    "print(\"Accuracy_score d'un KNN optimisé: {0:.3f}\".format(accuracy_score(y_test, YKNN_O2)))"
   ]
  },
  {
   "cell_type": "markdown",
   "metadata": {},
   "source": [
    "### 7. Création d’un pipeline :"
   ]
  },
  {
   "cell_type": "code",
   "execution_count": 47,
   "metadata": {},
   "outputs": [],
   "source": [
    "P = Pipeline([('mm', MinMaxScaler()), ('classifieur', MLPClassifier(hidden_layer_sizes=(40, 20), random_state=1))])\n",
    "P.fit(X, Y)\n",
    "pickle.dump(P, open(\"pipeline.pkl\", \"wb\"))"
   ]
  },
  {
   "cell_type": "markdown",
   "metadata": {},
   "source": [
    "### 8. Comparaison de plusieurs algorithmes d’apprentissage : "
   ]
  },
  {
   "cell_type": "code",
   "execution_count": 48,
   "metadata": {},
   "outputs": [],
   "source": [
    "clfs = {\n",
    "    \"NaiveBayes\": GaussianNB(),\n",
    "    \"Cart\": DecisionTreeClassifier(random_state=1),\n",
    "    \"ID3\": DecisionTreeClassifier(criterion=\"entropy\"),\n",
    "    \"DecisionStump\": BaggingClassifier(KNeighborsClassifier(), max_samples=0.5, max_features=0.5),\n",
    "    \"MLP\": MLPClassifier(hidden_layer_sizes=(20, 10)),\n",
    "    \"KNN\": KNeighborsClassifier(n_neighbors=5),\n",
    "    \"Bagging\": BaggingClassifier(n_estimators=50),\n",
    "    \"Adaboost\": AdaBoostClassifier(n_estimators=50),\n",
    "    \"Randomforest\": RandomForestClassifier(n_estimators=50)\n",
    "}"
   ]
  },
  {
   "cell_type": "code",
   "execution_count": 51,
   "metadata": {},
   "outputs": [],
   "source": [
    "def run_classifiers(cs, X, Y):\n",
    "    kf = KFold(n_splits=10, shuffle=True, random_state=0) \n",
    "    scoring = {'accuracy' : make_scorer(accuracy_score), \n",
    "               'precision' : make_scorer(precision_score)}\n",
    "    for c in cs:\n",
    "        clf = cs[c]\n",
    "        start_time = time.time()\n",
    "        cv_acc = cross_val_score(clf, X, Y, cv=kf)\n",
    "        cv_prs = cross_val_score(clf, X, Y, cv=kf, scoring='precision')\n",
    "        exec_time = time.time() - start_time\n",
    "        \n",
    "        print(\"Temps d'éxecution de \", c ,\":\", \"{0:.4f}\".format(exec_time),\"secondes\")\n",
    "        print(\"Accuracy for\", c, \"is: {1:.3f} +/- {2:.3f}\".format(c, np.mean(cv_acc), np.std(cv_acc)))\n",
    "        print(\"Precision for\", c, \"is: {1:.3f} +/- {2:.3f}\".format(c, np.mean(cv_prs), np.std(cv_prs)))\n",
    "        print(\"\\n\")"
   ]
  },
  {
   "cell_type": "code",
   "execution_count": 52,
   "metadata": {},
   "outputs": [
    {
     "name": "stdout",
     "output_type": "stream",
     "text": [
      "Temps d'éxecution de  NaiveBayes : 0.0725 secondes\n",
      "Accuracy for NaiveBayes is: 0.772 +/- 0.022\n",
      "Precision for NaiveBayes is: 0.828 +/- 0.018\n",
      "\n",
      "\n",
      "Temps d'éxecution de  Cart : 0.2976 secondes\n",
      "Accuracy for Cart is: 0.727 +/- 0.025\n",
      "Precision for Cart is: 0.808 +/- 0.022\n",
      "\n",
      "\n",
      "Temps d'éxecution de  ID3 : 0.3230 secondes\n",
      "Accuracy for ID3 is: 0.718 +/- 0.022\n",
      "Precision for ID3 is: 0.813 +/- 0.023\n",
      "\n",
      "\n",
      "Temps d'éxecution de  DecisionStump : 0.6447 secondes\n",
      "Accuracy for DecisionStump is: 0.737 +/- 0.021\n",
      "Precision for DecisionStump is: 0.743 +/- 0.016\n",
      "\n",
      "\n",
      "Temps d'éxecution de  MLP : 7.4453 secondes\n",
      "Accuracy for MLP is: 0.734 +/- 0.037\n",
      "Precision for MLP is: 0.786 +/- 0.041\n",
      "\n",
      "\n",
      "Temps d'éxecution de  KNN : 0.2879 secondes\n",
      "Accuracy for KNN is: 0.715 +/- 0.017\n",
      "Precision for KNN is: 0.767 +/- 0.019\n",
      "\n",
      "\n",
      "Temps d'éxecution de  Bagging : 9.1752 secondes\n",
      "Accuracy for Bagging is: 0.776 +/- 0.016\n",
      "Precision for Bagging is: 0.825 +/- 0.016\n",
      "\n",
      "\n",
      "Temps d'éxecution de  Adaboost : 2.4983 secondes\n",
      "Accuracy for Adaboost is: 0.788 +/- 0.016\n",
      "Precision for Adaboost is: 0.823 +/- 0.018\n",
      "\n",
      "\n",
      "Temps d'éxecution de  Randomforest : 3.4250 secondes\n",
      "Accuracy for Randomforest is: 0.782 +/- 0.016\n",
      "Precision for Randomforest is: 0.815 +/- 0.018\n",
      "\n",
      "\n"
     ]
    }
   ],
   "source": [
    "run_classifiers(clfs, X, Y)"
   ]
  },
  {
   "cell_type": "markdown",
   "metadata": {},
   "source": [
    "**Conclusion** #TODO"
   ]
  },
  {
   "cell_type": "markdown",
   "metadata": {},
   "source": [
    "# II. Apprentissage supervisé : Données hétérogènes"
   ]
  },
  {
   "cell_type": "markdown",
   "metadata": {},
   "source": [
    "### • Chargement des données et préparation :"
   ]
  },
  {
   "cell_type": "code",
   "execution_count": 157,
   "metadata": {},
   "outputs": [
    {
     "data": {
      "text/html": [
       "<div>\n",
       "<style scoped>\n",
       "    .dataframe tbody tr th:only-of-type {\n",
       "        vertical-align: middle;\n",
       "    }\n",
       "\n",
       "    .dataframe tbody tr th {\n",
       "        vertical-align: top;\n",
       "    }\n",
       "\n",
       "    .dataframe thead th {\n",
       "        text-align: right;\n",
       "    }\n",
       "</style>\n",
       "<table border=\"1\" class=\"dataframe\">\n",
       "  <thead>\n",
       "    <tr style=\"text-align: right;\">\n",
       "      <th></th>\n",
       "      <th>0</th>\n",
       "      <th>1</th>\n",
       "      <th>2</th>\n",
       "      <th>3</th>\n",
       "      <th>4</th>\n",
       "      <th>5</th>\n",
       "      <th>6</th>\n",
       "      <th>7</th>\n",
       "      <th>8</th>\n",
       "      <th>9</th>\n",
       "      <th>10</th>\n",
       "      <th>11</th>\n",
       "      <th>12</th>\n",
       "      <th>13</th>\n",
       "      <th>14</th>\n",
       "      <th>15</th>\n",
       "    </tr>\n",
       "  </thead>\n",
       "  <tbody>\n",
       "    <tr>\n",
       "      <th>0</th>\n",
       "      <td>b</td>\n",
       "      <td>30.83</td>\n",
       "      <td>0.000</td>\n",
       "      <td>u</td>\n",
       "      <td>g</td>\n",
       "      <td>w</td>\n",
       "      <td>v</td>\n",
       "      <td>1.25</td>\n",
       "      <td>t</td>\n",
       "      <td>t</td>\n",
       "      <td>1</td>\n",
       "      <td>f</td>\n",
       "      <td>g</td>\n",
       "      <td>202</td>\n",
       "      <td>0</td>\n",
       "      <td>+</td>\n",
       "    </tr>\n",
       "    <tr>\n",
       "      <th>1</th>\n",
       "      <td>a</td>\n",
       "      <td>58.67</td>\n",
       "      <td>4.460</td>\n",
       "      <td>u</td>\n",
       "      <td>g</td>\n",
       "      <td>q</td>\n",
       "      <td>h</td>\n",
       "      <td>3.04</td>\n",
       "      <td>t</td>\n",
       "      <td>t</td>\n",
       "      <td>6</td>\n",
       "      <td>f</td>\n",
       "      <td>g</td>\n",
       "      <td>43</td>\n",
       "      <td>560</td>\n",
       "      <td>+</td>\n",
       "    </tr>\n",
       "    <tr>\n",
       "      <th>2</th>\n",
       "      <td>a</td>\n",
       "      <td>24.50</td>\n",
       "      <td>0.500</td>\n",
       "      <td>u</td>\n",
       "      <td>g</td>\n",
       "      <td>q</td>\n",
       "      <td>h</td>\n",
       "      <td>1.50</td>\n",
       "      <td>t</td>\n",
       "      <td>f</td>\n",
       "      <td>0</td>\n",
       "      <td>f</td>\n",
       "      <td>g</td>\n",
       "      <td>280</td>\n",
       "      <td>824</td>\n",
       "      <td>+</td>\n",
       "    </tr>\n",
       "    <tr>\n",
       "      <th>3</th>\n",
       "      <td>b</td>\n",
       "      <td>27.83</td>\n",
       "      <td>1.540</td>\n",
       "      <td>u</td>\n",
       "      <td>g</td>\n",
       "      <td>w</td>\n",
       "      <td>v</td>\n",
       "      <td>3.75</td>\n",
       "      <td>t</td>\n",
       "      <td>t</td>\n",
       "      <td>5</td>\n",
       "      <td>t</td>\n",
       "      <td>g</td>\n",
       "      <td>100</td>\n",
       "      <td>3</td>\n",
       "      <td>+</td>\n",
       "    </tr>\n",
       "    <tr>\n",
       "      <th>4</th>\n",
       "      <td>b</td>\n",
       "      <td>20.17</td>\n",
       "      <td>5.625</td>\n",
       "      <td>u</td>\n",
       "      <td>g</td>\n",
       "      <td>w</td>\n",
       "      <td>v</td>\n",
       "      <td>1.71</td>\n",
       "      <td>t</td>\n",
       "      <td>f</td>\n",
       "      <td>0</td>\n",
       "      <td>f</td>\n",
       "      <td>s</td>\n",
       "      <td>120</td>\n",
       "      <td>0</td>\n",
       "      <td>+</td>\n",
       "    </tr>\n",
       "  </tbody>\n",
       "</table>\n",
       "</div>"
      ],
      "text/plain": [
       "  0      1      2  3  4  5  6     7  8  9   10 11 12   13   14 15\n",
       "0  b  30.83  0.000  u  g  w  v  1.25  t  t   1  f  g  202    0  +\n",
       "1  a  58.67  4.460  u  g  q  h  3.04  t  t   6  f  g   43  560  +\n",
       "2  a  24.50  0.500  u  g  q  h  1.50  t  f   0  f  g  280  824  +\n",
       "3  b  27.83  1.540  u  g  w  v  3.75  t  t   5  t  g  100    3  +\n",
       "4  b  20.17  5.625  u  g  w  v  1.71  t  f   0  f  s  120    0  +"
      ]
     },
     "execution_count": 157,
     "metadata": {},
     "output_type": "execute_result"
    }
   ],
   "source": [
    "credit = pd.read_csv(\"./credit.data\", sep=\"\\s+\", header=None )\n",
    "credit.head(5)"
   ]
  },
  {
   "cell_type": "code",
   "execution_count": 218,
   "metadata": {},
   "outputs": [
    {
     "data": {
      "text/plain": [
       "(688, 16)"
      ]
     },
     "execution_count": 218,
     "metadata": {},
     "output_type": "execute_result"
    }
   ],
   "source": [
    "credit_numpy = credit.values\n",
    "credit_numpy.shape"
   ]
  },
  {
   "cell_type": "code",
   "execution_count": 244,
   "metadata": {},
   "outputs": [],
   "source": [
    "Xcred = credit_numpy[:, 0:15] #variables caractéristiques\n",
    "Ycred = credit_numpy[:, 15:16] #target"
   ]
  },
  {
   "cell_type": "code",
   "execution_count": 224,
   "metadata": {},
   "outputs": [
    {
     "data": {
      "text/html": [
       "<div>\n",
       "<style scoped>\n",
       "    .dataframe tbody tr th:only-of-type {\n",
       "        vertical-align: middle;\n",
       "    }\n",
       "\n",
       "    .dataframe tbody tr th {\n",
       "        vertical-align: top;\n",
       "    }\n",
       "\n",
       "    .dataframe thead th {\n",
       "        text-align: right;\n",
       "    }\n",
       "</style>\n",
       "<table border=\"1\" class=\"dataframe\">\n",
       "  <thead>\n",
       "    <tr style=\"text-align: right;\">\n",
       "      <th></th>\n",
       "      <th>1</th>\n",
       "      <th>2</th>\n",
       "      <th>7</th>\n",
       "      <th>10</th>\n",
       "      <th>13</th>\n",
       "      <th>14</th>\n",
       "    </tr>\n",
       "  </thead>\n",
       "  <tbody>\n",
       "    <tr>\n",
       "      <th>0</th>\n",
       "      <td>30.83</td>\n",
       "      <td>0.000</td>\n",
       "      <td>1.25</td>\n",
       "      <td>1</td>\n",
       "      <td>202</td>\n",
       "      <td>0</td>\n",
       "    </tr>\n",
       "    <tr>\n",
       "      <th>1</th>\n",
       "      <td>58.67</td>\n",
       "      <td>4.460</td>\n",
       "      <td>3.04</td>\n",
       "      <td>6</td>\n",
       "      <td>43</td>\n",
       "      <td>560</td>\n",
       "    </tr>\n",
       "    <tr>\n",
       "      <th>2</th>\n",
       "      <td>24.50</td>\n",
       "      <td>0.500</td>\n",
       "      <td>1.50</td>\n",
       "      <td>0</td>\n",
       "      <td>280</td>\n",
       "      <td>824</td>\n",
       "    </tr>\n",
       "    <tr>\n",
       "      <th>3</th>\n",
       "      <td>27.83</td>\n",
       "      <td>1.540</td>\n",
       "      <td>3.75</td>\n",
       "      <td>5</td>\n",
       "      <td>100</td>\n",
       "      <td>3</td>\n",
       "    </tr>\n",
       "    <tr>\n",
       "      <th>4</th>\n",
       "      <td>20.17</td>\n",
       "      <td>5.625</td>\n",
       "      <td>1.71</td>\n",
       "      <td>0</td>\n",
       "      <td>120</td>\n",
       "      <td>0</td>\n",
       "    </tr>\n",
       "    <tr>\n",
       "      <th>...</th>\n",
       "      <td>...</td>\n",
       "      <td>...</td>\n",
       "      <td>...</td>\n",
       "      <td>...</td>\n",
       "      <td>...</td>\n",
       "      <td>...</td>\n",
       "    </tr>\n",
       "    <tr>\n",
       "      <th>683</th>\n",
       "      <td>21.08</td>\n",
       "      <td>10.085</td>\n",
       "      <td>1.25</td>\n",
       "      <td>0</td>\n",
       "      <td>260</td>\n",
       "      <td>0</td>\n",
       "    </tr>\n",
       "    <tr>\n",
       "      <th>684</th>\n",
       "      <td>22.67</td>\n",
       "      <td>0.750</td>\n",
       "      <td>2.00</td>\n",
       "      <td>2</td>\n",
       "      <td>200</td>\n",
       "      <td>394</td>\n",
       "    </tr>\n",
       "    <tr>\n",
       "      <th>685</th>\n",
       "      <td>25.25</td>\n",
       "      <td>13.500</td>\n",
       "      <td>2.00</td>\n",
       "      <td>1</td>\n",
       "      <td>200</td>\n",
       "      <td>1</td>\n",
       "    </tr>\n",
       "    <tr>\n",
       "      <th>686</th>\n",
       "      <td>17.92</td>\n",
       "      <td>0.205</td>\n",
       "      <td>0.04</td>\n",
       "      <td>0</td>\n",
       "      <td>280</td>\n",
       "      <td>750</td>\n",
       "    </tr>\n",
       "    <tr>\n",
       "      <th>687</th>\n",
       "      <td>35.00</td>\n",
       "      <td>3.375</td>\n",
       "      <td>8.29</td>\n",
       "      <td>0</td>\n",
       "      <td>0</td>\n",
       "      <td>0</td>\n",
       "    </tr>\n",
       "  </tbody>\n",
       "</table>\n",
       "<p>688 rows × 6 columns</p>\n",
       "</div>"
      ],
      "text/plain": [
       "        1       2     7   10   13   14\n",
       "0    30.83   0.000  1.25   1  202    0\n",
       "1    58.67   4.460  3.04   6   43  560\n",
       "2    24.50   0.500  1.50   0  280  824\n",
       "3    27.83   1.540  3.75   5  100    3\n",
       "4    20.17   5.625  1.71   0  120    0\n",
       "..     ...     ...   ...  ..  ...  ...\n",
       "683  21.08  10.085  1.25   0  260    0\n",
       "684  22.67   0.750  2.00   2  200  394\n",
       "685  25.25  13.500  2.00   1  200    1\n",
       "686  17.92   0.205  0.04   0  280  750\n",
       "687  35.00   3.375  8.29   0    0    0\n",
       "\n",
       "[688 rows x 6 columns]"
      ]
     },
     "execution_count": 224,
     "metadata": {},
     "output_type": "execute_result"
    }
   ],
   "source": [
    "credit2 = credit[[1, 2, 7, 10, 13, 14]]\n",
    "credit2"
   ]
  },
  {
   "cell_type": "code",
   "execution_count": 225,
   "metadata": {},
   "outputs": [],
   "source": [
    "credit2 = credit2.replace('?', np.NaN)"
   ]
  },
  {
   "cell_type": "code",
   "execution_count": 226,
   "metadata": {},
   "outputs": [],
   "source": [
    "credit2 = credit2.astype(float)"
   ]
  },
  {
   "cell_type": "code",
   "execution_count": 227,
   "metadata": {},
   "outputs": [
    {
     "name": "stdout",
     "output_type": "stream",
     "text": [
      "[71, 83, 86, 92, 97, 241, 252, 268, 276, 284, 327, 328, 404, 443, 448, 454, 498, 513, 590, 606, 620, 624]\n"
     ]
    }
   ],
   "source": [
    "rows_with_nan = []\n",
    "for index, row in credit2.iterrows():\n",
    "    is_nan_series = row.isnull()\n",
    "    if is_nan_series.any():\n",
    "        rows_with_nan.append(index)\n",
    "\n",
    "print(rows_with_nan)"
   ]
  },
  {
   "cell_type": "code",
   "execution_count": 228,
   "metadata": {},
   "outputs": [
    {
     "name": "stdout",
     "output_type": "stream",
     "text": [
      "688 echantillons avec données manquantes\n"
     ]
    }
   ],
   "source": [
    "n1 = credit2.shape[0]\n",
    "print(n1, 'echantillons avec données manquantes')"
   ]
  },
  {
   "cell_type": "code",
   "execution_count": 229,
   "metadata": {},
   "outputs": [
    {
     "name": "stdout",
     "output_type": "stream",
     "text": [
      "666 echantillons sans données manquantes\n",
      "nous avons supprimé 22 individus\n"
     ]
    }
   ],
   "source": [
    "credit2 = credit2.drop(rows_with_nan)\n",
    "n2 = credit2.shape[0]\n",
    "print(n2, 'echantillons sans données manquantes')\n",
    "print('nous avons supprimé', n1 - n2, 'individus')"
   ]
  },
  {
   "cell_type": "code",
   "execution_count": 230,
   "metadata": {},
   "outputs": [
    {
     "data": {
      "text/plain": [
       "array([[<AxesSubplot:title={'center':'15'}>]], dtype=object)"
      ]
     },
     "execution_count": 230,
     "metadata": {},
     "output_type": "execute_result"
    },
    {
     "data": {
      "image/png": "[encoded data removed]",
      "text/plain": [
       "<Figure size 432x288 with 1 Axes>"
      ]
     },
     "metadata": {
      "needs_background": "light"
     },
     "output_type": "display_data"
    }
   ],
   "source": [
    "app_dis = credit.replace('+', 1)\n",
    "app_dis = app_dis.replace('-', 0)\n",
    "app_dis.hist(15)"
   ]
  },
  {
   "cell_type": "code",
   "execution_count": 231,
   "metadata": {},
   "outputs": [],
   "source": [
    "approved = np.sum(Ycred=='+')/len(Ycred)\n",
    "disapproved = np.sum(Ycred=='-')/len(Ycred) "
   ]
  },
  {
   "cell_type": "code",
   "execution_count": 232,
   "metadata": {},
   "outputs": [
    {
     "name": "stdout",
     "output_type": "stream",
     "text": [
      "44.33% des demandes de crédits on été acceptés.\n",
      "55.67% des demandes de crédits on été refusés.\n"
     ]
    }
   ],
   "source": [
    "print(\"{0:.2f}%\".format(approved * 100), \"des demandes de crédits on été acceptés.\")\n",
    "print(\"{0:.2f}%\".format(disapproved * 100), \"des demandes de crédits on été refusés.\")"
   ]
  },
  {
   "cell_type": "code",
   "execution_count": 233,
   "metadata": {},
   "outputs": [],
   "source": [
    "Ycred[Ycred == '+'] = '1'\n",
    "Ycred[Ycred == '-'] = '0'\n",
    "Ycred = Ycred.astype(int)"
   ]
  },
  {
   "cell_type": "markdown",
   "metadata": {},
   "source": [
    "### • Normalisation des variables continues : "
   ]
  },
  {
   "cell_type": "code",
   "execution_count": 245,
   "metadata": {},
   "outputs": [],
   "source": [
    "credit2_numpy = credit2.values\n",
    "Xcred2 = credit2_numpy[:, 1:]"
   ]
  },
  {
   "cell_type": "code",
   "execution_count": 246,
   "metadata": {},
   "outputs": [],
   "source": [
    "S_Scaler= StandardScaler()\n",
    "S_Scaler.fit(Xcred2)\n",
    "x_norm = S_Scaler.transform(Xcred2)"
   ]
  },
  {
   "cell_type": "code",
   "execution_count": 247,
   "metadata": {},
   "outputs": [
    {
     "data": {
      "text/plain": [
       "(666,)"
      ]
     },
     "execution_count": 247,
     "metadata": {},
     "output_type": "execute_result"
    }
   ],
   "source": [
    "Ycred2 = np.delete(Ycred, rows_with_nan)\n",
    "Ycred2.shape"
   ]
  },
  {
   "cell_type": "code",
   "execution_count": 248,
   "metadata": {},
   "outputs": [
    {
     "name": "stdout",
     "output_type": "stream",
     "text": [
      "Temps d'éxecution de  NaiveBayes : 0.0611 secondes\n",
      "Accuracy for NaiveBayes is: 0.718 +/- 0.047\n",
      "Precision for NaiveBayes is: nan +/- nan\n",
      "\n",
      "\n",
      "Temps d'éxecution de  Cart : 0.0493 secondes\n",
      "Accuracy for Cart is: 0.718 +/- 0.052\n",
      "Precision for Cart is: nan +/- nan\n",
      "\n",
      "\n",
      "Temps d'éxecution de  ID3 : 0.0442 secondes\n",
      "Accuracy for ID3 is: 0.742 +/- 0.051\n",
      "Precision for ID3 is: nan +/- nan\n",
      "\n",
      "\n",
      "Temps d'éxecution de  DecisionStump : 0.2189 secondes\n",
      "Accuracy for DecisionStump is: 0.760 +/- 0.055\n",
      "Precision for DecisionStump is: nan +/- nan\n",
      "\n",
      "\n",
      "Temps d'éxecution de  MLP : 3.6696 secondes\n",
      "Accuracy for MLP is: 0.775 +/- 0.040\n",
      "Precision for MLP is: nan +/- nan\n",
      "\n",
      "\n",
      "Temps d'éxecution de  KNN : 0.0716 secondes\n",
      "Accuracy for KNN is: 0.722 +/- 0.061\n",
      "Precision for KNN is: nan +/- nan\n",
      "\n",
      "\n",
      "Temps d'éxecution de  Bagging : 1.4872 secondes\n",
      "Accuracy for Bagging is: 0.784 +/- 0.043\n",
      "Precision for Bagging is: nan +/- nan\n",
      "\n",
      "\n",
      "Temps d'éxecution de  Adaboost : 1.2565 secondes\n",
      "Accuracy for Adaboost is: 0.784 +/- 0.045\n",
      "Precision for Adaboost is: nan +/- nan\n",
      "\n",
      "\n",
      "Temps d'éxecution de  Randomforest : 1.0676 secondes\n",
      "Accuracy for Randomforest is: 0.782 +/- 0.055\n",
      "Precision for Randomforest is: nan +/- nan\n",
      "\n",
      "\n"
     ]
    }
   ],
   "source": [
    "run_classifiers(clfs, x_norm, Ycred2)"
   ]
  },
  {
   "cell_type": "markdown",
   "metadata": {},
   "source": [
    "**conlusion** #TODO"
   ]
  },
  {
   "cell_type": "markdown",
   "metadata": {},
   "source": [
    "### • Traitement de données manquantes :"
   ]
  },
  {
   "cell_type": "code",
   "execution_count": 252,
   "metadata": {},
   "outputs": [],
   "source": [
    "#Récupération et transfomation des colonnes catégorielles \n",
    "#en valeurs numériques \n",
    "col_cat = [0, 3, 4, 5, 6, 8, 9, 11, 12]\n",
    "X_cat = np.copy(Xcred[:, col_cat]) \n",
    "for col_id in range(len(col_cat)):\n",
    "    unique_val, val_idx = np.unique(X_cat[:, col_id], return_inverse=True) \n",
    "    X_cat[:, col_id] = val_idx"
   ]
  },
  {
   "cell_type": "code",
   "execution_count": 239,
   "metadata": {},
   "outputs": [],
   "source": [
    "#Imputation avec most_frequent pour les variables catégorielles\n",
    "imp_cat = Imputer(missing_values=0, strategy='most_frequent') \n",
    "X_cat[:, range(5)] = imp_cat.fit_transform(X_cat[:, range(5)])"
   ]
  },
  {
   "cell_type": "code",
   "execution_count": 249,
   "metadata": {},
   "outputs": [],
   "source": [
    "#encodage des variables catégorielle avec OneHotEncoder\n",
    "X_cat_bin = OneHotEncoder().fit_transform(X_cat).toarray()"
   ]
  },
  {
   "cell_type": "code",
   "execution_count": 257,
   "metadata": {},
   "outputs": [
    {
     "data": {
      "text/plain": [
       "(688, 40)"
      ]
     },
     "execution_count": 257,
     "metadata": {},
     "output_type": "execute_result"
    }
   ],
   "source": [
    "X_cat_bin.shape"
   ]
  },
  {
   "cell_type": "code",
   "execution_count": 240,
   "metadata": {},
   "outputs": [],
   "source": [
    "#Récupération des colonnes numériques et remplacement des valeurs\n",
    "#manquantes par NaN \n",
    "col_num= [1, 2, 7, 13, 14]\n",
    "\n",
    "X_num = np.copy(Xcred[:, col_num]) \n",
    "X_num[X_num == '?'] = np.nan \n",
    "X_num = X_num.astype(float)\n"
   ]
  },
  {
   "cell_type": "code",
   "execution_count": 254,
   "metadata": {},
   "outputs": [],
   "source": [
    "#Imputation avec mean pour les variables continues\n",
    "imp_num = Imputer(missing_values=np.nan, strategy='mean') \n",
    "X_num = imp_num.fit_transform(X_num)\n"
   ]
  },
  {
   "cell_type": "code",
   "execution_count": 255,
   "metadata": {},
   "outputs": [],
   "source": [
    "#normalisation des variables numériques\n",
    "S_Scaler= StandardScaler()\n",
    "S_Scaler.fit(X_num)\n",
    "x_num_norm = S_Scaler.transform(X_num)"
   ]
  },
  {
   "cell_type": "code",
   "execution_count": 258,
   "metadata": {},
   "outputs": [
    {
     "data": {
      "text/plain": [
       "(688, 5)"
      ]
     },
     "execution_count": 258,
     "metadata": {},
     "output_type": "execute_result"
    }
   ],
   "source": [
    "x_num_norm.shape"
   ]
  },
  {
   "cell_type": "code",
   "execution_count": 263,
   "metadata": {},
   "outputs": [
    {
     "data": {
      "text/plain": [
       "(688, 45)"
      ]
     },
     "execution_count": 263,
     "metadata": {},
     "output_type": "execute_result"
    }
   ],
   "source": [
    "#Construction de votre jeu de données \n",
    "x_final= np.concatenate((X_cat_bin, x_num_norm), axis = 1)\n",
    "x_final.shape"
   ]
  },
  {
   "cell_type": "code",
   "execution_count": 264,
   "metadata": {},
   "outputs": [
    {
     "name": "stdout",
     "output_type": "stream",
     "text": [
      "Temps d'éxecution de  NaiveBayes : 0.0618 secondes\n",
      "Accuracy for NaiveBayes is: 0.677 +/- 0.054\n",
      "Precision for NaiveBayes is: nan +/- nan\n",
      "\n",
      "\n",
      "Temps d'éxecution de  Cart : 0.0676 secondes\n",
      "Accuracy for Cart is: 0.824 +/- 0.051\n",
      "Precision for Cart is: nan +/- nan\n",
      "\n",
      "\n",
      "Temps d'éxecution de  ID3 : 0.0599 secondes\n",
      "Accuracy for ID3 is: 0.818 +/- 0.050\n",
      "Precision for ID3 is: nan +/- nan\n",
      "\n",
      "\n",
      "Temps d'éxecution de  DecisionStump : 0.2810 secondes\n",
      "Accuracy for DecisionStump is: 0.859 +/- 0.030\n",
      "Precision for DecisionStump is: nan +/- nan\n",
      "\n",
      "\n",
      "Temps d'éxecution de  MLP : 5.1734 secondes\n",
      "Accuracy for MLP is: 0.859 +/- 0.042\n",
      "Precision for MLP is: nan +/- nan\n",
      "\n",
      "\n",
      "Temps d'éxecution de  KNN : 0.0663 secondes\n",
      "Accuracy for KNN is: 0.842 +/- 0.047\n",
      "Precision for KNN is: nan +/- nan\n",
      "\n",
      "\n",
      "Temps d'éxecution de  Bagging : 1.9854 secondes\n",
      "Accuracy for Bagging is: 0.871 +/- 0.037\n",
      "Precision for Bagging is: nan +/- nan\n",
      "\n",
      "\n",
      "Temps d'éxecution de  Adaboost : 1.3264 secondes\n",
      "Accuracy for Adaboost is: 0.842 +/- 0.021\n",
      "Precision for Adaboost is: nan +/- nan\n",
      "\n",
      "\n",
      "Temps d'éxecution de  Randomforest : 1.0524 secondes\n",
      "Accuracy for Randomforest is: 0.874 +/- 0.037\n",
      "Precision for Randomforest is: nan +/- nan\n",
      "\n",
      "\n"
     ]
    }
   ],
   "source": [
    "run_classifiers(clfs, x_final, Ycred)"
   ]
  },
  {
   "cell_type": "markdown",
   "metadata": {},
   "source": [
    "**conclusion** TODO"
   ]
  },
  {
   "cell_type": "markdown",
   "metadata": {},
   "source": [
    "# III. Apprentissage supervisé sur des données textuelles : Feature engineering et Classification"
   ]
  },
  {
   "cell_type": "markdown",
   "metadata": {},
   "source": [
    "### • CountVectorizer "
   ]
  },
  {
   "cell_type": "markdown",
   "metadata": {},
   "source": [
    "### • Tf–idf term weighting"
   ]
  },
  {
   "cell_type": "markdown",
   "metadata": {},
   "source": [
    "### • TruncatedSVD "
   ]
  },
  {
   "cell_type": "markdown",
   "metadata": {},
   "source": [
    "### • Pipeline "
   ]
  },
  {
   "cell_type": "markdown",
   "metadata": {},
   "source": [
    "### • Application sur un autre jeu de données "
   ]
  },
  {
   "cell_type": "code",
   "execution_count": null,
   "metadata": {},
   "outputs": [],
   "source": []
  }
 ],
 "metadata": {
  "kernelspec": {
   "display_name": "Python 3",
   "language": "python",
   "name": "python3"
  },
  "language_info": {
   "codemirror_mode": {
    "name": "ipython",
    "version": 3
   },
   "file_extension": ".py",
   "mimetype": "text/x-python",
   "name": "python",
   "nbconvert_exporter": "python",
   "pygments_lexer": "ipython3",
   "version": "3.9.1"
  }
 },
 "nbformat": 4,
 "nbformat_minor": 4
}
