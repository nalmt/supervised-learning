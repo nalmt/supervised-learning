{
 "cells": [
  {
   "cell_type": "markdown",
   "metadata": {},
   "source": [
    "Emna Barred & Nabil Lamrabet"
   ]
  },
  {
   "cell_type": "code",
   "execution_count": 243,
   "metadata": {},
   "outputs": [],
   "source": [
    "import numpy as np\n",
    "np.set_printoptions(threshold=10000, suppress=True)\n",
    "import pandas as pd\n",
    "import time\n",
    "import operator\n",
    "import matplotlib.pyplot as plt\n",
    "from sklearn.tree import DecisionTreeClassifier\n",
    "from sklearn.neighbors import KNeighborsClassifier\n",
    "from sklearn.neural_network import MLPClassifier\n",
    "from sklearn.naive_bayes import GaussianNB\n",
    "from sklearn.ensemble import RandomForestClassifier, AdaBoostClassifier, BaggingClassifier\n",
    "from sklearn.metrics import confusion_matrix, accuracy_score, precision_score, recall_score, make_scorer\n",
    "from sklearn.model_selection import train_test_split, GridSearchCV, KFold, cross_val_score\n",
    "from sklearn import preprocessing\n",
    "from sklearn.preprocessing import StandardScaler, MinMaxScaler, OneHotEncoder\n",
    "from sklearn.decomposition import PCA\n",
    "from sklearn.pipeline import Pipeline, FeatureUnion\n",
    "import pickle\n",
    "import warnings\n",
    "from sklearn.impute import SimpleImputer as Imputer\n",
    "warnings.filterwarnings('ignore')"
   ]
  },
  {
   "cell_type": "markdown",
   "metadata": {},
   "source": [
    "# Apprentissage supervisé : Feature engineering et Classification"
   ]
  },
  {
   "cell_type": "markdown",
   "metadata": {},
   "source": [
    "### 1. Chargement des données et préparation : "
   ]
  },
  {
   "cell_type": "markdown",
   "metadata": {},
   "source": [
    "Importer ce jeu de données avec la librairie pandas (c.f. read_csv)"
   ]
  },
  {
   "cell_type": "code",
   "execution_count": 2,
   "metadata": {},
   "outputs": [
    {
     "data": {
      "text/html": [
       "<div>\n",
       "<style scoped>\n",
       "    .dataframe tbody tr th:only-of-type {\n",
       "        vertical-align: middle;\n",
       "    }\n",
       "\n",
       "    .dataframe tbody tr th {\n",
       "        vertical-align: top;\n",
       "    }\n",
       "\n",
       "    .dataframe thead th {\n",
       "        text-align: right;\n",
       "    }\n",
       "</style>\n",
       "<table border=\"1\" class=\"dataframe\">\n",
       "  <thead>\n",
       "    <tr style=\"text-align: right;\">\n",
       "      <th></th>\n",
       "      <th>Seniority</th>\n",
       "      <th>Home</th>\n",
       "      <th>Time</th>\n",
       "      <th>Age</th>\n",
       "      <th>Marital</th>\n",
       "      <th>Records</th>\n",
       "      <th>Job</th>\n",
       "      <th>Expenses</th>\n",
       "      <th>Income</th>\n",
       "      <th>Assets</th>\n",
       "      <th>Debt</th>\n",
       "      <th>Amount</th>\n",
       "      <th>Price</th>\n",
       "      <th>Status</th>\n",
       "    </tr>\n",
       "  </thead>\n",
       "  <tbody>\n",
       "    <tr>\n",
       "      <th>0</th>\n",
       "      <td>9.0</td>\n",
       "      <td>1.0</td>\n",
       "      <td>60.0</td>\n",
       "      <td>30.0</td>\n",
       "      <td>0.0</td>\n",
       "      <td>1.0</td>\n",
       "      <td>1.0</td>\n",
       "      <td>73.0</td>\n",
       "      <td>129.0</td>\n",
       "      <td>0.0</td>\n",
       "      <td>0.0</td>\n",
       "      <td>800.0</td>\n",
       "      <td>846.0</td>\n",
       "      <td>1</td>\n",
       "    </tr>\n",
       "    <tr>\n",
       "      <th>1</th>\n",
       "      <td>17.0</td>\n",
       "      <td>1.0</td>\n",
       "      <td>60.0</td>\n",
       "      <td>58.0</td>\n",
       "      <td>1.0</td>\n",
       "      <td>1.0</td>\n",
       "      <td>0.0</td>\n",
       "      <td>48.0</td>\n",
       "      <td>131.0</td>\n",
       "      <td>0.0</td>\n",
       "      <td>0.0</td>\n",
       "      <td>1000.0</td>\n",
       "      <td>1658.0</td>\n",
       "      <td>1</td>\n",
       "    </tr>\n",
       "    <tr>\n",
       "      <th>2</th>\n",
       "      <td>10.0</td>\n",
       "      <td>0.0</td>\n",
       "      <td>36.0</td>\n",
       "      <td>46.0</td>\n",
       "      <td>0.0</td>\n",
       "      <td>2.0</td>\n",
       "      <td>1.0</td>\n",
       "      <td>90.0</td>\n",
       "      <td>200.0</td>\n",
       "      <td>3000.0</td>\n",
       "      <td>0.0</td>\n",
       "      <td>2000.0</td>\n",
       "      <td>2985.0</td>\n",
       "      <td>0</td>\n",
       "    </tr>\n",
       "    <tr>\n",
       "      <th>3</th>\n",
       "      <td>0.0</td>\n",
       "      <td>1.0</td>\n",
       "      <td>60.0</td>\n",
       "      <td>24.0</td>\n",
       "      <td>1.0</td>\n",
       "      <td>1.0</td>\n",
       "      <td>0.0</td>\n",
       "      <td>63.0</td>\n",
       "      <td>182.0</td>\n",
       "      <td>2500.0</td>\n",
       "      <td>0.0</td>\n",
       "      <td>900.0</td>\n",
       "      <td>1325.0</td>\n",
       "      <td>1</td>\n",
       "    </tr>\n",
       "    <tr>\n",
       "      <th>4</th>\n",
       "      <td>0.0</td>\n",
       "      <td>1.0</td>\n",
       "      <td>36.0</td>\n",
       "      <td>26.0</td>\n",
       "      <td>1.0</td>\n",
       "      <td>1.0</td>\n",
       "      <td>0.0</td>\n",
       "      <td>46.0</td>\n",
       "      <td>107.0</td>\n",
       "      <td>0.0</td>\n",
       "      <td>0.0</td>\n",
       "      <td>310.0</td>\n",
       "      <td>910.0</td>\n",
       "      <td>1</td>\n",
       "    </tr>\n",
       "  </tbody>\n",
       "</table>\n",
       "</div>"
      ],
      "text/plain": [
       "   Seniority  Home  Time   Age  Marital  Records  Job  Expenses  Income  \\\n",
       "0        9.0   1.0  60.0  30.0      0.0      1.0  1.0      73.0   129.0   \n",
       "1       17.0   1.0  60.0  58.0      1.0      1.0  0.0      48.0   131.0   \n",
       "2       10.0   0.0  36.0  46.0      0.0      2.0  1.0      90.0   200.0   \n",
       "3        0.0   1.0  60.0  24.0      1.0      1.0  0.0      63.0   182.0   \n",
       "4        0.0   1.0  36.0  26.0      1.0      1.0  0.0      46.0   107.0   \n",
       "\n",
       "   Assets  Debt  Amount   Price  Status  \n",
       "0     0.0   0.0   800.0   846.0       1  \n",
       "1     0.0   0.0  1000.0  1658.0       1  \n",
       "2  3000.0   0.0  2000.0  2985.0       0  \n",
       "3  2500.0   0.0   900.0  1325.0       1  \n",
       "4     0.0   0.0   310.0   910.0       1  "
      ]
     },
     "execution_count": 2,
     "metadata": {},
     "output_type": "execute_result"
    }
   ],
   "source": [
    "cscores = pd.read_csv('./credit_scoring.csv', sep=';') \n",
    "cscores.head(5)"
   ]
  },
  {
   "cell_type": "markdown",
   "metadata": {},
   "source": [
    "Transformer votre jeu de données en numpy Array"
   ]
  },
  {
   "cell_type": "code",
   "execution_count": 3,
   "metadata": {},
   "outputs": [],
   "source": [
    "cscores_numpy = cscores.values"
   ]
  },
  {
   "cell_type": "code",
   "execution_count": 4,
   "metadata": {},
   "outputs": [
    {
     "name": "stdout",
     "output_type": "stream",
     "text": [
      "[[   9.    1.   60. ...  800.  846.    1.]\n",
      " [  17.    1.   60. ... 1000. 1658.    1.]\n",
      " [  10.    0.   36. ... 2000. 2985.    0.]\n",
      " ...\n",
      " [   0.    0.   24. ...  500.  963.    0.]\n",
      " [   0.    1.   48. ...  550.  550.    1.]\n",
      " [   5.    0.   60. ... 1350. 1650.    1.]]\n"
     ]
    }
   ],
   "source": [
    "print(cscores_numpy)"
   ]
  },
  {
   "cell_type": "markdown",
   "metadata": {},
   "source": [
    "séparer les variables caractéristiques de la variable à prédire"
   ]
  },
  {
   "cell_type": "code",
   "execution_count": 5,
   "metadata": {},
   "outputs": [],
   "source": [
    "X = cscores_numpy[:,0:13]\n",
    "Y = cscores_numpy[:,13-14]"
   ]
  },
  {
   "cell_type": "markdown",
   "metadata": {},
   "source": [
    "Analyser les propriétés de vos données"
   ]
  },
  {
   "cell_type": "code",
   "execution_count": 6,
   "metadata": {},
   "outputs": [
    {
     "name": "stdout",
     "output_type": "stream",
     "text": [
      "Nous avons 4375 échantillons\n"
     ]
    }
   ],
   "source": [
    "Nsamples = cscores_numpy.shape[0]\n",
    "print(\"Nous avons\", Nsamples, \"échantillons\")"
   ]
  },
  {
   "cell_type": "code",
   "execution_count": 7,
   "metadata": {},
   "outputs": [
    {
     "data": {
      "text/plain": [
       "array([[<AxesSubplot:title={'center':'Status'}>]], dtype=object)"
      ]
     },
     "execution_count": 7,
     "metadata": {},
     "output_type": "execute_result"
    },
    {
     "data": {
      "image/png": "[encoded data removed]",
      "text/plain": [
       "<Figure size 432x288 with 1 Axes>"
      ]
     },
     "metadata": {
      "needs_background": "light"
     },
     "output_type": "display_data"
    }
   ],
   "source": [
    "cscores.hist(column='Status')"
   ]
  },
  {
   "cell_type": "code",
   "execution_count": 8,
   "metadata": {},
   "outputs": [],
   "source": [
    "GC = np.sum(Y==1)/len(Y) #good creditor\n",
    "BC = np.sum(Y==0)/len(Y) #bad creditor"
   ]
  },
  {
   "cell_type": "code",
   "execution_count": 9,
   "metadata": {},
   "outputs": [
    {
     "name": "stdout",
     "output_type": "stream",
     "text": [
      "72.21%  personnes ayant une bonne solvabilité .\n",
      "27.79%  personnes ayant une mauvaise solvabilité .\n"
     ]
    }
   ],
   "source": [
    "print(\"{0:.2f}%\".format(GC * 100), \" personnes ayant une bonne solvabilité .\")\n",
    "print(\"{0:.2f}%\".format(BC * 100), \" personnes ayant une mauvaise solvabilité .\")"
   ]
  },
  {
   "cell_type": "markdown",
   "metadata": {},
   "source": [
    "séparer les données en deux parties (de taille 50% chacune) "
   ]
  },
  {
   "cell_type": "code",
   "execution_count": 10,
   "metadata": {},
   "outputs": [],
   "source": [
    "x_train, x_test, y_train, y_test = train_test_split(X, Y, test_size=0.5, random_state=1)"
   ]
  },
  {
   "cell_type": "markdown",
   "metadata": {},
   "source": [
    "### 2. Apprentissage et évaluation de modèles : "
   ]
  },
  {
   "cell_type": "markdown",
   "metadata": {},
   "source": [
    "Algorithmes d’apprentissage supervisé"
   ]
  },
  {
   "cell_type": "code",
   "execution_count": 11,
   "metadata": {},
   "outputs": [],
   "source": [
    "classifiers = [\n",
    "    (\"Cart\", DecisionTreeClassifier(random_state=1)),\n",
    "    (\"KNN\", KNeighborsClassifier(n_neighbors=5)),\n",
    "    (\"MLP\", MLPClassifier(hidden_layer_sizes=(40, 20), random_state=1)),\n",
    "]"
   ]
  },
  {
   "cell_type": "code",
   "execution_count": 12,
   "metadata": {},
   "outputs": [],
   "source": [
    "def testingClassifiers(x_train, x_test, y_train, y_test):\n",
    "    accuracies = {}\n",
    "    recalls = {}\n",
    "    precisions = {}\n",
    "    for cl in classifiers:\n",
    "        classifier = cl[1].fit(x_train, y_train)\n",
    "        y_pred = classifier.predict(x_test)\n",
    "        \n",
    "        accuracy = accuracy_score(y_test, y_pred)\n",
    "        recall = recall_score(y_test, y_pred)\n",
    "        precision = precision_score(y_test, y_pred)\n",
    "        confusion_mat = confusion_matrix(y_test, y_pred)\n",
    "        \n",
    "        accuracies[cl[0]] = accuracy\n",
    "        recalls[cl[0]] = recall\n",
    "        precisions[cl[0]] = precision\n",
    "        \n",
    "        print(\"Les indicateurs de \", cl[0], \":\")\n",
    "        print(\"- Accuracy :\", \"{0:.2f}%\".format(accuracy * 100))\n",
    "        print(\"- Rappel :\", \"{0:.2f}%\".format(recall * 100))\n",
    "        print(\"- Précision :\", \"{0:.2f}%\".format(precision * 100))\n",
    "        print(\"- Matrice de confusion :\\n\", confusion_mat)\n",
    "        print(\"\\n\")\n",
    "    \n",
    "    accuracies = dict(sorted(accuracies.items(), key=operator.itemgetter(1),reverse=True))\n",
    "    recalls = dict(sorted(recalls.items(), key=operator.itemgetter(1),reverse=True))\n",
    "    precisions = dict(sorted(precisions.items(), key=operator.itemgetter(1),reverse=True))\n",
    "\n",
    "\n",
    "    print(\"\\n La meilleure Accuracy est donnée par l'algorithme \", list(accuracies.keys())[0], \" à \", \"{0:.2f}%\".format(list(accuracies.values())[0]*100))\n",
    "    print(\"\\n Le meilleure rappel est donnée par l'algorithme \", list(recalls.keys())[0], \" à \", \"{0:.2f}%\".format(list(recalls.values())[0]*100))\n",
    "    print(\"\\n La meilleure précision est donnée par l'algorithme \", list(precisions.keys())[0], \" à \", \"{0:.2f}%\".format(list(precisions.values())[0]*100))"
   ]
  },
  {
   "cell_type": "code",
   "execution_count": 13,
   "metadata": {},
   "outputs": [
    {
     "name": "stdout",
     "output_type": "stream",
     "text": [
      "Les indicateurs de  Cart :\n",
      "- Accuracy : 72.71%\n",
      "- Rappel : 79.92%\n",
      "- Précision : 81.94%\n",
      "- Matrice de confusion :\n",
      " [[ 325  279]\n",
      " [ 318 1266]]\n",
      "\n",
      "\n",
      "Les indicateurs de  KNN :\n",
      "- Accuracy : 72.49%\n",
      "- Rappel : 88.19%\n",
      "- Précision : 77.10%\n",
      "- Matrice de confusion :\n",
      " [[ 189  415]\n",
      " [ 187 1397]]\n",
      "\n",
      "\n",
      "Les indicateurs de  MLP :\n",
      "- Accuracy : 70.38%\n",
      "- Rappel : 89.39%\n",
      "- Précision : 74.68%\n",
      "- Matrice de confusion :\n",
      " [[ 124  480]\n",
      " [ 168 1416]]\n",
      "\n",
      "\n",
      "\n",
      " La meilleure Accuracy est donnée par l'algorithme  Cart  à  72.71%\n",
      "\n",
      " Le meilleure rappel est donnée par l'algorithme  MLP  à  89.39%\n",
      "\n",
      " La meilleure précision est donnée par l'algorithme  Cart  à  81.94%\n"
     ]
    }
   ],
   "source": [
    "testingClassifiers(x_train, x_test, y_train, y_test)     "
   ]
  },
  {
   "cell_type": "markdown",
   "metadata": {},
   "source": [
    "**Etant donné que la question est de donner un crédit à une personne qui pourrait potentiellement etre incapable de le rembourser, la précision est imporante.** \n",
    "\n",
    "**La précision permet de répondre à la question \"Quelle proportion d'identifications positives était effectivement correcte ?\" et dans notre cas, c'est imporant de savoir si on donne le crédit à une personne qui est \"correctement positive\" (quelqu'un qui a une bonne solvabilité).**\n",
    "\n",
    "Par cette logique et sur les données brute, en excutant notre méthode qui teste les classifieurs, on peut dire que Cart est le plus adéquat. "
   ]
  },
  {
   "cell_type": "markdown",
   "metadata": {},
   "source": [
    "### 3. Normalisation des variables continues : "
   ]
  },
  {
   "cell_type": "markdown",
   "metadata": {},
   "source": [
    "Normalisation avec MinMaxScaler"
   ]
  },
  {
   "cell_type": "code",
   "execution_count": 14,
   "metadata": {},
   "outputs": [],
   "source": [
    "MMScaler= MinMaxScaler()\n",
    "MMScaler.fit(x_train)\n",
    "x_train_norm = MMScaler.transform(x_train)\n",
    "x_test_norm = MMScaler.transform(x_test)"
   ]
  },
  {
   "cell_type": "code",
   "execution_count": 15,
   "metadata": {},
   "outputs": [
    {
     "name": "stdout",
     "output_type": "stream",
     "text": [
      "Les indicateurs de  Cart :\n",
      "- Accuracy : 72.85%\n",
      "- Rappel : 80.11%\n",
      "- Précision : 81.98%\n",
      "- Matrice de confusion :\n",
      " [[ 325  279]\n",
      " [ 315 1269]]\n",
      "\n",
      "\n",
      "Les indicateurs de  KNN :\n",
      "- Accuracy : 74.54%\n",
      "- Rappel : 85.10%\n",
      "- Précision : 80.77%\n",
      "- Matrice de confusion :\n",
      " [[ 283  321]\n",
      " [ 236 1348]]\n",
      "\n",
      "\n",
      "Les indicateurs de  MLP :\n",
      "- Accuracy : 78.88%\n",
      "- Rappel : 88.70%\n",
      "- Précision : 83.23%\n",
      "- Matrice de confusion :\n",
      " [[ 321  283]\n",
      " [ 179 1405]]\n",
      "\n",
      "\n",
      "\n",
      " La meilleure Accuracy est donnée par l'algorithme  MLP  à  78.88%\n",
      "\n",
      " Le meilleure rappel est donnée par l'algorithme  MLP  à  88.70%\n",
      "\n",
      " La meilleure précision est donnée par l'algorithme  MLP  à  83.23%\n"
     ]
    }
   ],
   "source": [
    "testingClassifiers(x_train_norm, x_test_norm, y_train, y_test)     "
   ]
  },
  {
   "cell_type": "markdown",
   "metadata": {},
   "source": [
    "***En testant les données normalisé avec MinMaxScaler, MLP est le plus adéquat.***"
   ]
  },
  {
   "cell_type": "markdown",
   "metadata": {},
   "source": [
    "Normalisation avec StandardScaler"
   ]
  },
  {
   "cell_type": "code",
   "execution_count": 16,
   "metadata": {},
   "outputs": [],
   "source": [
    "SScaler= StandardScaler()\n",
    "SScaler.fit(x_train)\n",
    "x_train_norm = SScaler.transform(x_train)\n",
    "x_test_norm = SScaler.transform(x_test)\n",
    "       "
   ]
  },
  {
   "cell_type": "code",
   "execution_count": 17,
   "metadata": {},
   "outputs": [
    {
     "name": "stdout",
     "output_type": "stream",
     "text": [
      "Les indicateurs de  Cart :\n",
      "- Accuracy : 72.71%\n",
      "- Rappel : 80.11%\n",
      "- Précision : 81.82%\n",
      "- Matrice de confusion :\n",
      " [[ 322  282]\n",
      " [ 315 1269]]\n",
      "\n",
      "\n",
      "Les indicateurs de  KNN :\n",
      "- Accuracy : 75.27%\n",
      "- Rappel : 85.92%\n",
      "- Précision : 81.06%\n",
      "- Matrice de confusion :\n",
      " [[ 286  318]\n",
      " [ 223 1361]]\n",
      "\n",
      "\n",
      "Les indicateurs de  MLP :\n",
      "- Accuracy : 77.65%\n",
      "- Rappel : 85.67%\n",
      "- Précision : 83.82%\n",
      "- Matrice de confusion :\n",
      " [[ 342  262]\n",
      " [ 227 1357]]\n",
      "\n",
      "\n",
      "\n",
      " La meilleure Accuracy est donnée par l'algorithme  MLP  à  77.65%\n",
      "\n",
      " Le meilleure rappel est donnée par l'algorithme  KNN  à  85.92%\n",
      "\n",
      " La meilleure précision est donnée par l'algorithme  MLP  à  83.82%\n"
     ]
    }
   ],
   "source": [
    "testingClassifiers(x_train_norm, x_test_norm, y_train, y_test)     "
   ]
  },
  {
   "cell_type": "markdown",
   "metadata": {},
   "source": [
    "***En testant les données normalisé avec StandardScaler, MLP est le plus adéquat. Mais MinMaxScaler, nous donne une accuracy meilleure que StandardScaler. En prennant en compte l'accuracy et la précision des deux scalers, nous avons choisit MinMaxScaler***"
   ]
  },
  {
   "cell_type": "code",
   "execution_count": 18,
   "metadata": {},
   "outputs": [],
   "source": [
    "x_train_norm = MMScaler.transform(x_train)\n",
    "x_test_norm = MMScaler.transform(x_test)"
   ]
  },
  {
   "cell_type": "markdown",
   "metadata": {},
   "source": [
    "### 4. Création de nouvelles variables caractéristiques par combinaisons linéaires des variables initiales :"
   ]
  },
  {
   "cell_type": "code",
   "execution_count": 33,
   "metadata": {},
   "outputs": [
    {
     "data": {
      "text/plain": [
       "(2187, 16)"
      ]
     },
     "execution_count": 33,
     "metadata": {},
     "output_type": "execute_result"
    }
   ],
   "source": [
    "pca = PCA(n_components=3)\n",
    "pca.fit(x_train_norm)\n",
    "\n",
    "x_train_pca = np.concatenate((x_train_norm, pca.transform(x_train_norm)), axis=1)\n",
    "x_test_pca = np.concatenate((x_test_norm, pca.transform(x_test_norm)), axis=1)\n",
    "\n",
    "x_train_pca.shape"
   ]
  },
  {
   "cell_type": "code",
   "execution_count": 34,
   "metadata": {},
   "outputs": [
    {
     "name": "stdout",
     "output_type": "stream",
     "text": [
      "Les indicateurs de  Cart :\n",
      "- Accuracy : 72.21%\n",
      "- Rappel : 79.48%\n",
      "- Précision : 81.65%\n",
      "- Matrice de confusion :\n",
      " [[ 321  283]\n",
      " [ 325 1259]]\n",
      "\n",
      "\n",
      "Les indicateurs de  KNN :\n",
      "- Accuracy : 74.45%\n",
      "- Rappel : 85.23%\n",
      "- Précision : 80.60%\n",
      "- Matrice de confusion :\n",
      " [[ 279  325]\n",
      " [ 234 1350]]\n",
      "\n",
      "\n",
      "Les indicateurs de  MLP :\n",
      "- Accuracy : 79.25%\n",
      "- Rappel : 88.95%\n",
      "- Précision : 83.47%\n",
      "- Matrice de confusion :\n",
      " [[ 325  279]\n",
      " [ 175 1409]]\n",
      "\n",
      "\n",
      "\n",
      " La meilleure Accuracy est donnée par l'algorithme  MLP  à  79.25%\n",
      "\n",
      " Le meilleure rappel est donnée par l'algorithme  MLP  à  88.95%\n",
      "\n",
      " La meilleure précision est donnée par l'algorithme  MLP  à  83.47%\n"
     ]
    }
   ],
   "source": [
    "testingClassifiers(x_train_pca, x_test_pca, y_train, y_test)     "
   ]
  },
  {
   "cell_type": "markdown",
   "metadata": {},
   "source": [
    "***En testant les données ACP, MLP nous donne la meilleur précision et accuracy entre les trois classifieur.***"
   ]
  },
  {
   "cell_type": "markdown",
   "metadata": {},
   "source": [
    "**Après avoir testé avec les données brutes, normalisés et ACP, nous avons choisit MLP avec les données ACP qui nous donnent le meilleur couple (accuracy, précision)**"
   ]
  },
  {
   "cell_type": "markdown",
   "metadata": {},
   "source": [
    "### 5. Sélection de variables : "
   ]
  },
  {
   "cell_type": "code",
   "execution_count": 35,
   "metadata": {},
   "outputs": [
    {
     "name": "stdout",
     "output_type": "stream",
     "text": [
      "['Seniority' 'Home' 'Time' 'Age' 'Marital' 'Records' 'Job' 'Expenses'\n",
      " 'Income' 'Assets' 'Debt' 'Amount' 'Price' 'PCA1' 'PCA2' 'PCA3']\n"
     ]
    }
   ],
   "source": [
    "features= np.concatenate((cscores.columns[:13],['PCA1','PCA2','PCA3']))\n",
    "print(features)"
   ]
  },
  {
   "cell_type": "code",
   "execution_count": 37,
   "metadata": {},
   "outputs": [
    {
     "data": {
      "image/png": "[encoded data removed]",
      "text/plain": [
       "<Figure size 432x288 with 1 Axes>"
      ]
     },
     "metadata": {
      "needs_background": "light"
     },
     "output_type": "display_data"
    }
   ],
   "source": [
    "#histogramme des importances des variables\n",
    "clf = RandomForestClassifier(n_estimators=500)\n",
    "clf.fit(x_train_pca, y_train)\n",
    "\n",
    "importances=clf.feature_importances_\n",
    "\n",
    "std = np.std([tree.feature_importances_ for tree in clf.estimators_],axis=0)\n",
    "\n",
    "sorted_idx = np.argsort(importances)[::-1]\n",
    "\n",
    "padding = np.arange(x_train_pca.size/len(x_train_pca)) + 0.5\n",
    "\n",
    "plt.barh(padding, importances[sorted_idx],xerr=std[sorted_idx], align='center')\n",
    "plt.yticks(padding, features[sorted_idx])\n",
    "plt.xlabel(\"Relative Importance\")\n",
    "plt.title(\"Variable Importance\")\n",
    "plt.show()"
   ]
  },
  {
   "cell_type": "code",
   "execution_count": 38,
   "metadata": {},
   "outputs": [
    {
     "data": {
      "image/png": "[encoded data removed]",
      "text/plain": [
       "<Figure size 432x288 with 1 Axes>"
      ]
     },
     "metadata": {
      "needs_background": "light"
     },
     "output_type": "display_data"
    },
    {
     "name": "stdout",
     "output_type": "stream",
     "text": [
      "[0.739 0.757 0.76  0.772 0.781 0.787 0.791 0.784 0.792 0.793 0.795 0.787\n",
      " 0.785 0.787 0.    0.    0.   ]\n"
     ]
    }
   ],
   "source": [
    "best_classifier = classifiers[2][1]\n",
    "\n",
    "scores = np.zeros(x_train_pca.shape[1]+1)\n",
    "\n",
    "for f in np.arange(0, x_train_norm.shape[1]+1):\n",
    "    X1_f = x_train_pca[:,sorted_idx[:f+1]]\n",
    "    X2_f = x_test_pca[:,sorted_idx[:f+1]] \n",
    "    best_classifier.fit(X1_f,y_train)\n",
    "    y_pred=best_classifier.predict(X2_f) \n",
    "    scores[f]=np.round(accuracy_score(y_test,y_pred),3)\n",
    "\n",
    "plt.plot(scores)\n",
    "plt.xlabel(\"Nombre de Variables\")\n",
    "plt.ylabel(\"Accuracy\")\n",
    "plt.title(\"Evolution de l'accuracy de MLP en fonction des variables normalisées\")\n",
    "plt.show()\n",
    "print(scores)"
   ]
  },
  {
   "cell_type": "markdown",
   "metadata": {},
   "source": [
    "**Le nombre de variable à garder est 13**"
   ]
  },
  {
   "cell_type": "code",
   "execution_count": 345,
   "metadata": {},
   "outputs": [],
   "source": [
    "best_var_number = 13\n",
    "best_idx = sorted_idx[:best_var_number]"
   ]
  },
  {
   "cell_type": "markdown",
   "metadata": {},
   "source": [
    "### 6. Paramétrage des classifieurs : "
   ]
  },
  {
   "cell_type": "code",
   "execution_count": 348,
   "metadata": {},
   "outputs": [
    {
     "name": "stdout",
     "output_type": "stream",
     "text": [
      "{'algorithm': 'ball_tree', 'n_neighbors': 14}\n",
      "0.769085920154162\n",
      "Accuracy_score d'un KNN optimisé: 0.765\n"
     ]
    }
   ],
   "source": [
    "parametres = {\"n_neighbors\" : range(30), 'algorithm': ['ball_tree', 'kd_tree', 'brute']}\n",
    "model = KNeighborsClassifier()\n",
    "\n",
    "GS= GridSearchCV(model, parametres, scoring='accuracy', cv=10)\n",
    "grid= GS.fit(x_train_pca, y_train)\n",
    "print(grid.best_params_)\n",
    "print(grid.best_score_)\n",
    "\n",
    "YKNN_O = grid.predict(x_test_pca)\n",
    "print(\"Accuracy_score d'un KNN optimisé: {0:.3f}\".format(accuracy_score(y_test, YKNN_O)))"
   ]
  },
  {
   "cell_type": "code",
   "execution_count": 350,
   "metadata": {},
   "outputs": [
    {
     "name": "stdout",
     "output_type": "stream",
     "text": [
      "{'algorithm': 'ball_tree', 'n_neighbors': 59}\n",
      "0.7695341627916721\n",
      "Accuracy_score d'un KNN optimisé: 0.761\n"
     ]
    }
   ],
   "source": [
    "parametres = {\"n_neighbors\" : range(60), 'algorithm': ['ball_tree', 'kd_tree', 'brute']}\n",
    "model = KNeighborsClassifier()\n",
    "\n",
    "GS= GridSearchCV(model, parametres, scoring='accuracy', cv=10)\n",
    "grid= GS.fit(x_train_pca[:,best_idx], y_train)\n",
    "print(grid.best_params_)\n",
    "print(grid.best_score_)\n",
    "\n",
    "YKNN_O2 = grid.predict(x_test_pca[:,best_idx])\n",
    "print(\"Accuracy_score d'un KNN optimisé: {0:.3f}\".format(accuracy_score(y_test, YKNN_O2)))"
   ]
  },
  {
   "cell_type": "markdown",
   "metadata": {},
   "source": [
    "### 7. Création d’un pipeline :"
   ]
  },
  {
   "cell_type": "code",
   "execution_count": 47,
   "metadata": {},
   "outputs": [],
   "source": [
    "P = Pipeline([('mm', MinMaxScaler()), ('classifieur', MLPClassifier(hidden_layer_sizes=(40, 20), random_state=1))])\n",
    "P.fit(X, Y)\n",
    "pickle.dump(P, open(\"pipeline.pkl\", \"wb\"))"
   ]
  },
  {
   "cell_type": "markdown",
   "metadata": {},
   "source": [
    "### 8. Comparaison de plusieurs algorithmes d’apprentissage : "
   ]
  },
  {
   "cell_type": "code",
   "execution_count": 48,
   "metadata": {},
   "outputs": [],
   "source": [
    "clfs = {\n",
    "    \"NaiveBayes\": GaussianNB(),\n",
    "    \"Cart\": DecisionTreeClassifier(random_state=1),\n",
    "    \"ID3\": DecisionTreeClassifier(criterion=\"entropy\"),\n",
    "    \"DecisionStump\": BaggingClassifier(KNeighborsClassifier(), max_samples=0.5, max_features=0.5),\n",
    "    \"MLP\": MLPClassifier(hidden_layer_sizes=(20, 10)),\n",
    "    \"KNN\": KNeighborsClassifier(n_neighbors=5),\n",
    "    \"Bagging\": BaggingClassifier(n_estimators=50),\n",
    "    \"Adaboost\": AdaBoostClassifier(n_estimators=50),\n",
    "    \"Randomforest\": RandomForestClassifier(n_estimators=50)\n",
    "}"
   ]
  },
  {
   "cell_type": "code",
   "execution_count": 51,
   "metadata": {},
   "outputs": [],
   "source": [
    "def run_classifiers(cs, X, Y):\n",
    "    kf = KFold(n_splits=10, shuffle=True, random_state=0) \n",
    "    scoring = {'accuracy' : make_scorer(accuracy_score), \n",
    "               'precision' : make_scorer(precision_score)}\n",
    "    for c in cs:\n",
    "        clf = cs[c]\n",
    "        start_time = time.time()\n",
    "        cv_acc = cross_val_score(clf, X, Y, cv=kf)\n",
    "        cv_prs = cross_val_score(clf, X, Y, cv=kf, scoring='precision')\n",
    "        exec_time = time.time() - start_time\n",
    "        \n",
    "        print(\"Temps d'éxecution de \", c ,\":\", \"{0:.4f}\".format(exec_time),\"secondes\")\n",
    "        print(\"Accuracy for\", c, \"is: {1:.3f} +/- {2:.3f}\".format(c, np.mean(cv_acc), np.std(cv_acc)))\n",
    "        print(\"Precision for\", c, \"is: {1:.3f} +/- {2:.3f}\".format(c, np.mean(cv_prs), np.std(cv_prs)))\n",
    "        print(\"\\n\")"
   ]
  },
  {
   "cell_type": "code",
   "execution_count": 52,
   "metadata": {},
   "outputs": [
    {
     "name": "stdout",
     "output_type": "stream",
     "text": [
      "Temps d'éxecution de  NaiveBayes : 0.0725 secondes\n",
      "Accuracy for NaiveBayes is: 0.772 +/- 0.022\n",
      "Precision for NaiveBayes is: 0.828 +/- 0.018\n",
      "\n",
      "\n",
      "Temps d'éxecution de  Cart : 0.2976 secondes\n",
      "Accuracy for Cart is: 0.727 +/- 0.025\n",
      "Precision for Cart is: 0.808 +/- 0.022\n",
      "\n",
      "\n",
      "Temps d'éxecution de  ID3 : 0.3230 secondes\n",
      "Accuracy for ID3 is: 0.718 +/- 0.022\n",
      "Precision for ID3 is: 0.813 +/- 0.023\n",
      "\n",
      "\n",
      "Temps d'éxecution de  DecisionStump : 0.6447 secondes\n",
      "Accuracy for DecisionStump is: 0.737 +/- 0.021\n",
      "Precision for DecisionStump is: 0.743 +/- 0.016\n",
      "\n",
      "\n",
      "Temps d'éxecution de  MLP : 7.4453 secondes\n",
      "Accuracy for MLP is: 0.734 +/- 0.037\n",
      "Precision for MLP is: 0.786 +/- 0.041\n",
      "\n",
      "\n",
      "Temps d'éxecution de  KNN : 0.2879 secondes\n",
      "Accuracy for KNN is: 0.715 +/- 0.017\n",
      "Precision for KNN is: 0.767 +/- 0.019\n",
      "\n",
      "\n",
      "Temps d'éxecution de  Bagging : 9.1752 secondes\n",
      "Accuracy for Bagging is: 0.776 +/- 0.016\n",
      "Precision for Bagging is: 0.825 +/- 0.016\n",
      "\n",
      "\n",
      "Temps d'éxecution de  Adaboost : 2.4983 secondes\n",
      "Accuracy for Adaboost is: 0.788 +/- 0.016\n",
      "Precision for Adaboost is: 0.823 +/- 0.018\n",
      "\n",
      "\n",
      "Temps d'éxecution de  Randomforest : 3.4250 secondes\n",
      "Accuracy for Randomforest is: 0.782 +/- 0.016\n",
      "Precision for Randomforest is: 0.815 +/- 0.018\n",
      "\n",
      "\n"
     ]
    }
   ],
   "source": [
    "run_classifiers(clfs, X, Y)"
   ]
  },
  {
   "cell_type": "markdown",
   "metadata": {},
   "source": [
    "**Conclusion** #TODO"
   ]
  },
  {
   "cell_type": "markdown",
   "metadata": {},
   "source": [
    "# II. Apprentissage supervisé : Données hétérogènes"
   ]
  },
  {
   "cell_type": "markdown",
   "metadata": {},
   "source": [
    "### • Chargement des données et préparation :"
   ]
  },
  {
   "cell_type": "code",
   "execution_count": 157,
   "metadata": {},
   "outputs": [
    {
     "data": {
      "text/html": [
       "<div>\n",
       "<style scoped>\n",
       "    .dataframe tbody tr th:only-of-type {\n",
       "        vertical-align: middle;\n",
       "    }\n",
       "\n",
       "    .dataframe tbody tr th {\n",
       "        vertical-align: top;\n",
       "    }\n",
       "\n",
       "    .dataframe thead th {\n",
       "        text-align: right;\n",
       "    }\n",
       "</style>\n",
       "<table border=\"1\" class=\"dataframe\">\n",
       "  <thead>\n",
       "    <tr style=\"text-align: right;\">\n",
       "      <th></th>\n",
       "      <th>0</th>\n",
       "      <th>1</th>\n",
       "      <th>2</th>\n",
       "      <th>3</th>\n",
       "      <th>4</th>\n",
       "      <th>5</th>\n",
       "      <th>6</th>\n",
       "      <th>7</th>\n",
       "      <th>8</th>\n",
       "      <th>9</th>\n",
       "      <th>10</th>\n",
       "      <th>11</th>\n",
       "      <th>12</th>\n",
       "      <th>13</th>\n",
       "      <th>14</th>\n",
       "      <th>15</th>\n",
       "    </tr>\n",
       "  </thead>\n",
       "  <tbody>\n",
       "    <tr>\n",
       "      <th>0</th>\n",
       "      <td>b</td>\n",
       "      <td>30.83</td>\n",
       "      <td>0.000</td>\n",
       "      <td>u</td>\n",
       "      <td>g</td>\n",
       "      <td>w</td>\n",
       "      <td>v</td>\n",
       "      <td>1.25</td>\n",
       "      <td>t</td>\n",
       "      <td>t</td>\n",
       "      <td>1</td>\n",
       "      <td>f</td>\n",
       "      <td>g</td>\n",
       "      <td>202</td>\n",
       "      <td>0</td>\n",
       "      <td>+</td>\n",
       "    </tr>\n",
       "    <tr>\n",
       "      <th>1</th>\n",
       "      <td>a</td>\n",
       "      <td>58.67</td>\n",
       "      <td>4.460</td>\n",
       "      <td>u</td>\n",
       "      <td>g</td>\n",
       "      <td>q</td>\n",
       "      <td>h</td>\n",
       "      <td>3.04</td>\n",
       "      <td>t</td>\n",
       "      <td>t</td>\n",
       "      <td>6</td>\n",
       "      <td>f</td>\n",
       "      <td>g</td>\n",
       "      <td>43</td>\n",
       "      <td>560</td>\n",
       "      <td>+</td>\n",
       "    </tr>\n",
       "    <tr>\n",
       "      <th>2</th>\n",
       "      <td>a</td>\n",
       "      <td>24.50</td>\n",
       "      <td>0.500</td>\n",
       "      <td>u</td>\n",
       "      <td>g</td>\n",
       "      <td>q</td>\n",
       "      <td>h</td>\n",
       "      <td>1.50</td>\n",
       "      <td>t</td>\n",
       "      <td>f</td>\n",
       "      <td>0</td>\n",
       "      <td>f</td>\n",
       "      <td>g</td>\n",
       "      <td>280</td>\n",
       "      <td>824</td>\n",
       "      <td>+</td>\n",
       "    </tr>\n",
       "    <tr>\n",
       "      <th>3</th>\n",
       "      <td>b</td>\n",
       "      <td>27.83</td>\n",
       "      <td>1.540</td>\n",
       "      <td>u</td>\n",
       "      <td>g</td>\n",
       "      <td>w</td>\n",
       "      <td>v</td>\n",
       "      <td>3.75</td>\n",
       "      <td>t</td>\n",
       "      <td>t</td>\n",
       "      <td>5</td>\n",
       "      <td>t</td>\n",
       "      <td>g</td>\n",
       "      <td>100</td>\n",
       "      <td>3</td>\n",
       "      <td>+</td>\n",
       "    </tr>\n",
       "    <tr>\n",
       "      <th>4</th>\n",
       "      <td>b</td>\n",
       "      <td>20.17</td>\n",
       "      <td>5.625</td>\n",
       "      <td>u</td>\n",
       "      <td>g</td>\n",
       "      <td>w</td>\n",
       "      <td>v</td>\n",
       "      <td>1.71</td>\n",
       "      <td>t</td>\n",
       "      <td>f</td>\n",
       "      <td>0</td>\n",
       "      <td>f</td>\n",
       "      <td>s</td>\n",
       "      <td>120</td>\n",
       "      <td>0</td>\n",
       "      <td>+</td>\n",
       "    </tr>\n",
       "  </tbody>\n",
       "</table>\n",
       "</div>"
      ],
      "text/plain": [
       "  0      1      2  3  4  5  6     7  8  9   10 11 12   13   14 15\n",
       "0  b  30.83  0.000  u  g  w  v  1.25  t  t   1  f  g  202    0  +\n",
       "1  a  58.67  4.460  u  g  q  h  3.04  t  t   6  f  g   43  560  +\n",
       "2  a  24.50  0.500  u  g  q  h  1.50  t  f   0  f  g  280  824  +\n",
       "3  b  27.83  1.540  u  g  w  v  3.75  t  t   5  t  g  100    3  +\n",
       "4  b  20.17  5.625  u  g  w  v  1.71  t  f   0  f  s  120    0  +"
      ]
     },
     "execution_count": 157,
     "metadata": {},
     "output_type": "execute_result"
    }
   ],
   "source": [
    "credit = pd.read_csv(\"./credit.data\", sep=\"\\s+\", header=None )\n",
    "credit.head(5)"
   ]
  },
  {
   "cell_type": "code",
   "execution_count": 218,
   "metadata": {},
   "outputs": [
    {
     "data": {
      "text/plain": [
       "(688, 16)"
      ]
     },
     "execution_count": 218,
     "metadata": {},
     "output_type": "execute_result"
    }
   ],
   "source": [
    "credit_numpy = credit.values\n",
    "credit_numpy.shape"
   ]
  },
  {
   "cell_type": "code",
   "execution_count": 244,
   "metadata": {},
   "outputs": [],
   "source": [
    "Xcred = credit_numpy[:, 0:15] #variables caractéristiques\n",
    "Ycred = credit_numpy[:, 15:16] #target"
   ]
  },
  {
   "cell_type": "code",
   "execution_count": 224,
   "metadata": {},
   "outputs": [
    {
     "data": {
      "text/html": [
       "<div>\n",
       "<style scoped>\n",
       "    .dataframe tbody tr th:only-of-type {\n",
       "        vertical-align: middle;\n",
       "    }\n",
       "\n",
       "    .dataframe tbody tr th {\n",
       "        vertical-align: top;\n",
       "    }\n",
       "\n",
       "    .dataframe thead th {\n",
       "        text-align: right;\n",
       "    }\n",
       "</style>\n",
       "<table border=\"1\" class=\"dataframe\">\n",
       "  <thead>\n",
       "    <tr style=\"text-align: right;\">\n",
       "      <th></th>\n",
       "      <th>1</th>\n",
       "      <th>2</th>\n",
       "      <th>7</th>\n",
       "      <th>10</th>\n",
       "      <th>13</th>\n",
       "      <th>14</th>\n",
       "    </tr>\n",
       "  </thead>\n",
       "  <tbody>\n",
       "    <tr>\n",
       "      <th>0</th>\n",
       "      <td>30.83</td>\n",
       "      <td>0.000</td>\n",
       "      <td>1.25</td>\n",
       "      <td>1</td>\n",
       "      <td>202</td>\n",
       "      <td>0</td>\n",
       "    </tr>\n",
       "    <tr>\n",
       "      <th>1</th>\n",
       "      <td>58.67</td>\n",
       "      <td>4.460</td>\n",
       "      <td>3.04</td>\n",
       "      <td>6</td>\n",
       "      <td>43</td>\n",
       "      <td>560</td>\n",
       "    </tr>\n",
       "    <tr>\n",
       "      <th>2</th>\n",
       "      <td>24.50</td>\n",
       "      <td>0.500</td>\n",
       "      <td>1.50</td>\n",
       "      <td>0</td>\n",
       "      <td>280</td>\n",
       "      <td>824</td>\n",
       "    </tr>\n",
       "    <tr>\n",
       "      <th>3</th>\n",
       "      <td>27.83</td>\n",
       "      <td>1.540</td>\n",
       "      <td>3.75</td>\n",
       "      <td>5</td>\n",
       "      <td>100</td>\n",
       "      <td>3</td>\n",
       "    </tr>\n",
       "    <tr>\n",
       "      <th>4</th>\n",
       "      <td>20.17</td>\n",
       "      <td>5.625</td>\n",
       "      <td>1.71</td>\n",
       "      <td>0</td>\n",
       "      <td>120</td>\n",
       "      <td>0</td>\n",
       "    </tr>\n",
       "    <tr>\n",
       "      <th>...</th>\n",
       "      <td>...</td>\n",
       "      <td>...</td>\n",
       "      <td>...</td>\n",
       "      <td>...</td>\n",
       "      <td>...</td>\n",
       "      <td>...</td>\n",
       "    </tr>\n",
       "    <tr>\n",
       "      <th>683</th>\n",
       "      <td>21.08</td>\n",
       "      <td>10.085</td>\n",
       "      <td>1.25</td>\n",
       "      <td>0</td>\n",
       "      <td>260</td>\n",
       "      <td>0</td>\n",
       "    </tr>\n",
       "    <tr>\n",
       "      <th>684</th>\n",
       "      <td>22.67</td>\n",
       "      <td>0.750</td>\n",
       "      <td>2.00</td>\n",
       "      <td>2</td>\n",
       "      <td>200</td>\n",
       "      <td>394</td>\n",
       "    </tr>\n",
       "    <tr>\n",
       "      <th>685</th>\n",
       "      <td>25.25</td>\n",
       "      <td>13.500</td>\n",
       "      <td>2.00</td>\n",
       "      <td>1</td>\n",
       "      <td>200</td>\n",
       "      <td>1</td>\n",
       "    </tr>\n",
       "    <tr>\n",
       "      <th>686</th>\n",
       "      <td>17.92</td>\n",
       "      <td>0.205</td>\n",
       "      <td>0.04</td>\n",
       "      <td>0</td>\n",
       "      <td>280</td>\n",
       "      <td>750</td>\n",
       "    </tr>\n",
       "    <tr>\n",
       "      <th>687</th>\n",
       "      <td>35.00</td>\n",
       "      <td>3.375</td>\n",
       "      <td>8.29</td>\n",
       "      <td>0</td>\n",
       "      <td>0</td>\n",
       "      <td>0</td>\n",
       "    </tr>\n",
       "  </tbody>\n",
       "</table>\n",
       "<p>688 rows × 6 columns</p>\n",
       "</div>"
      ],
      "text/plain": [
       "        1       2     7   10   13   14\n",
       "0    30.83   0.000  1.25   1  202    0\n",
       "1    58.67   4.460  3.04   6   43  560\n",
       "2    24.50   0.500  1.50   0  280  824\n",
       "3    27.83   1.540  3.75   5  100    3\n",
       "4    20.17   5.625  1.71   0  120    0\n",
       "..     ...     ...   ...  ..  ...  ...\n",
       "683  21.08  10.085  1.25   0  260    0\n",
       "684  22.67   0.750  2.00   2  200  394\n",
       "685  25.25  13.500  2.00   1  200    1\n",
       "686  17.92   0.205  0.04   0  280  750\n",
       "687  35.00   3.375  8.29   0    0    0\n",
       "\n",
       "[688 rows x 6 columns]"
      ]
     },
     "execution_count": 224,
     "metadata": {},
     "output_type": "execute_result"
    }
   ],
   "source": [
    "credit2 = credit[[1, 2, 7, 10, 13, 14]]\n",
    "credit2"
   ]
  },
  {
   "cell_type": "code",
   "execution_count": 225,
   "metadata": {},
   "outputs": [],
   "source": [
    "credit2 = credit2.replace('?', np.NaN)"
   ]
  },
  {
   "cell_type": "code",
   "execution_count": 226,
   "metadata": {},
   "outputs": [],
   "source": [
    "credit2 = credit2.astype(float)"
   ]
  },
  {
   "cell_type": "code",
   "execution_count": 227,
   "metadata": {},
   "outputs": [
    {
     "name": "stdout",
     "output_type": "stream",
     "text": [
      "[71, 83, 86, 92, 97, 241, 252, 268, 276, 284, 327, 328, 404, 443, 448, 454, 498, 513, 590, 606, 620, 624]\n"
     ]
    }
   ],
   "source": [
    "rows_with_nan = []\n",
    "for index, row in credit2.iterrows():\n",
    "    is_nan_series = row.isnull()\n",
    "    if is_nan_series.any():\n",
    "        rows_with_nan.append(index)\n",
    "\n",
    "print(rows_with_nan)"
   ]
  },
  {
   "cell_type": "code",
   "execution_count": 228,
   "metadata": {},
   "outputs": [
    {
     "name": "stdout",
     "output_type": "stream",
     "text": [
      "688 echantillons avec données manquantes\n"
     ]
    }
   ],
   "source": [
    "n1 = credit2.shape[0]\n",
    "print(n1, 'echantillons avec données manquantes')"
   ]
  },
  {
   "cell_type": "code",
   "execution_count": 229,
   "metadata": {},
   "outputs": [
    {
     "name": "stdout",
     "output_type": "stream",
     "text": [
      "666 echantillons sans données manquantes\n",
      "nous avons supprimé 22 individus\n"
     ]
    }
   ],
   "source": [
    "credit2 = credit2.drop(rows_with_nan)\n",
    "n2 = credit2.shape[0]\n",
    "print(n2, 'echantillons sans données manquantes')\n",
    "print('nous avons supprimé', n1 - n2, 'individus')"
   ]
  },
  {
   "cell_type": "code",
   "execution_count": 230,
   "metadata": {},
   "outputs": [
    {
     "data": {
      "text/plain": [
       "array([[<AxesSubplot:title={'center':'15'}>]], dtype=object)"
      ]
     },
     "execution_count": 230,
     "metadata": {},
     "output_type": "execute_result"
    },
    {
     "data": {
      "image/png": "[encoded data removed]",
      "text/plain": [
       "<Figure size 432x288 with 1 Axes>"
      ]
     },
     "metadata": {
      "needs_background": "light"
     },
     "output_type": "display_data"
    }
   ],
   "source": [
    "app_dis = credit.replace('+', 1)\n",
    "app_dis = app_dis.replace('-', 0)\n",
    "app_dis.hist(15)"
   ]
  },
  {
   "cell_type": "code",
   "execution_count": 231,
   "metadata": {},
   "outputs": [],
   "source": [
    "approved = np.sum(Ycred=='+')/len(Ycred)\n",
    "disapproved = np.sum(Ycred=='-')/len(Ycred) "
   ]
  },
  {
   "cell_type": "code",
   "execution_count": 232,
   "metadata": {},
   "outputs": [
    {
     "name": "stdout",
     "output_type": "stream",
     "text": [
      "44.33% des demandes de crédits on été acceptés.\n",
      "55.67% des demandes de crédits on été refusés.\n"
     ]
    }
   ],
   "source": [
    "print(\"{0:.2f}%\".format(approved * 100), \"des demandes de crédits on été acceptés.\")\n",
    "print(\"{0:.2f}%\".format(disapproved * 100), \"des demandes de crédits on été refusés.\")"
   ]
  },
  {
   "cell_type": "code",
   "execution_count": 233,
   "metadata": {},
   "outputs": [],
   "source": [
    "Ycred[Ycred == '+'] = '1'\n",
    "Ycred[Ycred == '-'] = '0'\n",
    "Ycred = Ycred.astype(int)"
   ]
  },
  {
   "cell_type": "markdown",
   "metadata": {},
   "source": [
    "### • Normalisation des variables continues : "
   ]
  },
  {
   "cell_type": "code",
   "execution_count": 245,
   "metadata": {},
   "outputs": [],
   "source": [
    "credit2_numpy = credit2.values\n",
    "Xcred2 = credit2_numpy[:, 1:]"
   ]
  },
  {
   "cell_type": "code",
   "execution_count": 246,
   "metadata": {},
   "outputs": [],
   "source": [
    "S_Scaler= StandardScaler()\n",
    "S_Scaler.fit(Xcred2)\n",
    "x_norm = S_Scaler.transform(Xcred2)"
   ]
  },
  {
   "cell_type": "code",
   "execution_count": 247,
   "metadata": {},
   "outputs": [
    {
     "data": {
      "text/plain": [
       "(666,)"
      ]
     },
     "execution_count": 247,
     "metadata": {},
     "output_type": "execute_result"
    }
   ],
   "source": [
    "Ycred2 = np.delete(Ycred, rows_with_nan)\n",
    "Ycred2.shape"
   ]
  },
  {
   "cell_type": "code",
   "execution_count": 248,
   "metadata": {},
   "outputs": [
    {
     "name": "stdout",
     "output_type": "stream",
     "text": [
      "Temps d'éxecution de  NaiveBayes : 0.0611 secondes\n",
      "Accuracy for NaiveBayes is: 0.718 +/- 0.047\n",
      "Precision for NaiveBayes is: nan +/- nan\n",
      "\n",
      "\n",
      "Temps d'éxecution de  Cart : 0.0493 secondes\n",
      "Accuracy for Cart is: 0.718 +/- 0.052\n",
      "Precision for Cart is: nan +/- nan\n",
      "\n",
      "\n",
      "Temps d'éxecution de  ID3 : 0.0442 secondes\n",
      "Accuracy for ID3 is: 0.742 +/- 0.051\n",
      "Precision for ID3 is: nan +/- nan\n",
      "\n",
      "\n",
      "Temps d'éxecution de  DecisionStump : 0.2189 secondes\n",
      "Accuracy for DecisionStump is: 0.760 +/- 0.055\n",
      "Precision for DecisionStump is: nan +/- nan\n",
      "\n",
      "\n",
      "Temps d'éxecution de  MLP : 3.6696 secondes\n",
      "Accuracy for MLP is: 0.775 +/- 0.040\n",
      "Precision for MLP is: nan +/- nan\n",
      "\n",
      "\n",
      "Temps d'éxecution de  KNN : 0.0716 secondes\n",
      "Accuracy for KNN is: 0.722 +/- 0.061\n",
      "Precision for KNN is: nan +/- nan\n",
      "\n",
      "\n",
      "Temps d'éxecution de  Bagging : 1.4872 secondes\n",
      "Accuracy for Bagging is: 0.784 +/- 0.043\n",
      "Precision for Bagging is: nan +/- nan\n",
      "\n",
      "\n",
      "Temps d'éxecution de  Adaboost : 1.2565 secondes\n",
      "Accuracy for Adaboost is: 0.784 +/- 0.045\n",
      "Precision for Adaboost is: nan +/- nan\n",
      "\n",
      "\n",
      "Temps d'éxecution de  Randomforest : 1.0676 secondes\n",
      "Accuracy for Randomforest is: 0.782 +/- 0.055\n",
      "Precision for Randomforest is: nan +/- nan\n",
      "\n",
      "\n"
     ]
    }
   ],
   "source": [
    "run_classifiers(clfs, x_norm, Ycred2)"
   ]
  },
  {
   "cell_type": "markdown",
   "metadata": {},
   "source": [
    "**conlusion** #TODO"
   ]
  },
  {
   "cell_type": "markdown",
   "metadata": {},
   "source": [
    "### • Traitement de données manquantes :"
   ]
  },
  {
   "cell_type": "code",
   "execution_count": 252,
   "metadata": {},
   "outputs": [],
   "source": [
    "#Récupération et transfomation des colonnes catégorielles \n",
    "#en valeurs numériques \n",
    "col_cat = [0, 3, 4, 5, 6, 8, 9, 11, 12]\n",
    "X_cat = np.copy(Xcred[:, col_cat]) \n",
    "for col_id in range(len(col_cat)):\n",
    "    unique_val, val_idx = np.unique(X_cat[:, col_id], return_inverse=True) \n",
    "    X_cat[:, col_id] = val_idx"
   ]
  },
  {
   "cell_type": "code",
   "execution_count": 239,
   "metadata": {},
   "outputs": [],
   "source": [
    "#Imputation avec most_frequent pour les variables catégorielles\n",
    "imp_cat = Imputer(missing_values=0, strategy='most_frequent') \n",
    "X_cat[:, range(5)] = imp_cat.fit_transform(X_cat[:, range(5)])"
   ]
  },
  {
   "cell_type": "code",
   "execution_count": 249,
   "metadata": {},
   "outputs": [],
   "source": [
    "#encodage des variables catégorielle avec OneHotEncoder\n",
    "X_cat_bin = OneHotEncoder().fit_transform(X_cat).toarray()"
   ]
  },
  {
   "cell_type": "code",
   "execution_count": 257,
   "metadata": {},
   "outputs": [
    {
     "data": {
      "text/plain": [
       "(688, 40)"
      ]
     },
     "execution_count": 257,
     "metadata": {},
     "output_type": "execute_result"
    }
   ],
   "source": [
    "X_cat_bin.shape"
   ]
  },
  {
   "cell_type": "code",
   "execution_count": 240,
   "metadata": {},
   "outputs": [],
   "source": [
    "#Récupération des colonnes numériques et remplacement des valeurs\n",
    "#manquantes par NaN \n",
    "col_num= [1, 2, 7, 13, 14]\n",
    "\n",
    "X_num = np.copy(Xcred[:, col_num]) \n",
    "X_num[X_num == '?'] = np.nan \n",
    "X_num = X_num.astype(float)\n"
   ]
  },
  {
   "cell_type": "code",
   "execution_count": 254,
   "metadata": {},
   "outputs": [],
   "source": [
    "#Imputation avec mean pour les variables continues\n",
    "imp_num = Imputer(missing_values=np.nan, strategy='mean') \n",
    "X_num = imp_num.fit_transform(X_num)\n"
   ]
  },
  {
   "cell_type": "code",
   "execution_count": 255,
   "metadata": {},
   "outputs": [],
   "source": [
    "#normalisation des variables numériques\n",
    "S_Scaler= StandardScaler()\n",
    "S_Scaler.fit(X_num)\n",
    "x_num_norm = S_Scaler.transform(X_num)"
   ]
  },
  {
   "cell_type": "code",
   "execution_count": 258,
   "metadata": {},
   "outputs": [
    {
     "data": {
      "text/plain": [
       "(688, 5)"
      ]
     },
     "execution_count": 258,
     "metadata": {},
     "output_type": "execute_result"
    }
   ],
   "source": [
    "x_num_norm.shape"
   ]
  },
  {
   "cell_type": "code",
   "execution_count": 263,
   "metadata": {},
   "outputs": [
    {
     "data": {
      "text/plain": [
       "(688, 45)"
      ]
     },
     "execution_count": 263,
     "metadata": {},
     "output_type": "execute_result"
    }
   ],
   "source": [
    "#Construction de votre jeu de données \n",
    "x_final= np.concatenate((X_cat_bin, x_num_norm), axis = 1)\n",
    "x_final.shape"
   ]
  },
  {
   "cell_type": "code",
   "execution_count": 264,
   "metadata": {},
   "outputs": [
    {
     "name": "stdout",
     "output_type": "stream",
     "text": [
      "Temps d'éxecution de  NaiveBayes : 0.0618 secondes\n",
      "Accuracy for NaiveBayes is: 0.677 +/- 0.054\n",
      "Precision for NaiveBayes is: nan +/- nan\n",
      "\n",
      "\n",
      "Temps d'éxecution de  Cart : 0.0676 secondes\n",
      "Accuracy for Cart is: 0.824 +/- 0.051\n",
      "Precision for Cart is: nan +/- nan\n",
      "\n",
      "\n",
      "Temps d'éxecution de  ID3 : 0.0599 secondes\n",
      "Accuracy for ID3 is: 0.818 +/- 0.050\n",
      "Precision for ID3 is: nan +/- nan\n",
      "\n",
      "\n",
      "Temps d'éxecution de  DecisionStump : 0.2810 secondes\n",
      "Accuracy for DecisionStump is: 0.859 +/- 0.030\n",
      "Precision for DecisionStump is: nan +/- nan\n",
      "\n",
      "\n",
      "Temps d'éxecution de  MLP : 5.1734 secondes\n",
      "Accuracy for MLP is: 0.859 +/- 0.042\n",
      "Precision for MLP is: nan +/- nan\n",
      "\n",
      "\n",
      "Temps d'éxecution de  KNN : 0.0663 secondes\n",
      "Accuracy for KNN is: 0.842 +/- 0.047\n",
      "Precision for KNN is: nan +/- nan\n",
      "\n",
      "\n",
      "Temps d'éxecution de  Bagging : 1.9854 secondes\n",
      "Accuracy for Bagging is: 0.871 +/- 0.037\n",
      "Precision for Bagging is: nan +/- nan\n",
      "\n",
      "\n",
      "Temps d'éxecution de  Adaboost : 1.3264 secondes\n",
      "Accuracy for Adaboost is: 0.842 +/- 0.021\n",
      "Precision for Adaboost is: nan +/- nan\n",
      "\n",
      "\n",
      "Temps d'éxecution de  Randomforest : 1.0524 secondes\n",
      "Accuracy for Randomforest is: 0.874 +/- 0.037\n",
      "Precision for Randomforest is: nan +/- nan\n",
      "\n",
      "\n"
     ]
    }
   ],
   "source": [
    "run_classifiers(clfs, x_final, Ycred)"
   ]
  },
  {
   "cell_type": "markdown",
   "metadata": {},
   "source": [
    "**conclusion** TODO"
   ]
  },
  {
   "cell_type": "markdown",
   "metadata": {},
   "source": [
    "# III. Apprentissage supervisé sur des données textuelles : Feature engineering et Classification"
   ]
  },
  {
   "cell_type": "code",
   "execution_count": 427,
   "metadata": {},
   "outputs": [],
   "source": [
    "from sklearn.feature_extraction.text import CountVectorizer, TfidfTransformer\n",
    "from sklearn.decomposition import TruncatedSVD\n",
    "from sklearn.pipeline import Pipeline"
   ]
  },
  {
   "cell_type": "code",
   "execution_count": 339,
   "metadata": {},
   "outputs": [
    {
     "data": {
      "text/html": [
       "<div>\n",
       "<style scoped>\n",
       "    .dataframe tbody tr th:only-of-type {\n",
       "        vertical-align: middle;\n",
       "    }\n",
       "\n",
       "    .dataframe tbody tr th {\n",
       "        vertical-align: top;\n",
       "    }\n",
       "\n",
       "    .dataframe thead th {\n",
       "        text-align: right;\n",
       "    }\n",
       "</style>\n",
       "<table border=\"1\" class=\"dataframe\">\n",
       "  <thead>\n",
       "    <tr style=\"text-align: right;\">\n",
       "      <th></th>\n",
       "      <th>Classe</th>\n",
       "      <th>Message</th>\n",
       "    </tr>\n",
       "  </thead>\n",
       "  <tbody>\n",
       "    <tr>\n",
       "      <th>0</th>\n",
       "      <td>ham</td>\n",
       "      <td>Go until jurong point, crazy.. Available only ...</td>\n",
       "    </tr>\n",
       "    <tr>\n",
       "      <th>1</th>\n",
       "      <td>ham</td>\n",
       "      <td>Ok lar... Joking wif u oni...</td>\n",
       "    </tr>\n",
       "    <tr>\n",
       "      <th>2</th>\n",
       "      <td>spam</td>\n",
       "      <td>Free entry in 2 a wkly comp to win FA Cup fina...</td>\n",
       "    </tr>\n",
       "    <tr>\n",
       "      <th>3</th>\n",
       "      <td>ham</td>\n",
       "      <td>U dun say so early hor... U c already then say...</td>\n",
       "    </tr>\n",
       "    <tr>\n",
       "      <th>4</th>\n",
       "      <td>ham</td>\n",
       "      <td>Nah I don't think he goes to usf, he lives aro...</td>\n",
       "    </tr>\n",
       "  </tbody>\n",
       "</table>\n",
       "</div>"
      ],
      "text/plain": [
       "  Classe                                            Message\n",
       "0    ham  Go until jurong point, crazy.. Available only ...\n",
       "1    ham                      Ok lar... Joking wif u oni...\n",
       "2   spam  Free entry in 2 a wkly comp to win FA Cup fina...\n",
       "3    ham  U dun say so early hor... U c already then say...\n",
       "4    ham  Nah I don't think he goes to usf, he lives aro..."
      ]
     },
     "execution_count": 339,
     "metadata": {},
     "output_type": "execute_result"
    }
   ],
   "source": [
    "smsData = pd.read_csv(\"./SMSSpamCollection.data\", sep='\\t', names=['Classe', 'Message'])\n",
    "smsData.head()"
   ]
  },
  {
   "cell_type": "code",
   "execution_count": 396,
   "metadata": {},
   "outputs": [
    {
     "data": {
      "text/plain": [
       "0       1\n",
       "1       1\n",
       "2       0\n",
       "3       1\n",
       "4       1\n",
       "       ..\n",
       "5567    0\n",
       "5568    1\n",
       "5569    1\n",
       "5570    1\n",
       "5571    1\n",
       "Name: Classe, Length: 5572, dtype: int64"
      ]
     },
     "execution_count": 396,
     "metadata": {},
     "output_type": "execute_result"
    }
   ],
   "source": [
    "target = smsData['Classe']\n",
    "target[target == 'ham'] = '1'\n",
    "target[target == 'spam'] = '0'\n",
    "target = target.astype(int)\n",
    "target"
   ]
  },
  {
   "cell_type": "code",
   "execution_count": 340,
   "metadata": {},
   "outputs": [
    {
     "data": {
      "text/plain": [
       "['Go until jurong point, crazy.. Available only in bugis n great world la e buffet... Cine there got amore wat...',\n",
       " 'Ok lar... Joking wif u oni...',\n",
       " \"Free entry in 2 a wkly comp to win FA Cup final tkts 21st May 2005. Text FA to 87121 to receive entry question(std txt rate)T&C's apply 08452810075over18's\",\n",
       " 'U dun say so early hor... U c already then say...',\n",
       " \"Nah I don't think he goes to usf, he lives around here though\",\n",
       " \"FreeMsg Hey there darling it's been 3 week's now and no word back! I'd like some fun you up for it still? Tb ok! XxX std chgs to send, £1.50 to rcv\",\n",
       " 'Even my brother is not like to speak with me. They treat me like aids patent.',\n",
       " \"As per your request 'Melle Melle (Oru Minnaminunginte Nurungu Vettam)' has been set as your callertune for all Callers. Press *9 to copy your friends Callertune\",\n",
       " 'WINNER!! As a valued network customer you have been selected to receivea £900 prize reward! To claim call 09061701461. Claim code KL341. Valid 12 hours only.',\n",
       " 'Had your mobile 11 months or more? U R entitled to Update to the latest colour mobiles with camera for Free! Call The Mobile Update Co FREE on 08002986030',\n",
       " \"I'm gonna be home soon and i don't want to talk about this stuff anymore tonight, k? I've cried enough today.\",\n",
       " 'SIX chances to win CASH! From 100 to 20,000 pounds txt> CSH11 and send to 87575. Cost 150p/day, 6days, 16+ TsandCs apply Reply HL 4 info',\n",
       " 'URGENT! You have won a 1 week FREE membership in our £100,000 Prize Jackpot! Txt the word: CLAIM to No: 81010 T&C www.dbuk.net LCCLTD POBOX 4403LDNW1A7RW18',\n",
       " \"I've been searching for the right words to thank you for this breather. I promise i wont take your help for granted and will fulfil my promise. You have been wonderful and a blessing at all times.\",\n",
       " 'I HAVE A DATE ON SUNDAY WITH WILL!!',\n",
       " 'XXXMobileMovieClub: To use your credit, click the WAP link in the next txt message or click here>> http://wap. xxxmobilemovieclub.com?n=QJKGIGHJJGCBL',\n",
       " \"Oh k...i'm watching here:)\",\n",
       " 'Eh u remember how 2 spell his name... Yes i did. He v naughty make until i v wet.',\n",
       " 'Fine if that\\x92s the way u feel. That\\x92s the way its gota b',\n",
       " 'England v Macedonia - dont miss the goals/team news. Txt ur national team to 87077 eg ENGLAND to 87077 Try:WALES, SCOTLAND 4txt/ú1.20 POBOXox36504W45WQ 16+',\n",
       " 'Is that seriously how you spell his name?',\n",
       " 'I‘m going to try for 2 months ha ha only joking',\n",
       " 'So ü pay first lar... Then when is da stock comin...',\n",
       " 'Aft i finish my lunch then i go str down lor. Ard 3 smth lor. U finish ur lunch already?',\n",
       " 'Ffffffffff. Alright no way I can meet up with you sooner?',\n",
       " \"Just forced myself to eat a slice. I'm really not hungry tho. This sucks. Mark is getting worried. He knows I'm sick when I turn down pizza. Lol\",\n",
       " 'Lol your always so convincing.',\n",
       " \"Did you catch the bus ? Are you frying an egg ? Did you make a tea? Are you eating your mom's left over dinner ? Do you feel my Love ?\",\n",
       " \"I'm back &amp; we're packing the car now, I'll let you know if there's room\",\n",
       " 'Ahhh. Work. I vaguely remember that! What does it feel like? Lol',\n",
       " \"Wait that's still not all that clear, were you not sure about me being sarcastic or that that's why x doesn't want to live with us\",\n",
       " \"Yeah he got in at 2 and was v apologetic. n had fallen out and she was actin like spoilt child and he got caught up in that. Till 2! But we won't go there! Not doing too badly cheers. You? \",\n",
       " 'K tell me anything about you.',\n",
       " 'For fear of fainting with the of all that housework you just did? Quick have a cuppa',\n",
       " 'Thanks for your subscription to Ringtone UK your mobile will be charged £5/month Please confirm by replying YES or NO. If you reply NO you will not be charged',\n",
       " 'Yup... Ok i go home look at the timings then i msg ü again... Xuhui going to learn on 2nd may too but her lesson is at 8am',\n",
       " \"Oops, I'll let you know when my roommate's done\",\n",
       " 'I see the letter B on my car',\n",
       " 'Anything lor... U decide...',\n",
       " \"Hello! How's you and how did saturday go? I was just texting to see if you'd decided to do anything tomo. Not that i'm trying to invite myself or anything!\",\n",
       " 'Pls go ahead with watts. I just wanted to be sure. Do have a great weekend. Abiola',\n",
       " 'Did I forget to tell you ? I want you , I need you, I crave you ... But most of all ... I love you my sweet Arabian steed ... Mmmmmm ... Yummy',\n",
       " '07732584351 - Rodger Burns - MSG = We tried to call you re your reply to our sms for a free nokia mobile + free camcorder. Please call now 08000930705 for delivery tomorrow',\n",
       " 'WHO ARE YOU SEEING?',\n",
       " 'Great! I hope you like your man well endowed. I am  &lt;#&gt;  inches...',\n",
       " 'No calls..messages..missed calls',\n",
       " \"Didn't you get hep b immunisation in nigeria.\",\n",
       " 'Fair enough, anything going on?',\n",
       " \"Yeah hopefully, if tyler can't do it I could maybe ask around a bit\",\n",
       " \"U don't know how stubborn I am. I didn't even want to go to the hospital. I kept telling Mark I'm not a weak sucker. Hospitals are for weak suckers.\",\n",
       " 'What you thinked about me. First time you saw me in class.',\n",
       " 'A gram usually runs like  &lt;#&gt; , a half eighth is smarter though and gets you almost a whole second gram for  &lt;#&gt;',\n",
       " \"K fyi x has a ride early tomorrow morning but he's crashing at our place tonight\",\n",
       " 'Wow. I never realized that you were so embarassed by your accomodations. I thought you liked it, since i was doing the best i could and you always seemed so happy about \"the cave\". I\\'m sorry I didn\\'t and don\\'t have more to give. I\\'m sorry i offered. I\\'m sorry your room was so embarassing.',\n",
       " 'SMS. ac Sptv: The New Jersey Devils and the Detroit Red Wings play Ice Hockey. Correct or Incorrect? End? Reply END SPTV',\n",
       " 'Do you know what Mallika Sherawat did yesterday? Find out now @  &lt;URL&gt;',\n",
       " 'Congrats! 1 year special cinema pass for 2 is yours. call 09061209465 now! C Suprman V, Matrix3, StarWars3, etc all 4 FREE! bx420-ip4-5we. 150pm. Dont miss out! ',\n",
       " \"Sorry, I'll call later in meeting.\",\n",
       " 'Tell where you reached',\n",
       " 'Yes..gauti and sehwag out of odi series.',\n",
       " \"Your gonna have to pick up a $1 burger for yourself on your way home. I can't even move. Pain is killing me.\",\n",
       " 'Ha ha ha good joke. Girls are situation seekers.',\n",
       " 'Its a part of checking IQ',\n",
       " 'Sorry my roommates took forever, it ok if I come by now?',\n",
       " 'Ok lar i double check wif da hair dresser already he said wun cut v short. He said will cut until i look nice.',\n",
       " 'As a valued customer, I am pleased to advise you that following recent review of your Mob No. you are awarded with a £1500 Bonus Prize, call 09066364589',\n",
       " 'Today is \"song dedicated day..\" Which song will u dedicate for me? Send this to all ur valuable frnds but first rply me...',\n",
       " 'Urgent UR awarded a complimentary trip to EuroDisinc Trav, Aco&Entry41 Or £1000. To claim txt DIS to 87121 18+6*£1.50(moreFrmMob. ShrAcomOrSglSuplt)10, LS1 3AJ',\n",
       " 'Did you hear about the new \"Divorce Barbie\"? It comes with all of Ken\\'s stuff!',\n",
       " 'I plane to give on this month end.',\n",
       " 'Wah lucky man... Then can save money... Hee...',\n",
       " 'Finished class where are you.',\n",
       " 'HI BABE IM AT HOME NOW WANNA DO SOMETHING? XX',\n",
       " 'K..k:)where are you?how did you performed?',\n",
       " 'U can call me now...',\n",
       " 'I am waiting machan. Call me once you free.',\n",
       " 'Thats cool. i am a gentleman and will treat you with dignity and respect.',\n",
       " 'I like you peoples very much:) but am very shy pa.',\n",
       " 'Does not operate after  &lt;#&gt;  or what',\n",
       " \"Its not the same here. Still looking for a job. How much do Ta's earn there.\",\n",
       " \"Sorry, I'll call later\",\n",
       " 'K. Did you call me just now ah? ',\n",
       " 'Ok i am on the way to home hi hi',\n",
       " 'You will be in the place of that man',\n",
       " 'Yup next stop.',\n",
       " \"I call you later, don't have network. If urgnt, sms me.\",\n",
       " \"For real when u getting on yo? I only need 2 more tickets and one more jacket and I'm done. I already used all my multis.\",\n",
       " \"Yes I started to send requests to make it but pain came back so I'm back in bed. Double coins at the factory too. I gotta cash in all my nitros.\",\n",
       " \"I'm really not up to it still tonight babe\",\n",
       " 'Ela kano.,il download, come wen ur free..',\n",
       " 'Yeah do! Don‘t stand to close tho- you‘ll catch something!',\n",
       " \"Sorry to be a pain. Is it ok if we meet another night? I spent late afternoon in casualty and that means i haven't done any of y stuff42moro and that includes all my time sheets and that. Sorry. \",\n",
       " 'Smile in Pleasure Smile in Pain Smile when trouble pours like Rain Smile when sum1 Hurts U Smile becoz SOMEONE still Loves to see u Smiling!!',\n",
       " 'Please call our customer service representative on 0800 169 6031 between 10am-9pm as you have WON a guaranteed £1000 cash or £5000 prize!',\n",
       " 'Havent planning to buy later. I check already lido only got 530 show in e afternoon. U finish work already?',\n",
       " 'Your free ringtone is waiting to be collected. Simply text the password \"MIX\" to 85069 to verify. Get Usher and Britney. FML, PO Box 5249, MK17 92H. 450Ppw 16',\n",
       " 'Watching telugu movie..wat abt u?',\n",
       " 'i see. When we finish we have loads of loans to pay',\n",
       " 'Hi. Wk been ok - on hols now! Yes on for a bit of a run. Forgot that i have hairdressers appointment at four so need to get home n shower beforehand. Does that cause prob for u?\"',\n",
       " 'I see a cup of coffee animation',\n",
       " \"Please don't text me anymore. I have nothing else to say.\",\n",
       " 'Okay name ur price as long as its legal! Wen can I pick them up? Y u ave x ams xx',\n",
       " \"I'm still looking for a car to buy. And have not gone 4the driving test yet.\",\n",
       " \"As per your request 'Melle Melle (Oru Minnaminunginte Nurungu Vettam)' has been set as your callertune for all Callers. Press *9 to copy your friends Callertune\",\n",
       " \"wow. You're right! I didn't mean to do that. I guess once i gave up on boston men and changed my search location to nyc, something changed. Cuz on my signin page it still says boston.\",\n",
       " 'Umma my life and vava umma love you lot dear',\n",
       " 'Thanks a lot for your wishes on my birthday. Thanks you for making my birthday truly memorable.',\n",
       " \"Aight, I'll hit you up when I get some cash\",\n",
       " \"How would my ip address test that considering my computer isn't a minecraft server\",\n",
       " 'I know! Grumpy old people. My mom was like you better not be lying. Then again I am always the one to play jokes...',\n",
       " \"Dont worry. I guess he's busy.\",\n",
       " 'What is the plural of the noun research?',\n",
       " 'Going for dinner.msg you after.',\n",
       " \"I'm ok wif it cos i like 2 try new things. But i scared u dun like mah. Cos u said not too loud.\",\n",
       " 'GENT! We are trying to contact you. Last weekends draw shows that you won a £1000 prize GUARANTEED. Call 09064012160. Claim Code K52. Valid 12hrs only. 150ppm',\n",
       " \"Wa, ur openin sentence very formal... Anyway, i'm fine too, juz tt i'm eatin too much n puttin on weight...Haha... So anythin special happened?\",\n",
       " \"As I entered my cabin my PA said, '' Happy B'day Boss !!''. I felt special. She askd me 4 lunch. After lunch she invited me to her apartment. We went there.\",\n",
       " 'You are a winner U have been specially selected 2 receive £1000 or a 4* holiday (flights inc) speak to a live operator 2 claim 0871277810910p/min (18+) ',\n",
       " 'Goodo! Yes we must speak friday - egg-potato ratio for tortilla needed! ',\n",
       " \"Hmm...my uncle just informed me that he's paying the school directly. So pls buy food.\",\n",
       " 'PRIVATE! Your 2004 Account Statement for 07742676969 shows 786 unredeemed Bonus Points. To claim call 08719180248 Identifier Code: 45239 Expires',\n",
       " 'URGENT! Your Mobile No. was awarded £2000 Bonus Caller Prize on 5/9/03 This is our final try to contact U! Call from Landline 09064019788 BOX42WR29C, 150PPM',\n",
       " 'here is my new address -apples&pairs&all that malarky',\n",
       " 'Todays Voda numbers ending 7548 are selected to receive a $350 award. If you have a match please call 08712300220 quoting claim code 4041 standard rates app',\n",
       " 'I am going to sao mu today. Will be done only at 12 ',\n",
       " \"Ü predict wat time ü'll finish buying?\",\n",
       " 'Good stuff, will do.',\n",
       " \"Just so that you know,yetunde hasn't sent money yet. I just sent her a text not to bother sending. So its over, you dont have to involve yourself in anything. I shouldn't have imposed anything on you in the first place so for that, i apologise.\",\n",
       " 'Are you there in room.',\n",
       " 'HEY GIRL. HOW R U? HOPE U R WELL ME AN DEL R BAK! AGAIN LONG TIME NO C! GIVE ME A CALL SUM TIME FROM LUCYxx',\n",
       " 'K..k:)how much does it cost?',\n",
       " \"I'm home.\",\n",
       " 'Dear, will call Tmorrow.pls accomodate.',\n",
       " 'First answer my question.',\n",
       " 'Sunshine Quiz Wkly Q! Win a top Sony DVD player if u know which country the Algarve is in? Txt ansr to 82277. £1.50 SP:Tyrone',\n",
       " \"Want 2 get laid tonight? Want real Dogging locations sent direct 2 ur mob? Join the UK's largest Dogging Network bt Txting GRAVEL to 69888! Nt. ec2a. 31p.msg@150p\",\n",
       " \"I only haf msn. It's yijue@hotmail.com\",\n",
       " 'He is there. You call and meet him',\n",
       " 'No no. I will check all rooms befor activities',\n",
       " \"You'll not rcv any more msgs from the chat svc. For FREE Hardcore services text GO to: 69988 If u get nothing u must Age Verify with yr network & try again\",\n",
       " 'Got c... I lazy to type... I forgot ü in lect... I saw a pouch but like not v nice...',\n",
       " \"K, text me when you're on the way\",\n",
       " 'Sir, Waiting for your mail.',\n",
       " 'A swt thought: \"Nver get tired of doing little things 4 lovable persons..\" Coz..somtimes those little things occupy d biggest part in their Hearts.. Gud ni8',\n",
       " 'I know you are. Can you pls open the back?',\n",
       " 'Yes see ya not on the dot',\n",
       " 'Whats the staff name who is taking class for us?',\n",
       " \"FreeMsg Why haven't you replied to my text? I'm Randy, sexy, female and live local. Luv to hear from u. Netcollex Ltd 08700621170150p per msg reply Stop to end\",\n",
       " 'Ummma.will call after check in.our life will begin from qatar so pls pray very hard.',\n",
       " 'K..i deleted my contact that why?',\n",
       " 'Sindu got job in birla soft ..',\n",
       " \"The wine is flowing and i'm i have nevering..\",\n",
       " 'Yup i thk cine is better cos no need 2 go down 2 plaza mah.',\n",
       " 'Ok... Ur typical reply...',\n",
       " \"As per your request 'Melle Melle (Oru Minnaminunginte Nurungu Vettam)' has been set as your callertune for all Callers. Press *9 to copy your friends Callertune\",\n",
       " 'You are everywhere dirt, on the floor, the windows, even on my shirt. And sometimes when i open my mouth, you are all that comes flowing out. I dream of my world without you, then half my chores are out too. A time of joy for me, lots of tv shows i.ll see. But i guess like all things you just must exist, like rain, hail and mist, and when my time here is done, you and i become one.',\n",
       " 'Aaooooright are you at work?',\n",
       " \"I'm leaving my house now...\",\n",
       " 'Hello, my love. What are you doing? Did you get to that interview today? Are you you happy? Are you being a good boy? Do you think of me?Are you missing me ?',\n",
       " 'Customer service annoncement. You have a New Years delivery waiting for you. Please call 07046744435 now to arrange delivery',\n",
       " 'You are a winner U have been specially selected 2 receive £1000 cash or a 4* holiday (flights inc) speak to a live operator 2 claim 0871277810810',\n",
       " \"Keep yourself safe for me because I need you and I miss you already and I envy everyone that see's you in real life\",\n",
       " 'New car and house for my parents.:)i have only new job in hand:)',\n",
       " \"I'm so in love with you. I'm excited each day i spend with you. You make me so happy.\",\n",
       " '-PLS STOP bootydelious (32/F) is inviting you to be her friend. Reply YES-434 or NO-434 See her: www.SMS.ac/u/bootydelious STOP? Send STOP FRND to 62468',\n",
       " 'BangBabes Ur order is on the way. U SHOULD receive a Service Msg 2 download UR content. If U do not, GoTo wap. bangb. tv on UR mobile internet/service menu',\n",
       " 'I place all ur points on e cultures module already.',\n",
       " 'URGENT! We are trying to contact you. Last weekends draw shows that you have won a £900 prize GUARANTEED. Call 09061701939. Claim code S89. Valid 12hrs only',\n",
       " \"Hi frnd, which is best way to avoid missunderstding wit our beloved one's?\",\n",
       " 'Great escape. I fancy the bridge but needs her lager. See you tomo ',\n",
       " 'Yes :)it completely in out of form:)clark also utter waste.',\n",
       " 'Sir, I need AXIS BANK account no and bank address.',\n",
       " 'Hmmm.. Thk sure got time to hop ard... Ya, can go 4 free abt... Muz call u to discuss liao... ',\n",
       " 'What time you coming down later? ',\n",
       " 'Bloody hell, cant believe you forgot my surname Mr . Ill give u a clue, its spanish and begins with m... ',\n",
       " \"Well, i'm gonna finish my bath now. Have a good...fine night.\",\n",
       " \"Let me know when you've got the money so carlos can make the call\",\n",
       " 'U still going to the mall?',\n",
       " \"Turns out my friends are staying for the whole show and won't be back til ~ &lt;#&gt; , so feel free to go ahead and smoke that $ &lt;#&gt;  worth\",\n",
       " 'Text her. If she doesnt reply let me know so i can have her log in',\n",
       " \"Hi! You just spoke to MANEESHA V. We'd like to know if you were satisfied with the experience. Reply Toll Free with Yes or No.\",\n",
       " 'You lifted my hopes with the offer of money. I am in need. Especially when the end of the month approaches and it hurts my studying. Anyways have a gr8 weekend',\n",
       " 'Lol no. U can trust me.',\n",
       " 'ok. I am a gentleman and will treat you with dignity and respect.',\n",
       " 'He will, you guys close?',\n",
       " 'Going on nothing great.bye',\n",
       " \"Hello handsome ! Are you finding that job ? Not being lazy ? Working towards getting back that net for mummy ? Where's my boytoy now ? Does he miss me ?\",\n",
       " 'Haha awesome, be there in a minute',\n",
       " 'Please call our customer service representative on FREEPHONE 0808 145 4742 between 9am-11pm as you have WON a guaranteed £1000 cash or £5000 prize!',\n",
       " 'Have you got Xmas radio times. If not i will get it now',\n",
       " 'I jus reached home. I go bathe first. But my sis using net tell u when she finishes k...',\n",
       " 'Are you unique enough? Find out from 30th August. www.areyouunique.co.uk',\n",
       " \"I'm sorry. I've joined the league of people that dont keep in touch. You mean a great deal to me. You have been a friend at all times even at great personal cost. Do have a great week.|\",\n",
       " 'Hi :)finally i completed the course:)',\n",
       " 'It will stop on itself. I however suggest she stays with someone that will be able to give ors for every stool.',\n",
       " \"How are you doing? Hope you've settled in for the new school year. Just wishin you a gr8 day\",\n",
       " 'Gud mrng dear hav a nice day',\n",
       " 'Did u got that persons story',\n",
       " 'is your hamster dead? Hey so tmr i meet you at 1pm orchard mrt? ',\n",
       " 'Hi its Kate how is your evening? I hope i can see you tomorrow for a bit but i have to bloody babyjontet! Txt back if u can. :) xxx',\n",
       " 'Found it, ENC  &lt;#&gt; , where you at?',\n",
       " 'I sent you  &lt;#&gt;  bucks',\n",
       " 'Hello darlin ive finished college now so txt me when u finish if u can love Kate xxx',\n",
       " 'Your account has been refilled successfully by INR  &lt;DECIMAL&gt; . Your KeralaCircle prepaid account balance is Rs  &lt;DECIMAL&gt; . Your Transaction ID is KR &lt;#&gt; .',\n",
       " 'Goodmorning sleeping ga.',\n",
       " 'U call me alter at 11 ok.',\n",
       " 'Ü say until like dat i dun buy ericsson oso cannot oredi lar...',\n",
       " \"As I entered my cabin my PA said, '' Happy B'day Boss !!''. I felt special. She askd me 4 lunch. After lunch she invited me to her apartment. We went there.\",\n",
       " 'Aight yo, dats straight dogg',\n",
       " 'You please give us connection today itself before  &lt;DECIMAL&gt;  or refund the bill',\n",
       " 'Both :) i shoot big loads so get ready!',\n",
       " \"What's up bruv, hope you had a great break. Do have a rewarding semester.\",\n",
       " 'Home so we can always chat',\n",
       " 'K:)k:)good:)study well.',\n",
       " 'Yup... How ü noe leh...',\n",
       " 'Sounds great! Are you home now?',\n",
       " 'Finally the match heading towards draw as your prediction.',\n",
       " \"Tired. I haven't slept well the past few nights.\",\n",
       " 'Easy ah?sen got selected means its good..',\n",
       " 'I have to take exam with march 3',\n",
       " \"Yeah you should. I think you can use your gt atm now to register. Not sure but if there's anyway i can help let me know. But when you do be sure you are ready.\",\n",
       " 'Ok no prob. Take ur time.',\n",
       " 'There is os called ubandu which will run without installing in hard disk...you can use that os to copy the important files in system and give it to repair shop..',\n",
       " \"Sorry, I'll call later\",\n",
       " 'U say leh... Of course nothing happen lar. Not say v romantic jus a bit only lor. I thk e nite scenery not so nice leh.',\n",
       " '500 New Mobiles from 2004, MUST GO! Txt: NOKIA to No: 89545 & collect yours today!From ONLY £1 www.4-tc.biz 2optout 087187262701.50gbp/mtmsg18',\n",
       " 'Would really appreciate if you call me. Just need someone to talk to.',\n",
       " 'Will u meet ur dream partner soon? Is ur career off 2 a flyng start? 2 find out free, txt HORO followed by ur star sign, e. g. HORO ARIES',\n",
       " 'Hey company elama po mudyadhu.',\n",
       " 'Life is more strict than teacher... Bcoz Teacher teaches lesson &amp; then conducts exam, But Life first conducts Exam &amp; then teaches Lessons. Happy morning. . .',\n",
       " 'Dear good morning now only i am up',\n",
       " 'Get down in gandhipuram and walk to cross cut road. Right side &lt;#&gt; street road and turn at first right.',\n",
       " 'Dear we are going to our rubber place',\n",
       " \"Sorry battery died, yeah I'm here\",\n",
       " 'Yes:)here tv is always available in work place..',\n",
       " 'Text & meet someone sexy today. U can find a date or even flirt its up to U. Join 4 just 10p. REPLY with NAME & AGE eg Sam 25. 18 -msg recd@thirtyeight pence',\n",
       " 'I have printed it oh. So  &lt;#&gt;  come upstairs',\n",
       " 'Or ill be a little closer like at the bus stop on the same street',\n",
       " 'Where are you?when wil you reach here?',\n",
       " \"New Theory: Argument wins d SITUATION, but loses the PERSON. So dont argue with ur friends just.. . . . kick them &amp; say, I'm always correct.!\",\n",
       " 'U 447801259231 have a secret admirer who is looking 2 make contact with U-find out who they R*reveal who thinks UR so special-call on 09058094597',\n",
       " 'Tomarrow final hearing on my laptop case so i cant.',\n",
       " 'PLEASSSSSSSEEEEEE TEL ME V AVENT DONE SPORTSx',\n",
       " 'Okay. No no, just shining on. That was meant to be signing, but that sounds better.',\n",
       " \"Although i told u dat i'm into baig face watches now but i really like e watch u gave cos it's fr u. Thanx 4 everything dat u've done today, i'm touched...\",\n",
       " \"U don't remember that old commercial?\",\n",
       " \"Too late. I said i have the website. I didn't i have or dont have the slippers\",\n",
       " 'I asked you to call him now ok',\n",
       " 'Kallis wont bat in 2nd innings.',\n",
       " 'It didnt work again oh. Ok goodnight then. I.ll fix and have it ready by the time you wake up. You are very dearly missed have a good night sleep.',\n",
       " 'Congratulations ur awarded 500 of CD vouchers or 125gift guaranteed & Free entry 2 100 wkly draw txt MUSIC to 87066 TnCs www.Ldew.com1win150ppmx3age16',\n",
       " 'Ranjith cal drpd Deeraj and deepak 5min hold',\n",
       " 'Wen ur lovable bcums angry wid u, dnt take it seriously.. Coz being angry is d most childish n true way of showing deep affection, care n luv!.. kettoda manda... Have nice day da.',\n",
       " 'What you doing?how are you?',\n",
       " 'Ups which is 3days also, and the shipping company that takes 2wks. The other way is usps which takes a week but when it gets to lag you may have to bribe nipost to get your stuff.',\n",
       " \"I'm back, lemme know when you're ready\",\n",
       " \"Don't necessarily expect it to be done before you get back though because I'm just now headin out\",\n",
       " 'Mmm so yummy babe ... Nice jolt to the suzy',\n",
       " 'Where are you lover ? I need you ...',\n",
       " 'We tried to contact you re your reply to our offer of a Video Handset? 750 anytime networks mins? UNLIMITED TEXT? Camcorder? Reply or call 08000930705 NOW',\n",
       " 'I‘m parked next to a MINI!!!! When are you coming in today do you think?',\n",
       " 'Yup',\n",
       " \"Anyway i'm going shopping on my own now. Cos my sis not done yet. Dun disturb u liao.\",\n",
       " 'MY NO. IN LUTON 0125698789 RING ME IF UR AROUND! H*',\n",
       " 'Hey I am really horny want to chat or see me naked text hot to 69698 text charged at 150pm to unsubscribe text stop 69698',\n",
       " 'Why you Dint come with us.',\n",
       " 'Same. Wana plan a trip sometme then',\n",
       " 'Not sure yet, still trying to get a hold of him',\n",
       " 'Ur ringtone service has changed! 25 Free credits! Go to club4mobiles.com to choose content now! Stop? txt CLUB STOP to 87070. 150p/wk Club4 PO Box1146 MK45 2WT',\n",
       " 'The evo. I just had to download flash. Jealous?',\n",
       " 'Ringtone Club: Get the UK singles chart on your mobile each week and choose any top quality ringtone! This message is free of charge.',\n",
       " \"Come to mu, we're sorting out our narcotics situation\",\n",
       " 'Night has ended for another day, morning has come in a special way. May you smile like the sunny rays and leaves your worries at the blue blue bay.',\n",
       " 'HMV BONUS SPECIAL 500 pounds of genuine HMV vouchers to be won. Just answer 4 easy questions. Play Now! Send HMV to 86688 More info:www.100percent-real.com',\n",
       " 'Usf I guess, might as well take 1 car',\n",
       " 'No objection. My bf not coming.',\n",
       " 'Thanx...',\n",
       " 'Tell rob to mack his gf in the theater',\n",
       " \"Awesome, I'll see you in a bit\",\n",
       " 'Just sent it. So what type of food do you like?',\n",
       " 'All done? All handed in? Celebrations in full swing yet?',\n",
       " 'You got called a tool?',\n",
       " 'Wen u miss someone, the person is definitely special for u..... But if the person is so special, why to miss them, just Keep-in-touch gdeve..',\n",
       " 'Ok. I asked for money how far',\n",
       " 'Okie...',\n",
       " \"Yeah I think my usual guy's still passed out from last night, if you get ahold of anybody let me know and I'll throw down\",\n",
       " 'K, I might come by tonight then if my class lets out early',\n",
       " 'Ok..',\n",
       " 'hi baby im cruisin with my girl friend what r u up 2? give me a call in and hour at home if thats alright or fone me on this fone now love jenny xxx',\n",
       " 'My life Means a lot to me, Not because I love my life, But because I love the people in my life, The world calls them friends, I call them my World:-).. Ge:-)..',\n",
       " 'Dear,shall mail tonite.busy in the street,shall update you tonite.things are looking ok.varunnathu edukkukayee raksha ollu.but a good one in real sense.',\n",
       " 'Hey you told your name to gautham ah?',\n",
       " 'Haf u found him? I feel so stupid da v cam was working.',\n",
       " 'Oops. 4 got that bit.',\n",
       " 'Are you this much buzy',\n",
       " 'I accidentally deleted the message. Resend please.',\n",
       " \"T-Mobile customer you may now claim your FREE CAMERA PHONE upgrade & a pay & go sim card for your loyalty. Call on 0845 021 3680.Offer ends 28thFeb.T&C's apply\",\n",
       " \"Unless it's a situation where YOU GO GURL would be more appropriate\",\n",
       " 'Hurt me... Tease me... Make me cry... But in the end of my life when i die plz keep one rose on my grave and say STUPID I MISS U.. HAVE A NICE DAY BSLVYL',\n",
       " 'I cant pick the phone right now. Pls send a message',\n",
       " \"Need a coffee run tomo?Can't believe it's that time of week already\",\n",
       " 'Awesome, I remember the last time we got somebody high for the first time with diesel :V',\n",
       " 'Shit that is really shocking and scary, cant imagine for a second. Def up for night out. Do u think there is somewhere i could crash for night, save on taxi?',\n",
       " 'Oh and by the way you do have more food in your fridge! Want to go out for a meal tonight? ',\n",
       " 'He is a womdarfull actor',\n",
       " 'SMS. ac Blind Date 4U!: Rodds1 is 21/m from Aberdeen, United Kingdom. Check Him out http://img. sms. ac/W/icmb3cktz8r7!-4 no Blind Dates send HIDE',\n",
       " 'Yup... From what i remb... I think should be can book... ',\n",
       " 'Jos ask if u wana meet up?',\n",
       " \"Lol yes. Our friendship is hanging on a thread cause u won't buy stuff.\",\n",
       " 'TheMob> Check out our newest selection of content, Games, Tones, Gossip, babes and sport, Keep your mobile fit and funky text WAP to 82468',\n",
       " \"Where are the garage keys? They aren't on the bookshelf\",\n",
       " 'Today is ACCEPT DAY..U Accept me as? Brother Sister Lover Dear1 Best1 Clos1 Lvblefrnd Jstfrnd Cutefrnd Lifpartnr Belovd Swtheart Bstfrnd No rply means enemy',\n",
       " 'Think ur smart ? Win £200 this week in our weekly quiz, text PLAY to 85222 now!T&Cs WinnersClub PO BOX 84, M26 3UZ. 16+. GBP1.50/week',\n",
       " \"He says he'll give me a call when his friend's got the money but that he's definitely buying before the end of the week\",\n",
       " 'Hi the way I was with u 2day, is the normal way&this is the real me. UR unique&I hope I know u 4 the rest of mylife. Hope u find wot was lost.',\n",
       " 'You made my day. Do have a great day too.',\n",
       " 'K.k:)advance happy pongal.',\n",
       " 'Hmmm... Guess we can go 4 kb n power yoga... Haha, dunno we can tahan power yoga anot... Thk got lo oso, forgot liao...',\n",
       " \"Not really dude, have no friends i'm afraid :(\",\n",
       " 'December only! Had your mobile 11mths+? You are entitled to update to the latest colour camera mobile for Free! Call The Mobile Update Co FREE on 08002986906',\n",
       " 'Coffee cake, i guess...',\n",
       " 'Merry Christmas to you too babe, i love ya *kisses*',\n",
       " 'Hey... Why dont we just go watch x men and have lunch... Haha ',\n",
       " 'cud u tell ppl im gona b a bit l8 cos 2 buses hav gon past cos they were full & im still waitin 4 1. Pete x',\n",
       " \"That would be great. We'll be at the Guild. Could meet on Bristol road or somewhere - will get in touch over weekend. Our plans take flight! Have a good week\",\n",
       " 'No problem. How are you doing?',\n",
       " 'No calls..messages..missed calls',\n",
       " 'Hi da:)how is the todays class?',\n",
       " \"I'd say that's a good sign but, well, you know my track record at reading women\",\n",
       " \"Cool, text me when you're parked\",\n",
       " \"I'm reading the text i just sent you. Its meant to be a joke. So read it in that light\",\n",
       " 'K.k:)apo k.good movie.',\n",
       " 'Maybe i could get book out tomo then return it immediately ..? Or something.',\n",
       " 'Call Germany for only 1 pence per minute! Call from a fixed line via access number 0844 861 85 85. No prepayment. Direct access!',\n",
       " \"Any chance you might have had with me evaporated as soon as you violated my privacy by stealing my phone number from your employer's paperwork. Not cool at all. Please do not contact me again or I will report you to your supervisor.\",\n",
       " 'Valentines Day Special! Win over £1000 in our quiz and take your partner on the trip of a lifetime! Send GO to 83600 now. 150p/msg rcvd. CustCare:08718720201.',\n",
       " 'Ta-Daaaaa! I am home babe, are you still up ?',\n",
       " 'Cool. So how come you havent been wined and dined before?',\n",
       " 'Just sleeping..and surfing',\n",
       " \"Sorry, I'll call later\",\n",
       " 'U calling me right? Call my hand phone...',\n",
       " \"Ok that's great thanx a lot.\",\n",
       " 'I take it the post has come then! You must have 1000s of texts now! Happy reading. My one from wiv hello caroline at the end is my favourite. Bless him',\n",
       " 'Where u been hiding stranger?',\n",
       " 'Am not interested to do like that.',\n",
       " 'My sister cleared two round in birla soft yesterday.',\n",
       " 'Gudnite....tc...practice going on',\n",
       " 'Dis is yijue. I jus saw ur mail. In case huiming havent sent u my num. Dis is my num.',\n",
       " 'One small prestige problem now.',\n",
       " 'Fancy a shag? I do.Interested? sextextuk.com txt XXUK SUZY to 69876. Txts cost 1.50 per msg. TnCs on website. X',\n",
       " 'Just checking in on you. Really do miss seeing Jeremiah. Do have a great month',\n",
       " \"Nah can't help you there, I've never had an iphone\",\n",
       " \"If you're not in my car in an hour and a half I'm going apeshit\",\n",
       " \"TODAY is Sorry day.! If ever i was angry with you, if ever i misbehaved or hurt you? plz plz JUST SLAP URSELF Bcoz, Its ur fault, I'm basically GOOD\",\n",
       " 'Yo you guys ever figure out how much we need for alcohol? Jay and I are trying to figure out how much we can safely spend on weed',\n",
       " '&lt;#&gt; ISH MINUTES WAS 5 MINUTES AGO. WTF.',\n",
       " 'Thank You for calling.Forgot to say Happy Onam to you Sirji.I am fine here and remembered you when i met an insurance person.Meet You in Qatar Insha Allah.Rakhesh, ex Tata AIG who joined TISSCO,Tayseer.',\n",
       " 'Congratulations ur awarded 500 of CD vouchers or 125gift guaranteed & Free entry 2 100 wkly draw txt MUSIC to 87066 TnCs www.Ldew.com1win150ppmx3age16',\n",
       " 'Ur cash-balance is currently 500 pounds - to maximize ur cash-in now send CASH to 86688 only 150p/msg. CC: 08708800282 HG/Suite342/2Lands Row/W1J6HL',\n",
       " \"I'm an actor. When i work, i work in the evening and sleep late. Since i'm unemployed at the moment, i ALWAYS sleep late. When you're unemployed, every day is saturday.\",\n",
       " 'Hello! Just got here, st andrews-boy its a long way! Its cold. I will keep you posted',\n",
       " 'Ha ha cool cool chikku chikku:-):-DB-)',\n",
       " 'Oh ok no prob..',\n",
       " \"Check audrey's status right now\",\n",
       " 'Busy here. Trying to finish for new year. I am looking forward to finally meeting you...',\n",
       " 'Good afternoon sunshine! How dawns that day ? Are we refreshed and happy to be alive? Do we breathe in the air and smile ? I think of you, my love ... As always',\n",
       " 'Well i know Z will take care of me. So no worries.',\n",
       " 'Update_Now - Xmas Offer! Latest Motorola, SonyEricsson & Nokia & FREE Bluetooth! Double Mins & 1000 Txt on Orange. Call MobileUpd8 on 08000839402 or call2optout/F4Q=',\n",
       " 'Here is your discount code RP176781. To stop further messages reply stop. www.regalportfolio.co.uk. Customer Services 08717205546',\n",
       " 'Wat uniform? In where get?',\n",
       " \"Cool, text me when you're ready\",\n",
       " 'Hello my boytoy ... Geeee I miss you already and I just woke up. I wish you were here in bed with me, cuddling me. I love you ...',\n",
       " 'I will spoil you in bed as well :)',\n",
       " \"I'm going for bath will msg you next  &lt;#&gt;  min..\",\n",
       " 'I cant keep talking to people if am not sure i can pay them if they agree to price. So pls tell me what you want to really buy and how much you are willing to pay',\n",
       " 'Thanks for your Ringtone Order, Reference T91. You will be charged GBP 4 per week. You can unsubscribe at anytime by calling customer services on 09057039994',\n",
       " 'Can you say what happen',\n",
       " \"You could have seen me..i did't recognise you Face.:)\",\n",
       " \"Well there's not a lot of things happening in Lindsay on New years *sighs* Some bars in Ptbo and the blue heron has something going\",\n",
       " 'Keep my payasam there if rinu brings',\n",
       " 'I taught that Ranjith sir called me. So only i sms like that. Becaus hes verifying about project. Prabu told today so only pa dont mistake me..',\n",
       " \"I guess that's why you re worried. You must know that there's a way the body repairs itself. And i'm quite sure you shouldn't worry. We'll take it slow. First the tests, they will guide when your ovulation is then just relax. Nothing you've said is a reason to worry but i.ll keep on followin you up.\",\n",
       " 'Yeah sure, give me a couple minutes to track down my wallet',\n",
       " 'Hey leave it. not a big deal:-) take care.',\n",
       " 'Hey i will be late ah... Meet you at 945+',\n",
       " 'Double mins and txts 4 6months FREE Bluetooth on Orange. Available on Sony, Nokia Motorola phones. Call MobileUpd8 on 08000839402 or call2optout/N9DX',\n",
       " 'It took Mr owl 3 licks',\n",
       " 'Customer place i will call you.',\n",
       " 'Mm that time you dont like fun',\n",
       " '4mths half price Orange line rental & latest camera phones 4 FREE. Had your phone 11mths ? Call MobilesDirect free on 08000938767 to update now! or2stoptxt',\n",
       " 'Yup having my lunch buffet now.. U eat already?',\n",
       " 'Huh so late... Fr dinner?',\n",
       " 'Hey so this sat are we going for the intro pilates only? Or the kickboxing too? ',\n",
       " 'Morning only i can ok.',\n",
       " 'Yes i think so. I am in office but my lap is in room i think thats on for the last few days. I didnt shut that down',\n",
       " 'Pick you up bout 7.30ish? What time are  and that going?',\n",
       " 'From here after The performance award is calculated every two month.not for current one month period..',\n",
       " 'Was actually sleeping and still might when u call back. So a text is gr8. You rock sis. Will send u a text wen i wake.',\n",
       " \"You are always putting your business out there. You put pictures of your ass on facebook. You are one of the most open people i've ever met. Why would i think a picture of your room would hurt you, make you feel violated.\",\n",
       " 'Good evening Sir, Al Salam Wahleykkum.sharing a happy news.By the grace of God, i got an offer from Tayseer,TISSCO and i joined.Hope you are fine.Inshah Allah,meet you sometime.Rakhesh,visitor from India.',\n",
       " 'Hmmm...k...but i want to change the field quickly da:-)i wanna get system administrator or network administrator..',\n",
       " 'FREE RINGTONE text FIRST to 87131 for a poly or text GET to 87131 for a true tone! Help? 0845 2814032 16 after 1st free, tones are 3x£150pw to e£nd txt stop',\n",
       " 'Dear how is chechi. Did you talk to her',\n",
       " 'The hair cream has not been shipped.',\n",
       " \"None of that's happening til you get here though\",\n",
       " 'Yep, the great loxahatchee xmas tree burning of  &lt;#&gt;  starts in an hour',\n",
       " 'Haha get used to driving to usf man, I know a lot of stoners',\n",
       " \"All was well until slightly disastrous class this pm with my fav darlings! Hope day off ok. Coffee wld be good as can't stay late tomorrow. Same time + place as always?\",\n",
       " 'Hello! Good week? Fancy a drink or something later?',\n",
       " 'Headin towards busetop',\n",
       " 'Message:some text missing* Sender:Name Missing* *Number Missing *Sent:Date missing *Missing U a lot thats y everything is missing sent via fullonsms.com',\n",
       " 'Come by our room at some point so we can iron out the plan for this weekend',\n",
       " 'Cos i want it to be your thing',\n",
       " \"Okies... I'll go yan jiu too... We can skip ard oso, go cine den go mrt one, blah blah blah... \",\n",
       " 'Bring home some Wendy =D',\n",
       " '100 dating service cal;l 09064012103 box334sk38ch',\n",
       " 'Whatsup there. Dont u want to sleep',\n",
       " 'Alright i have a new goal now',\n",
       " 'FREE entry into our £250 weekly competition just text the word WIN to 80086 NOW. 18 T&C www.txttowin.co.uk',\n",
       " \"Alright, I'll head out in a few minutes, text me where to meet you\",\n",
       " 'Send a logo 2 ur lover - 2 names joined by a heart. Txt LOVE NAME1 NAME2 MOBNO eg LOVE ADAM EVE 07123456789 to 87077 Yahoo! POBox36504W45WQ TxtNO 4 no ads 150p',\n",
       " \"Yes:)from last week itself i'm taking live call.\",\n",
       " 'Someone has contacted our dating service and entered your phone because they fancy you! To find out who it is call from a landline 09111032124 . PoBox12n146tf150p',\n",
       " 'Siva is in hostel aha:-.',\n",
       " 'URGENT! Your Mobile number has been awarded with a £2000 prize GUARANTEED. Call 09058094455 from land line. Claim 3030. Valid 12hrs only',\n",
       " 'Send this to ur friends and receive something about ur voice..... How is my speaking expression? 1.childish 2.naughty 3.Sentiment 4.rowdy 5.ful of attitude 6.romantic 7.shy 8.Attractive 9.funny  &lt;#&gt; .irritating  &lt;#&gt; .lovable. reply me..',\n",
       " \"Ok. She'll be ok. I guess\",\n",
       " 'aathi..where are you dear..',\n",
       " 'Any pain on urination any thing else?',\n",
       " '7 at esplanade.. Do ü mind giving me a lift cos i got no car today..',\n",
       " 'I wnt to buy a BMW car urgently..its vry urgent.but hv a shortage of  &lt;#&gt; Lacs.there is no source to arng dis amt. &lt;#&gt; lacs..thats my prob',\n",
       " 'At home watching tv lor.',\n",
       " 'Does she usually take fifteen fucking minutes to respond to a yes or no question',\n",
       " 'Congrats! Nokia 3650 video camera phone is your Call 09066382422 Calls cost 150ppm Ave call 3mins vary from mobiles 16+ Close 300603 post BCM4284 Ldn WC1N3XX',\n",
       " 'Booked ticket for pongal?',\n",
       " \"You available now? I'm like right around hillsborough &amp;  &lt;#&gt; th\",\n",
       " 'The message sent is askin for  &lt;#&gt; dollars. Shoul i pay  &lt;#&gt;  or  &lt;#&gt; ?',\n",
       " \"Ask g or iouri, I've told the story like ten times already\",\n",
       " 'How long does applebees fucking take',\n",
       " 'Hi hope u get this txt~journey hasnt been gd,now about 50 mins late I think.',\n",
       " 'But i have to. I like to have love and arrange.',\n",
       " 'Yes..he is really great..bhaji told kallis best cricketer after sachin in world:).very tough to get out.',\n",
       " 'You were supposed to wake ME up &gt;:(',\n",
       " 'Oic... I saw him too but i tot he din c me... I found a group liao...',\n",
       " \"Sorry, I'll call later\",\n",
       " 'HEY HEY WERETHE MONKEESPEOPLE SAY WE MONKEYAROUND! HOWDY GORGEOUS, HOWU DOIN? FOUNDURSELF A JOBYET SAUSAGE?LOVE JEN XXX',\n",
       " \"Sorry, my battery died, I can come by but I'm only getting a gram for now, where's your place?\",\n",
       " 'Well done, blimey, exercise, yeah, i kinda remember wot that is, hmm. ',\n",
       " 'I wont get concentration dear you know you are my mind and everything :-)',\n",
       " 'LOL ... Have you made plans for new years?',\n",
       " '10 min later k...',\n",
       " 'hanks lotsly!',\n",
       " 'Thanks for this hope you had a good day today',\n",
       " 'K:)k:)what are detail you want to transfer?acc no enough?',\n",
       " 'Ok i will tell her to stay out. Yeah its been tough but we are optimistic things will improve this month.',\n",
       " \"Loan for any purpose £500 - £75,000. Homeowners + Tenants welcome. Have you been previously refused? We can still help. Call Free 0800 1956669 or text back 'help'\",\n",
       " 'Si si. I think ill go make those oreo truffles.',\n",
       " 'LOOK AT AMY URE A BEAUTIFUL, INTELLIGENT WOMAN AND I LIKE U A LOT. I KNOW U DON\\x92T LIKE ME LIKE THAT SO DON\\x92T WORRY.',\n",
       " \"I hope you that's the result of being consistently intelligent and kind. Start asking him about practicum links and keep your ears open and all the best. ttyl\",\n",
       " '1.20 that call cost. Which i guess isnt bad. Miss ya, need ya, want ya, love ya',\n",
       " 'Going thru a very different feeling.wavering decisions and coping up with the same is the same individual.time will heal everything i believe.',\n",
       " 'Where did u go? My phone is gonna die you have to stay in here',\n",
       " 'Great. Never been better. Each day gives even more reasons to thank God',\n",
       " \"UpgrdCentre Orange customer, you may now claim your FREE CAMERA PHONE upgrade for your loyalty. Call now on 0207 153 9153. Offer ends 26th July. T&C's apply. Opt-out available\",\n",
       " \"Sorry, I'll call later ok bye\",\n",
       " 'Ok i am on the way to railway',\n",
       " 'great princess! I love giving and receiving oral. Doggy style is my fave position. How about you? I enjoy making love  &lt;#&gt;  times per night :)',\n",
       " \"They don't put that stuff on the roads to keep it from getting slippery over there?\",\n",
       " 'When are you going to ride your bike?',\n",
       " \"Yup, no need. I'll jus wait 4 e rain 2 stop.\",\n",
       " 'There are many company. Tell me the language.',\n",
       " 'okmail: Dear Dave this is your final notice to collect your 4* Tenerife Holiday or #5000 CASH award! Call 09061743806 from landline. TCs SAE Box326 CW25WX 150ppm',\n",
       " 'How long has it been since you screamed, princess?',\n",
       " 'Nothing. I meant that once the money enters your account here, the bank will remove its flat rate. Someone transfered  &lt;#&gt;  to my account and  &lt;#&gt; dollars got removed. So the banks differ and charges also differ.be sure you trust the 9ja person you are sending account details to cos...',\n",
       " \"Want 2 get laid tonight? Want real Dogging locations sent direct 2 ur Mob? Join the UK's largest Dogging Network by txting MOAN to 69888Nyt. ec2a. 31p.msg@150p\",\n",
       " \"Nice line said by a broken heart- Plz don't cum 1 more times infront of me... Other wise once again I ll trust U... Good 9t:)\",\n",
       " \"Ok I'm gonna head up to usf in like fifteen minutes\",\n",
       " 'Love you aathi..love u lot..',\n",
       " 'Tension ah?what machi?any problem?',\n",
       " \"K, can I pick up another 8th when you're done?\",\n",
       " \"When're you guys getting back? G said you were thinking about not staying for mcr\",\n",
       " 'Almost there, see u in a sec',\n",
       " 'Yo carlos, a few friends are already asking me about you, you working at all this weekend?',\n",
       " 'Watching tv lor...',\n",
       " 'Thank you baby! I cant wait to taste the real thing...',\n",
       " 'You should change your fb to jaykwon thuglyfe falconerf',\n",
       " 'If we win its really no 1 side for long time.',\n",
       " 'FREE MESSAGE Activate your 500 FREE Text Messages by replying to this message with the word FREE For terms & conditions, visit www.07781482378.com',\n",
       " 'Dear reached railway. What happen to you',\n",
       " 'Depends on quality. If you want the type i sent boye, faded glory, then about 6. If you want ralphs maybe 2',\n",
       " \"I think i've fixed it can you send a test message?\",\n",
       " \"Sorry man my account's dry or I would, if you want we could trade back half or I could buy some shit with my credit card\",\n",
       " 'Congrats! 1 year special cinema pass for 2 is yours. call 09061209465 now! C Suprman V, Matrix3, StarWars3, etc all 4 FREE! bx420-ip4-5we. 150pm. Dont miss out!',\n",
       " \"Sorry,in meeting I'll call later\",\n",
       " 'What class of  &lt;#&gt;  reunion?',\n",
       " 'Are you free now?can i call now?',\n",
       " 'Got meh... When?',\n",
       " 'Nope... Think i will go for it on monday... Sorry i replied so late',\n",
       " 'Some of them told accenture is not confirm. Is it true.',\n",
       " 'Kate jackson rec center before 7ish, right?',\n",
       " 'Dear i have reache room',\n",
       " 'Fighting with the world is easy, u either win or lose bt fightng with some1 who is close to u is dificult if u lose - u lose if u win - u still lose.',\n",
       " 'When can ü come out?',\n",
       " 'Check with nuerologist.',\n",
       " 'Lolnice. I went from a fish to ..water.?',\n",
       " \"+123 Congratulations - in this week's competition draw u have won the £1450 prize to claim just call 09050002311 b4280703. T&Cs/stop SMS 08718727868. Over 18 only 150ppm\",\n",
       " \"No it's waiting in e car dat's bored wat. Cos wait outside got nothing 2 do. At home can do my stuff or watch tv wat.\",\n",
       " 'Maybe westshore or hyde park village, the place near my house?',\n",
       " \"You should know now. So how's anthony. Are you bringing money. I've school fees to pay and rent and stuff like that. Thats why i need your help. A friend in need....|\",\n",
       " \"What's the significance?\",\n",
       " 'Your opinion about me? 1. Over 2. Jada 3. Kusruthi 4. Lovable 5. Silent 6. Spl character 7. Not matured 8. Stylish 9. Simple Pls reply..',\n",
       " \"8 at the latest, g's still there if you can scrounge up some ammo and want to give the new ak a try\",\n",
       " \"Prabha..i'm soryda..realy..frm heart i'm sory\",\n",
       " 'Lol ok your forgiven :)',\n",
       " 'No..jst change tat only..',\n",
       " 'You are guaranteed the latest Nokia Phone, a 40GB iPod MP3 player or a £500 prize! Txt word: COLLECT to No: 83355! IBHltd LdnW15H 150p/Mtmsgrcvd18+',\n",
       " 'S:)no competition for him.',\n",
       " 'Boltblue tones for 150p Reply POLY# or MONO# eg POLY3 1. Cha Cha Slide 2. Yeah 3. Slow Jamz 6. Toxic 8. Come With Me or STOP 4 more tones txt MORE',\n",
       " 'Your credits have been topped up for http://www.bubbletext.com Your renewal Pin is tgxxrz',\n",
       " 'That way transport is less problematic than on sat night. By the way, if u want to ask  n  to join my bday, feel free. But need to know definite nos as booking on fri. ',\n",
       " \"Usually the person is unconscious that's in children but in adults they may just behave abnormally. I.ll call you now\",\n",
       " \"But that's on ebay it might be less elsewhere.\",\n",
       " 'Shall i come to get pickle',\n",
       " 'Were gonna go get some tacos',\n",
       " \"That's very rude, you on campus?\",\n",
       " 'URGENT!: Your Mobile No. was awarded a £2,000 Bonus Caller Prize on 02/09/03! This is our 2nd attempt to contact YOU! Call 0871-872-9755 BOX95QU',\n",
       " \"Hi i won't b ard 4 christmas. But do enjoy n merry x'mas.\",\n",
       " \"Today's Offer! Claim ur £150 worth of discount vouchers! Text YES to 85023 now! SavaMob, member offers mobile! T Cs 08717898035. £3.00 Sub. 16 . Unsub reply X\",\n",
       " 'Yes! How is a pretty lady like you single?',\n",
       " 'You will recieve your tone within the next 24hrs. For Terms and conditions please see Channel U Teletext Pg 750',\n",
       " \"Jay says that you're a double-faggot\",\n",
       " 'PRIVATE! Your 2003 Account Statement for 07815296484 shows 800 un-redeemed S.I.M. points. Call 08718738001 Identifier Code 41782 Expires 18/11/04 ',\n",
       " 'What Today-sunday..sunday is holiday..so no work..',\n",
       " 'Gudnite....tc...practice going on',\n",
       " \"I'll be late...\",\n",
       " \"I've not called you in a while. This is hoping it was l8r malaria and that you know that we miss you guys. I miss Bani big, so pls give her my love especially. Have a great day.\",\n",
       " 'Good afternoon, my love! How goes that day ? I hope maybe you got some leads on a job. I think of you, boytoy and send you a passionate kiss from across the sea',\n",
       " 'Probably gonna be here for a while, see you later tonight &lt;)',\n",
       " \"Or maybe my fat fingers just press all these buttons and it doesn't know what to do.\",\n",
       " 'Ummmmmaah Many many happy returns of d day my dear sweet heart.. HAPPY BIRTHDAY dear',\n",
       " 'I am in tirupur da, once you started from office call me.',\n",
       " 'from www.Applausestore.com MonthlySubscription@50p/msg max6/month T&CsC web age16 2stop txt stop',\n",
       " \"A famous quote : when you develop the ability to listen to 'anything' unconditionally without losing your temper or self confidence, it means you are ......... 'MARRIED'\",\n",
       " 'But am going to college pa. What to do. are else ill come there it self. Pa.',\n",
       " '4 oclock at mine. Just to bash out a flat plan.',\n",
       " \"This girl does not stay in bed. This girl doesn't need recovery time. Id rather pass out while having fun then be cooped up in bed\",\n",
       " 'Then any special there?',\n",
       " \"I know but you need to get hotel now. I just got my invitation but i had to apologise. Cali is to sweet for me to come to some english bloke's weddin\",\n",
       " 'Sorry that took so long, omw now',\n",
       " 'Wait  &lt;#&gt;  min..',\n",
       " \"Ok give me 5 minutes I think I see her. BTW you're my alibi. You were cutting my hair the whole time.\",\n",
       " 'Imagine you finally get to sink into that bath after I have put you through your paces, maybe even having you eat me for a while before I left ... But also imagine the feel of that cage on your cock surrounded by the bath water, reminding you always who owns you ... Enjoy, my cuck',\n",
       " \"Hurry up, I've been weed-deficient for like three days\",\n",
       " \"Sure, if I get an acknowledgement from you that it's astoundingly tactless and generally faggy to demand a blood oath fo\",\n",
       " \"Ok. Every night take a warm bath drink a cup of milk and you'll see a work of magic. You still need to loose weight. Just so that you know\",\n",
       " 'I‘ll have a look at the frying pan in case it‘s cheap or a book perhaps. No that‘s silly a frying pan isn‘t likely to be a book',\n",
       " 'O. Well uv causes mutations. Sunscreen is like essential thesedays',\n",
       " 'Having lunch:)you are not in online?why?',\n",
       " 'I know that my friend already told that.',\n",
       " 'Hi Princess! Thank you for the pics. You are very pretty. How are you?',\n",
       " 'Aiyo... U always c our ex one... I dunno abt mei, she haven reply... First time u reply so fast... Y so lucky not workin huh, got bao by ur sugardad ah...gee.. ',\n",
       " \"Hi msg me:)i'm in office..\",\n",
       " \"Thanx 4 e brownie it's v nice...\",\n",
       " 'Geeeee ... I love you so much I can barely stand it',\n",
       " 'GENT! We are trying to contact you. Last weekends draw shows that you won a £1000 prize GUARANTEED. Call 09064012160. Claim Code K52. Valid 12hrs only. 150ppm ',\n",
       " \"Fuck babe ... I miss you already, you know ? Can't you let me send you some money towards your net ? I need you ... I want you ... I crave you ...\",\n",
       " 'Ill call u 2mrw at ninish, with my address that icky American freek wont stop callin me 2 bad Jen k eh?',\n",
       " 'Oooh bed ridden ey? What are YOU thinking of?',\n",
       " 'So anyways, you can just go to your gym or whatever, my love *smiles* I hope your ok and having a good day babe ... I miss you so much already',\n",
       " 'Love it! Daddy will make you scream with pleasure! I am going to slap your ass with my dick!',\n",
       " 'WOT U WANNA DO THEN MISSY?',\n",
       " 'Yar lor wait 4 my mum 2 finish sch then have lunch lor... I whole morning stay at home clean my room now my room quite clean... Hee...',\n",
       " 'Do you know where my lab goggles went',\n",
       " 'Can you open the door?',\n",
       " 'Waiting for your call.',\n",
       " 'Nope i waiting in sch 4 daddy... ',\n",
       " 'You have won ?1,000 cash or a ?2,000 prize! To claim, call09050000327',\n",
       " \"I'm tired of arguing with you about this week after week. Do what you want and from now on, i'll do the same.\",\n",
       " 'Ü wait 4 me in sch i finish ard 5..',\n",
       " 'our mobile number has won £5000, to claim calls us back or ring the claims hot line on 09050005321.',\n",
       " 'Arngd marriage is while u r walkin unfortuntly a snake bites u. bt love marriage is dancing in frnt of d snake &amp; sayin Bite me, bite me.',\n",
       " 'Huh so early.. Then ü having dinner outside izzit?',\n",
       " 'Ok anyway no need to change with what you said',\n",
       " 'We tried to contact you re your reply to our offer of 750 mins 150 textand a new video phone call 08002988890 now or reply for free delivery tomorrow',\n",
       " 'my ex-wife was not able to have kids. Do you want kids one day?',\n",
       " \"So how's scotland. Hope you are not over showing your JJC tendencies. Take care. Live the dream\",\n",
       " 'Tell them u have a headache and just want to use 1 hour of sick time.',\n",
       " \"I dun thk i'll quit yet... Hmmm, can go jazz ? Yogasana oso can... We can go meet em after our lessons den... \",\n",
       " 'Pete can you please ring meive hardly gotany credit',\n",
       " 'Ya srsly better than yi tho',\n",
       " \"I'm in a meeting, call me later at\",\n",
       " \"For ur chance to win a £250 wkly shopping spree TXT: SHOP to 80878. T's&C's www.txt-2-shop.com custcare 08715705022, 1x150p/wk\",\n",
       " 'You have been specially selected to receive a 2000 pound award! Call 08712402050 BEFORE the lines close. Cost 10ppm. 16+. T&Cs apply. AG Promo',\n",
       " 'PRIVATE! Your 2003 Account Statement for 07753741225 shows 800 un-redeemed S. I. M. points. Call 08715203677 Identifier Code: 42478 Expires 24/10/04',\n",
       " 'You still at grand prix?',\n",
       " 'I met you as a stranger and choose you as my friend. As long as the world stands, our friendship never ends. Lets be Friends forever!!! Gud nitz...',\n",
       " 'I am great! How are you?',\n",
       " 'Gud mrng dear have a nice day',\n",
       " 'You have an important customer service announcement. Call FREEPHONE 0800 542 0825 now!',\n",
       " 'Will do. Was exhausted on train this morning. Too much wine and pie. You sleep well too',\n",
       " \"I'm going out to buy mum's present ar.\",\n",
       " 'Mind blastin.. No more Tsunamis will occur from now on.. Rajnikant stopped swimming in Indian Ocean..:-D',\n",
       " \"If u sending her home first it's ok lor. I'm not ready yet.\",\n",
       " 'Speaking of does he have any cash yet?',\n",
       " 'Be happy there. I will come after noon',\n",
       " 'Meet after lunch la...',\n",
       " 'TaKe CaRE n gET WeLL sOOn',\n",
       " 'XCLUSIVE@CLUBSAISAI 2MOROW 28/5 SOIREE SPECIALE ZOUK WITH NICHOLS FROM PARIS.FREE ROSES 2 ALL LADIES !!! info: 07946746291/07880867867 ',\n",
       " 'what I meant to say is cant wait to see u again getting bored of this bridgwater banter',\n",
       " \"Neva mind it's ok..\",\n",
       " \"It's fine, imma get a drink or somethin. Want me to come find you?\",\n",
       " '22 days to kick off! For Euro2004 U will be kept up to date with the latest news and results daily. To be removed send GET TXT STOP to 83222',\n",
       " 'Its a valentine game. . . Send dis msg to all ur friends. .. If 5 answers r d same then someone really loves u. Ques- which colour suits me the best?rply me',\n",
       " 'I have many dependents',\n",
       " 'THANX4 TODAY CER IT WAS NICE 2 CATCH UP BUT WE AVE 2 FIND MORE TIME MORE OFTEN OH WELL TAKE CARE C U SOON.C',\n",
       " 'I called and said all to him:)then he have to choose this future.',\n",
       " 'Happy valentines day I know its early but i have hundreds of handsomes and beauties to wish. So i thought to finish off aunties and uncles 1st...',\n",
       " 'He like not v shock leh. Cos telling shuhui is like telling leona also. Like dat almost all know liao. He got ask me abt ur reaction lor.',\n",
       " 'For my family happiness..',\n",
       " 'I come n pick ü up... Come out immediately aft ur lesson...',\n",
       " 'Let there be snow. Let there be snow. This kind of weather brings ppl together so friendships can grow.',\n",
       " 'Dear we got  &lt;#&gt;  dollars hi hi',\n",
       " 'Good words.... But words may leave u in dismay many times.',\n",
       " \"MAKE SURE ALEX KNOWS HIS BIRTHDAY IS OVER IN FIFTEEN MINUTES AS FAR AS YOU'RE CONCERNED\",\n",
       " 'sorry, no, have got few things to do. may be in pub later.',\n",
       " \"Nah it's straight, if you can just bring bud or drinks or something that's actually a little more useful than straight cash\",\n",
       " \"Haha good to hear, I'm officially paid and on the market for an 8th\",\n",
       " 'How many licks does it take to get to the center of a tootsie pop?',\n",
       " 'Yup i thk they r e teacher said that will make my face look longer. Darren ask me not 2 cut too short.',\n",
       " 'New TEXTBUDDY Chat 2 horny guys in ur area 4 just 25p Free 2 receive Search postcode or at gaytextbuddy.com. TXT ONE name to 89693',\n",
       " 'Todays Vodafone numbers ending with 4882 are selected to a receive a £350 award. If your number matches call 09064019014 to receive your £350 award.',\n",
       " 'Please dont say like that. Hi hi hi',\n",
       " 'Thank u!',\n",
       " 'Oh that was a forwarded message. I thought you send that to me',\n",
       " 'Got it. Seventeen pounds for seven hundred ml – hope ok.',\n",
       " 'Dear Voucher Holder, 2 claim this weeks offer, at your PC go to http://www.e-tlp.co.uk/expressoffer Ts&Cs apply.2 stop texts txt STOP to 80062.',\n",
       " 'Me n him so funny...',\n",
       " 'Sweetheart, hope you are not having that kind of day! Have one with loads of reasons to smile. Biola',\n",
       " 'When ü login dat time... Dad fetching ü home now?',\n",
       " 'What will we do in the shower, baby?',\n",
       " 'I had askd u a question some hours before. Its answer',\n",
       " \"Well imma definitely need to restock before thanksgiving, I'll let you know when I'm out\",\n",
       " \" said kiss, kiss, i can't do the sound effects! He is a gorgeous man isn't he! Kind of person who needs a smile to brighten his day! \",\n",
       " 'Probably gonna swing by in a wee bit',\n",
       " 'Ya very nice. . .be ready on thursday',\n",
       " 'Allo! We have braved the buses and taken on the trains and triumphed. I mean we‘re in b‘ham. Have a jolly good rest of week',\n",
       " 'Watching cartoon, listening music &amp; at eve had to go temple &amp; church.. What about u?',\n",
       " 'Do you mind if I ask what happened? You dont have to say if it is uncomfortable.',\n",
       " 'PRIVATE! Your 2003 Account Statement for shows 800 un-redeemed S. I. M. points. Call 08715203694 Identifier Code: 40533 Expires 31/10/04',\n",
       " 'No prob. I will send to your email.',\n",
       " 'You have won ?1,000 cash or a ?2,000 prize! To claim, call09050000327. T&C: RSTM, SW7 3SS. 150ppm',\n",
       " 'Thats cool! Sometimes slow and gentle. Sonetimes rough and hard :)',\n",
       " \"I'm gonna say no. Sorry. I would but as normal am starting to panic about time. Sorry again! Are you seeing on Tuesday?\",\n",
       " 'Wait, do you know if wesleys in town? I bet she does hella drugs!',\n",
       " 'Fine i miss you very much.',\n",
       " 'Did u got that persons story',\n",
       " \"Tell them the drug dealer's getting impatient\",\n",
       " 'Sun cant come to earth but send luv as rays. cloud cant come to river but send luv as rain. I cant come to meet U, but can send my care as msg to U. Gud evng',\n",
       " 'You will be in the place of that man',\n",
       " 'It doesnt make sense to take it there unless its free. If you need to know more, wikipedia.com',\n",
       " '88800 and 89034 are premium phone services call 08718711108',\n",
       " \"Under the sea, there lays a rock. In the rock, there is an envelope. In the envelope, there is a paper. On the paper, there are 3 words... '\",\n",
       " \"Then mum's repent how?\",\n",
       " 'Sorry me going home first... Daddy come fetch ü later...',\n",
       " 'Leave it de:-). Start Prepare for next:-)..',\n",
       " 'Yes baby! We can study all the positions of the kama sutra ;)',\n",
       " 'En chikku nange bakra msg kalstiya..then had tea/coffee?',\n",
       " \"Carlos'll be here in a minute if you still need to buy\",\n",
       " 'This pay is  &lt;DECIMAL&gt;  lakhs:)',\n",
       " 'Have a good evening! Ttyl',\n",
       " 'Did u receive my msg?',\n",
       " 'Ho ho - big belly laugh! See ya tomo',\n",
       " 'SMS. ac sun0819 posts HELLO:\"You seem cool, wanted to say hi. HI!!!\" Stop? Send STOP to 62468',\n",
       " 'Get ur 1st RINGTONE FREE NOW! Reply to this msg with TONE. Gr8 TOP 20 tones to your phone every week just £1.50 per wk 2 opt out send STOP 08452810071 16',\n",
       " \"Ditto. And you won't have to worry about me saying ANYTHING to you anymore. Like i said last night, you do whatever you want and i'll do the same. Peace.\",\n",
       " \"I've got  &lt;#&gt; , any way I could pick up?\",\n",
       " 'I dont knw pa, i just drink milk..',\n",
       " 'Maybe?! Say hi to  and find out if  got his card. Great escape or wetherspoons? ',\n",
       " \"Piggy, r u awake? I bet u're still sleeping. I'm going 4 lunch now...\",\n",
       " \"Cause I'm not freaky lol\",\n",
       " \"Missed your call cause I was yelling at scrappy. Miss u. Can't wait for u to come home. I'm so lonely today.\",\n",
       " \"What is this 'hex' place you talk of? Explain!\",\n",
       " \"Ü log off 4 wat. It's sdryb8i\",\n",
       " 'Is xy going 4 e lunch?',\n",
       " \"Hi I'm sue. I am 20 years old and work as a lapdancer. I love sex. Text me live - I'm i my bedroom now. text SUE to 89555. By TextOperator G2 1DA 150ppmsg 18+\",\n",
       " 'I wanted to ask ü to wait 4 me to finish lect. Cos my lect finishes in an hour anyway.',\n",
       " 'Have you finished work yet? :)',\n",
       " 'Every King Was Once A Crying Baby And Every Great Building Was Once A Map.. Not Imprtant Where U r TODAY, BUT Where U Wil Reach TOMORW. Gud ni8',\n",
       " 'Dear,Me at cherthala.in case u r coming cochin pls call bfore u start.i shall also reach accordingly.or tell me which day u r coming.tmorow i am engaged ans its holiday.',\n",
       " 'Thanks love. But am i doing torch or bold.',\n",
       " '<Forwarded from 448712404000>Please CALL 08712404000 immediately as there is an urgent message waiting for you.',\n",
       " 'Was the farm open?',\n",
       " 'Sorry to trouble u again. Can buy 4d for my dad again? 1405, 1680, 1843. All 2 big 1 small, sat n sun. Thanx.',\n",
       " 'My sister in law, hope you are having a great month. Just saying hey. Abiola',\n",
       " 'Will purchase d stuff today and mail to you. Do you have a po box number?',\n",
       " 'Ah poop. Looks like ill prob have to send in my laptop to get fixed cuz it has a gpu problem',\n",
       " 'Good. Good job. I like entrepreneurs',\n",
       " \"Aight, you close by or still down around alex's place?\",\n",
       " 'meet you in corporation st outside gap … you can see how my mind is working!',\n",
       " 'Mum ask ü to buy food home...',\n",
       " 'K..u also dont msg or reply to his msg..',\n",
       " 'How much r ü willing to pay?',\n",
       " \"Sorry, I'll call later\",\n",
       " 'What is important is that you prevent dehydration by giving her enough fluids',\n",
       " 'Thats a bit weird, even ?- where is the do supposed to be happening? But good idea, sure they will be in pub!',\n",
       " \"True dear..i sat to pray evening and felt so.so i sms'd you in some time...\",\n",
       " \"I don't think I can get away for a trek that long with family in town, sorry\",\n",
       " 'So when do you wanna gym harri',\n",
       " 'Quite late lar... Ard 12 anyway i wun b drivin...',\n",
       " 'To review and KEEP the fantastic Nokia N-Gage game deck with Club Nokia, go 2 www.cnupdates.com/newsletter. unsubscribe from alerts reply with the word OUT',\n",
       " '4mths half price Orange line rental & latest camera phones 4 FREE. Had your phone 11mths+? Call MobilesDirect free on 08000938767 to update now! or2stoptxt T&Cs',\n",
       " 'Height of Confidence: All the Aeronautics professors wer calld &amp; they wer askd 2 sit in an aeroplane. Aftr they sat they wer told dat the plane ws made by their students. Dey all hurried out of d plane.. Bt only 1 didnt move... He said:\"if it is made by my students,this wont even start........ Datz confidence..',\n",
       " 'It just seems like weird timing that the night that all you and g want is for me to come smoke is the same day as when a shitstorm is attributed to me always coming over and making everyone smoke',\n",
       " '08714712388 between 10am-7pm Cost 10p',\n",
       " 'Save yourself the stress. If the person has a dorm account, just send your account details and the money will be sent to you.',\n",
       " 'He also knows about lunch menu only da. . I know',\n",
       " 'When i have stuff to sell i.ll tell you',\n",
       " '+449071512431 URGENT! This is the 2nd attempt to contact U!U have WON £1250 CALL 09071512433 b4 050703 T&CsBCM4235WC1N3XX. callcost 150ppm mobilesvary. max£7. 50',\n",
       " \"Book which lesson? then you msg me... I will call up after work or sth... I'm going to get specs. My membership is PX3748\",\n",
       " 'You have WON a guaranteed £1000 cash or a £2000 prize. To claim yr prize call our customer service representative on 08714712394 between 10am-7pm',\n",
       " 'Macha dont feel upset.i can assume your mindset.believe me one evening with me and i have some wonderful plans for both of us.LET LIFE BEGIN AGAIN.call me anytime',\n",
       " 'Oh is it? Send me the address',\n",
       " \"S'fine. Anytime. All the best with it.\",\n",
       " 'That is wondar full flim.',\n",
       " 'Ya even those cookies have jelly on them',\n",
       " 'The world is running and i am still.maybe all are feeling the same,so be it.or i have to admit,i am mad.then where is the correction?or let me call this is life.and keep running with the world,may be u r also running.lets run.',\n",
       " 'Got it! It looks scrumptious... daddy wants to eat you all night long!',\n",
       " \"Of cos can lar i'm not so ba dao ok... 1 pm lor... Y u never ask where we go ah... I said u would ask on fri but he said u will ask today...\",\n",
       " 'Alright omw, gotta change my order to a half8th',\n",
       " 'Exactly. Anyways how far. Is jide her to study or just visiting',\n",
       " 'Dunno y u ask me.',\n",
       " 'Email AlertFrom: Jeri StewartSize: 2KBSubject: Low-cost prescripiton drvgsTo listen to email call 123',\n",
       " \"No he didn't. Spring is coming early yay!\",\n",
       " \"Lol you won't feel bad when I use her money to take you out to a steak dinner =D\",\n",
       " 'Even u dont get in trouble while convincing..just tel him once or twice and just tel neglect his msgs dont c and read it..just dont reply',\n",
       " 'Leaving to qatar tonite in search of an opportunity.all went fast.pls add me in ur prayers dear.Rakhesh',\n",
       " 'Then why no one talking to me',\n",
       " 'Thanks for looking out for me. I really appreciate.',\n",
       " 'Hi. Customer Loyalty Offer:The NEW Nokia6650 Mobile from ONLY £10 at TXTAUCTION! Txt word: START to No: 81151 & get yours Now! 4T&Ctxt TC 150p/MTmsg',\n",
       " 'Wish i were with you now!',\n",
       " \"Haha mayb u're rite... U know me well. Da feeling of being liked by someone is gd lor. U faster go find one then all gals in our group attached liao.\",\n",
       " 'Yes i will be there. Glad you made it.',\n",
       " 'Do well :)all will for little time. Thing of good times ahead:',\n",
       " \"Just got up. have to be out of the room very soon. …. i hadn't put the clocks back til at 8 i shouted at everyone to get up and then realised it was 7. wahay. another hour in bed.\",\n",
       " 'Ok. There may be a free gym about.',\n",
       " 'Men like shorter ladies. Gaze up into his eyes.',\n",
       " 'Dunno he jus say go lido. Same time 930.',\n",
       " 'I promise to take good care of you, princess. I have to run now. Please send pics when you get a chance. Ttyl!',\n",
       " 'U are subscribed to the best Mobile Content Service in the UK for £3 per 10 days until you send STOP to 82324. Helpline 08706091795',\n",
       " \"Is there a reason we've not spoken this year? Anyways have a great week and all the best in your exam\",\n",
       " 'By monday next week. Give me the full gist',\n",
       " \"Do you realize that in about 40 years, we'll have thousands of old ladies running around with tattoos?\",\n",
       " 'You have an important customer service announcement from PREMIER.',\n",
       " 'Dont gimme that lip caveboy',\n",
       " 'When did you get to the library',\n",
       " \"Realy sorry-i don't recognise this number and am now confused :) who r u please?! \",\n",
       " 'So why didnt you holla?',\n",
       " 'Cant think of anyone with * spare room off * top of my head',\n",
       " 'Faith makes things possible,Hope makes things work,Love makes things beautiful,May you have all three this Christmas!Merry Christmas!',\n",
       " 'U should have made an appointment',\n",
       " \"Call me when you/carlos is/are here, my phone's vibrate is acting up and I might not hear texts\",\n",
       " 'Romantic Paris. 2 nights, 2 flights from £79 Book now 4 next year. Call 08704439680Ts&Cs apply.',\n",
       " 'We are at grandmas. Oh dear, u still ill? I felt Shit this morning but i think i am just hungover! Another night then. We leave on sat.',\n",
       " 'Urgent Ur £500 guaranteed award is still unclaimed! Call 09066368327 NOW closingdate04/09/02 claimcode M39M51 £1.50pmmorefrommobile2Bremoved-MobyPOBox734LS27YF',\n",
       " 'Nothing but we jus tot u would ask cos u ba gua... But we went mt faber yest... Yest jus went out already mah so today not going out... Jus call lor...',\n",
       " 'Wishing you and your family Merry \"X\" mas and HAPPY NEW Year in advance..',\n",
       " 'UR awarded a City Break and could WIN a £200 Summer Shopping spree every WK. Txt STORE to 88039 . SkilGme. TsCs087147403231Winawk!Age16 £1.50perWKsub',\n",
       " \"I'm nt goin, got somethin on, unless they meetin 4 dinner lor... Haha, i wonder who will go tis time...\",\n",
       " \"Sorry, I'll call later\",\n",
       " 'I cant pick the phone right now. Pls send a message',\n",
       " \"Lol I know! They're so dramatic. Schools already closed for tomorrow. Apparently we can't drive in the inch of snow were supposed to get.\",\n",
       " 'Not getting anywhere with this damn job hunting over here!',\n",
       " 'Lol! U drunkard! Just doing my hair at d moment. Yeah still up 4 tonight. Wats the plan? ',\n",
       " 'idc get over here, you are not weaseling your way out of this shit twice in a row',\n",
       " 'I wil be there with in  &lt;#&gt;  minutes. Got any space',\n",
       " 'Just sleeping..and surfing',\n",
       " 'Thanks for picking up the trash.',\n",
       " \"Why don't you go tell your friend you're not sure you want to live with him because he smokes too much then spend hours begging him to come smoke\",\n",
       " 'Hi its Kate it was lovely to see you tonight and ill phone you tomorrow. I got to sing and a guy gave me his card! xxx',\n",
       " 'Happy New year my dear brother. I really do miss you. Just got your number and decided to send you this text wishing you only happiness. Abiola',\n",
       " 'That means get the door',\n",
       " 'Your opinion about me? 1. Over 2. Jada 3. Kusruthi 4. Lovable 5. Silent 6. Spl character 7. Not matured 8. Stylish 9. Simple Pls reply..',\n",
       " 'Hmmm ... I thought we said 2 hours slave, not 3 ... You are late ... How should I punish you ?',\n",
       " 'Beerage?',\n",
       " 'You have an important customer service announcement from PREMIER. Call FREEPHONE 0800 542 0578 now!',\n",
       " 'Dont think so. It turns off like randomlly within 5min of opening',\n",
       " \"She was supposed to be but couldn't make it, she's still in town though\",\n",
       " 'It does it on its own. Most of the time it fixes my spelling. But sometimes it gets a completely diff word. Go figure',\n",
       " 'Ever thought about living a good life with a perfect partner? Just txt back NAME and AGE to join the mobile community. (100p/SMS)',\n",
       " '5 Free Top Polyphonic Tones call 087018728737, National Rate. Get a toppoly tune sent every week, just text SUBPOLY to 81618, £3 per pole. UnSub 08718727870.',\n",
       " 'Gud mrng dear hav a nice day',\n",
       " \"This is hoping you enjoyed your game yesterday. Sorry i've not been in touch but pls know that you are fondly bein thot off. Have a great week. Abiola\",\n",
       " 'All e best 4 ur driving tmr :-)',\n",
       " 'Y?WHERE U AT DOGBREATH? ITS JUST SOUNDING LIKE JAN C THAT\\x92S AL!!!!!!!!!',\n",
       " 'Omg I want to scream. I weighed myself and I lost more weight! Woohoo!',\n",
       " \"There generally isn't one. It's an uncountable noun - u in the dictionary. pieces of research?\",\n",
       " \"it's really getting me down just hanging around.\",\n",
       " \"Orange customer, you may now claim your FREE CAMERA PHONE upgrade for your loyalty. Call now on 0207 153 9996. Offer ends 14thMarch. T&C's apply. Opt-out availa\",\n",
       " 'Petey boy whereare you me and all your friendsare in theKingshead come down if you canlove Nic',\n",
       " 'Ok i msg u b4 i leave my house.',\n",
       " 'Gimme a few was  &lt;#&gt;  minutes ago',\n",
       " 'Last Chance! Claim ur £150 worth of discount vouchers today! Text SHOP to 85023 now! SavaMob, offers mobile! T Cs SavaMob POBOX84, M263UZ. £3.00 Sub. 16',\n",
       " \"Appt is at &lt;TIME&gt; am. Not my fault u don't listen. I told u twice\",\n",
       " 'FREE for 1st week! No1 Nokia tone 4 ur mobile every week just txt NOKIA to 8077 Get txting and tell ur mates. www.getzed.co.uk POBox 36504 W45WQ 16+ norm150p/tone',\n",
       " 'You have won a guaranteed £200 award or even £1000 cashto claim UR award call free on 08000407165 (18+) 2 stop getstop on 88222 PHP. RG21 4JX',\n",
       " \"K I'll be there before 4.\",\n",
       " 'I dled 3d its very imp',\n",
       " \"sure, but make sure he knows we ain't smokin yet\",\n",
       " 'Boooo you always work. Just quit.',\n",
       " 'I am taking half day leave bec i am not well',\n",
       " \"Ugh I don't wanna get out of bed. It's so warm.\",\n",
       " 'S:)s.nervous  &lt;#&gt; :)',\n",
       " \"So there's a ring that comes with the guys costumes. It's there so they can gift their future yowifes. Hint hint\",\n",
       " 'Congratulations ur awarded either £500 of CD gift vouchers & Free entry 2 our £100 weekly draw txt MUSIC to 87066 TnCs www.Ldew.com1win150ppmx3age16',\n",
       " 'I borrow ur bag ok.',\n",
       " 'U were outbid by simonwatson5120 on the Shinco DVD Plyr. 2 bid again, visit sms. ac/smsrewards 2 end bid notifications, reply END OUT',\n",
       " \"Where's my boytoy? I miss you ... What happened?\",\n",
       " \"He has lots of used ones babe, but the model doesn't help. Youi have to bring it over and he'll match it up\",\n",
       " 'Also are you bringing galileo or dobby',\n",
       " 'Then why you not responding',\n",
       " 'BOO BABE! U ENJOYIN YOURJOB? U SEEMED 2 B GETTIN ON WELL HUNNY!HOPE URE OK?TAKE CARE & I\\x92LLSPEAK 2U SOONLOTS OF LOVEME XXXX.',\n",
       " \"Good afternoon starshine! How's my boytoy? Does he crave me yet? Ache to fuck me ? *sips cappuccino* I miss you babe *teasing kiss*\",\n",
       " 'On the road so cant txt',\n",
       " 'SMSSERVICES. for yourinclusive text credits, pls goto www.comuk.net login= 3qxj9 unsubscribe with STOP, no extra charge. help 08702840625.COMUK. 220-CM2 9AE',\n",
       " \"25p 4 alfie Moon's Children in need song on ur mob. Tell ur m8s. Txt Tone charity to 8007 for Nokias or Poly charity for polys: zed 08701417012 profit 2 charity.\",\n",
       " 'Have a good evening! Ttyl',\n",
       " 'Hmm .. Bits and pieces lol ... *sighs* ...',\n",
       " 'Hahaha..use your brain dear',\n",
       " 'Hey. You got any mail?',\n",
       " 'Sorry light turned green, I meant another friend wanted  &lt;#&gt;  worth but he may not be around',\n",
       " 'Thanks for yesterday sir. You have been wonderful. Hope you enjoyed the burial. MojiBiola',\n",
       " 'U have a secret admirer. REVEAL who thinks U R So special. Call 09065174042. To opt out Reply REVEAL STOP. 1.50 per msg recd. Cust care 07821230901',\n",
       " 'Hi mate its RV did u hav a nice hol just a message 3 say hello coz haven\\x92t sent u 1 in ages started driving so stay off roads!RVx',\n",
       " 'Dear Voucher Holder, To claim this weeks offer, at you PC please go to http://www.e-tlp.co.uk/expressoffer Ts&Cs apply. To stop texts, txt STOP to 80062',\n",
       " \"Thank you so much. When we skyped wit kz and sura, we didnt get the pleasure of your company. Hope you are good. We've given you ultimatum oh! We are countin down to aburo. Enjoy! This is the message i sent days ago\",\n",
       " 'Surely result will offer:)',\n",
       " 'Good Morning my Dear........... Have a great &amp; successful day.',\n",
       " 'Do you want 750 anytime any network mins 150 text and a NEW VIDEO phone for only five pounds per week call 08002888812 or reply for delivery tomorrow',\n",
       " \"Sir, I have been late in paying rent for the past few months and had to pay a $ &lt;#&gt;  charge. I felt it would be inconsiderate of me to nag about something you give at great cost to yourself and that's why i didnt speak up. I however am in a recession and wont be able to pay the charge this month hence my askin well ahead of month's end. Can you please help. Thanks\",\n",
       " 'We tried to contact you re our offer of New Video Phone 750 anytime any network mins HALF PRICE Rental camcorder call 08000930705 or reply for delivery Wed',\n",
       " 'Last chance 2 claim ur £150 worth of discount vouchers-Text YES to 85023 now!SavaMob-member offers mobile T Cs 08717898035. £3.00 Sub. 16 . Remove txt X or STOP',\n",
       " 'I luv u soo much u don\\x92t understand how special u r 2 me ring u 2morrow luv u xxx',\n",
       " \"Pls send me a comprehensive mail about who i'm paying, when and how much.\",\n",
       " \"Our Prashanthettan's mother passed away last night. pray for her and family.\",\n",
       " 'Urgent! call 09066350750 from your landline. Your complimentary 4* Ibiza Holiday or 10,000 cash await collection SAE T&Cs PO BOX 434 SK3 8WP 150 ppm 18+ ',\n",
       " 'K.k:)when are you going?',\n",
       " \"Meanwhile in the shit suite: xavier decided to give us  &lt;#&gt;  seconds of warning that samantha was coming over and is playing jay's guitar to impress her or some shit. Also I don't think doug realizes I don't live here anymore\",\n",
       " \"My stomach has been thru so much trauma I swear I just can't eat. I better lose weight.\",\n",
       " 'I am in office:)whats the matter..msg me now.i will call you at break:).',\n",
       " \"Yeah there's barely enough room for the two of us, x has too many fucking shoes. Sorry man, see you later\",\n",
       " \"Today's Offer! Claim ur £150 worth of discount vouchers! Text YES to 85023 now! SavaMob, member offers mobile! T Cs 08717898035. £3.00 Sub. 16 . Unsub reply X\",\n",
       " 'U reach orchard already? U wan 2 go buy tickets first?',\n",
       " 'I am real, baby! I want to bring out your inner tigress...',\n",
       " 'No da if you run that it activate the full version da.',\n",
       " 'AH POOR BABY!HOPE URFEELING BETTERSN LUV! PROBTHAT OVERDOSE OF WORK HEY GO CAREFUL SPK 2 U SN LOTS OF LOVEJEN XXX.',\n",
       " \"Stop the story. I've told him i've returned it and he's saying i should not re order it.\",\n",
       " 'Talk sexy!! Make new friends or fall in love in the worlds most discreet text dating service. Just text VIP to 83110 and see who you could meet.',\n",
       " 'Going to take your babe out ?',\n",
       " 'Hai ana tomarrow am coming on morning.  &lt;DECIMAL&gt;  ill be there in sathy then we ll go to RTO office. Reply me after came to home.',\n",
       " 'Spoons it is then okay?',\n",
       " 'Did he just say somebody is named tampa',\n",
       " 'In work now. Going have in few min.',\n",
       " 'Your brother is a genius',\n",
       " \"Sorry, I guess whenever I can get a hold of my connections, maybe an hour or two? I'll text you\",\n",
       " 'Did u find out what time the bus is at coz i need to sort some stuff out.',\n",
       " 'Dude ive been seeing a lotta corvettes lately',\n",
       " 'Congratulations ur awarded either a yrs supply of CDs from Virgin Records or a Mystery Gift GUARANTEED Call 09061104283 Ts&Cs www.smsco.net £1.50pm approx 3mins',\n",
       " \"Same here, but I consider walls and bunkers and shit important just because I never play on peaceful but I guess your place is high enough that it don't matter\",\n",
       " 'PRIVATE! Your 2003 Account Statement for 07808 XXXXXX shows 800 un-redeemed S. I. M. points. Call 08719899217 Identifier Code: 41685 Expires 07/11/04',\n",
       " 'Hello. We need some posh birds and chaps to user trial prods for champneys. Can i put you down? I need your address and dob asap. Ta r',\n",
       " 'What do U want for Xmas? How about 100 free text messages & a new video phone with half price line rental? Call free now on 0800 0721072 to find out more!',\n",
       " 'Well am officially in a philosophical hole, so if u wanna call am at home ready to be saved!',\n",
       " 'Its going good...no problem..but still need little experience to understand american customer voice...',\n",
       " \"I'll text you when I drop x off\",\n",
       " \"Ugh its been a long day. I'm exhausted. Just want to cuddle up and take a nap\",\n",
       " 'Talk With Yourself Atleast Once In A Day...!!! Otherwise You Will Miss Your Best FRIEND In This WORLD...!!! -Shakespeare- SHESIL  &lt;#&gt;',\n",
       " 'Shop till u Drop, IS IT YOU, either 10K, 5K, £500 Cash or £100 Travel voucher, Call now, 09064011000. NTT PO Box CR01327BT fixedline Cost 150ppm mobile vary',\n",
       " 'Are you in castor? You need to see something',\n",
       " 'Sunshine Quiz Wkly Q! Win a top Sony DVD player if u know which country Liverpool played in mid week? Txt ansr to 82277. £1.50 SP:Tyrone',\n",
       " 'U have a secret admirer who is looking 2 make contact with U-find out who they R*reveal who thinks UR so special-call on 09058094565',\n",
       " 'U have a Secret Admirer who is looking 2 make contact with U-find out who they R*reveal who thinks UR so special-call on 09065171142-stopsms-08',\n",
       " 'Reminder: You have not downloaded the content you have already paid for. Goto http://doit. mymoby. tv/ to collect your content.',\n",
       " \"see, i knew giving you a break a few times woul lead to you always wanting to miss curfew. I was gonna gibe you 'til one, but a MIDNIGHT movie is not gonna get out til after 2. You need to come home. You need to getsleep and, if anything, you need to b studdying ear training.\",\n",
       " 'I love to give massages. I use lots of baby oil... What is your fave position?',\n",
       " 'Dude we should go sup again',\n",
       " 'Yoyyooo u know how to change permissions for a drive in mac. My usb flash drive',\n",
       " 'Gibbs unsold.mike hussey',\n",
       " 'I like to talk pa but am not able to. I dont know y.',\n",
       " \"Y dun cut too short leh. U dun like ah? She failed. She's quite sad.\",\n",
       " 'You unbelievable faglord',\n",
       " 'Wife.how she knew the time of murder exactly',\n",
       " 'Why do you ask princess?',\n",
       " 'I am great princess! What are you thinking about me? :)',\n",
       " 'Nutter. Cutter. Ctter. Cttergg. Cttargg. Ctargg. Ctagg. ie you',\n",
       " \"It's ok i noe u're busy but i'm really too bored so i msg u. I oso dunno wat colour she choose 4 me one.\",\n",
       " \"Doesn't g have class early tomorrow and thus shouldn't be trying to smoke at  &lt;#&gt;\",\n",
       " 'Superb Thought- \"Be grateful that u dont have everything u want. That means u still have an opportunity to be happier tomorrow than u are today.\":-)',\n",
       " 'Hope you are having a good week. Just checking in',\n",
       " \"I'm used to it. I just hope my agents don't drop me since i've only booked a few things this year. This whole me in boston, them in nyc was an experiment.\",\n",
       " \"Thursday night? Yeah, sure thing, we'll work it out then\",\n",
       " 'Your free ringtone is waiting to be collected. Simply text the password \"MIX\" to 85069 to verify. Get Usher and Britney. FML, PO Box 5249, MK17 92H. 450Ppw 16',\n",
       " 'Probably money worries. Things are coming due and i have several outstanding invoices for work i did two and three months ago.',\n",
       " 'How is it possible to teach you. And where.',\n",
       " 'I wonder if your phone battery went dead ? I had to tell you, I love you babe',\n",
       " \"Lovely smell on this bus and it ain't tobacco... \",\n",
       " \"We're all getting worried over here, derek and taylor have already assumed the worst\",\n",
       " \"Hey what's up charles sorry about the late reply.\",\n",
       " 'all the lastest from Stereophonics, Marley, Dizzee Racal, Libertines and The Strokes! Win Nookii games with Flirt!! Click TheMob WAP Bookmark or text WAP to 82468',\n",
       " 'I.ll give her once i have it. Plus she said grinule greet you whenever we speak',\n",
       " 'WHITE FUDGE OREOS ARE IN STORES',\n",
       " 'January Male Sale! Hot Gay chat now cheaper, call 08709222922. National rate from 1.5p/min cheap to 7.8p/min peak! To stop texts call 08712460324 (10p/min)',\n",
       " \"My love ! How come it took you so long to leave for Zaher's? I got your words on ym and was happy to see them but was sad you had left. I miss you\",\n",
       " 'I am sorry it hurt you.',\n",
       " \"Can't. I feel nauseous. I'm so pissed. I didn't eat any sweets all week cause today I was planning to pig out. I was dieting all week. And now I'm not hungry :/\",\n",
       " 'Ok lor but not too early. Me still having project meeting now.',\n",
       " 'Call me da, i am waiting for your call.',\n",
       " 'I could ask carlos if we could get more if anybody else can chip in',\n",
       " 'Was actually about to send you a reminder today. Have a wonderful weekend',\n",
       " \"When people see my msgs, They think Iam addicted to msging... They are wrong, Bcoz They don\\\\'t know that Iam addicted to my sweet Friends..!! BSLVYL\",\n",
       " 'Hey you gave them your photo when you registered for driving ah? Tmr wanna meet at yck? ',\n",
       " 'Dont talk to him ever ok its my word.',\n",
       " 'When u wana see it then',\n",
       " \"On ma way to school. Can you pls send me ashley's number\",\n",
       " 'It shall be fine. I have avalarr now. Will hollalater',\n",
       " \"She went to attend another two rounds today..but still did't reach home..\",\n",
       " 'Actually i deleted my old website..now i m blogging at magicalsongs.blogspot.com',\n",
       " 'K, wait chikku..il send aftr  &lt;#&gt; mins',\n",
       " \"But I'm on a diet. And I ate 1 too many slices of pizza yesterday. Ugh I'm ALWAYS on a diet.\",\n",
       " 'K:)i will give my kvb acc details:)',\n",
       " 'Oh all have to come ah?',\n",
       " 'money!!! you r a lucky winner ! 2 claim your prize text money 2 88600 over £1million to give away ! ppt150x3+normal text rate box403 w1t1jy',\n",
       " \"I'm really sorry i won't b able 2 do this friday.hope u can find an alternative.hope yr term's going ok:-)\",\n",
       " 'Congratulations ore mo owo re wa. Enjoy it and i wish you many happy moments to and fro wherever you go',\n",
       " 'So do you have samus shoulders yet',\n",
       " \"What time you think you'll have it? Need to know when I should be near campus\",\n",
       " 'Dear Matthew please call 09063440451 from a landline, your complimentary 4*Lux Tenerife holiday or £1000 CASH await collection. ppm150 SAE T&Cs Box334 SK38XH.',\n",
       " 'Then dun wear jeans lor...',\n",
       " 'Since when, which side, any fever, any vomitin.',\n",
       " 'K:)k.are you in college?',\n",
       " 'Urgent! call 09061749602 from Landline. Your complimentary 4* Tenerife Holiday or £10,000 cash await collection SAE T&Cs BOX 528 HP20 1YF 150ppm 18+',\n",
       " 'Better. Made up for Friday and stuffed myself like a pig yesterday. Now I feel bleh. But at least its not writhing pain kind of bleh.',\n",
       " \"No we sell it all so we'll have tons if coins. Then sell our coins to someone thru paypal. Voila! Money back in life pockets:)\",\n",
       " 'Theyre doing it to lots of places. Only hospitals and medical places are safe.',\n",
       " 'How about getting in touch with folks waiting for company? Just txt back your NAME and AGE to opt in! Enjoy the community (150p/SMS)',\n",
       " \"And also I've sorta blown him off a couple times recently so id rather not text him out of the blue looking for weed\",\n",
       " 'I sent my scores to sophas and i had to do secondary application for a few schools. I think if you are thinking of applying, do a research on cost also. Contact joke ogunrinde, her school is one me the less expensive ones',\n",
       " 'I cant wait to see you! How were the photos were useful? :)',\n",
       " 'Ur cash-balance is currently 500 pounds - to maximize ur cash-in now send GO to 86688 only 150p/msg. CC: 08718720201 PO BOX 114/14 TCR/W1',\n",
       " 'Hey i booked the kb on sat already... what other lessons are we going for ah? Keep your sat night free we need to meet and confirm our lodging ',\n",
       " 'Chk in ur belovd ms dict',\n",
       " 'Is that what time you want me to come?',\n",
       " \"Awesome, lemme know whenever you're around\",\n",
       " 'Shb b ok lor... Thanx...',\n",
       " 'Beautiful Truth against Gravity.. Read carefully: \"Our heart feels light when someone is in it.. But it feels very heavy when someone leaves it..\" GOOD NIGHT',\n",
       " \"Also remember to get dobby's bowl from your car\",\n",
       " 'Filthy stories and GIRLS waiting for your',\n",
       " \"Sorry i now then c ur msg... Yar lor so poor thing... But only 4 one night... Tmr u'll have a brand new room 2 sleep in...\",\n",
       " \"Love isn't a decision, it's a feeling. If we could decide who to love, then, life would be much simpler, but then less magical\",\n",
       " 'Welp apparently he retired',\n",
       " \"My sort code is  and acc no is . The bank is natwest. Can you reply to confirm i've sent this to the right person!\",\n",
       " 'Where @',\n",
       " \"U sure u can't take any sick time?\",\n",
       " 'URGENT! We are trying to contact U. Todays draw shows that you have won a £800 prize GUARANTEED. Call 09050001808 from land line. Claim M95. Valid12hrs only',\n",
       " 'Watching cartoon, listening music &amp; at eve had to go temple &amp; church.. What about u?',\n",
       " 'Yo chad which gymnastics class do you wanna take? The site says Christians class is full..',\n",
       " 'Are you this much buzy',\n",
       " 'Or better still can you catch her and let ask her if she can sell  &lt;#&gt;  for me.',\n",
       " 'I am not sure about night menu. . . I know only about noon menu',\n",
       " 'What do u want when i come back?.a beautiful necklace as a token of my heart for you.thats what i will give but ONLY to MY WIFE OF MY LIKING.BE THAT AND SEE..NO ONE can give you that.dont call me.i will wait till i come.',\n",
       " 'Are you willing to go for aptitude class.',\n",
       " 'It wont b until 2.15 as trying 2 sort house out, is that ok?',\n",
       " 'Yar lor he wan 2 go c horse racing today mah, so eat earlier lor. I ate chicken rice. U?',\n",
       " 'Haha awesome, omw back now then',\n",
       " 'Yup i thk so until e shop closes lor.',\n",
       " 'what is your account number?',\n",
       " 'Eh u send wrongly lar...',\n",
       " 'Hey no I ad a crap nite was borin without ya 2 boggy with me u boring biatch! Thanx but u wait til nxt time il ave ya ',\n",
       " 'Ok i shall talk to him',\n",
       " 'Dont hesitate. You know this is the second time she has had weakness like that. So keep i notebook of what she eat and did the day before or if anything changed the day before so that we can be sure its nothing',\n",
       " 'Hey you can pay. With salary de. Only  &lt;#&gt; .',\n",
       " 'Another month. I need chocolate weed and alcohol.',\n",
       " 'If he started searching he will get job in few days.he have great potential and talent.',\n",
       " 'Reckon need to be in town by eightish to walk from * carpark.',\n",
       " 'Congrats! 2 mobile 3G Videophones R yours. call 09063458130 now! videochat wid your mates, play java games, Dload polyPH music, noline rentl.',\n",
       " 'LOOK AT THE FUCKIN TIME. WHAT THE FUCK YOU THINK IS UP',\n",
       " 'Yo guess what I just dropped',\n",
       " \"Carlos says he'll be at mu in  &lt;#&gt;  minutes\",\n",
       " \"I'm in office now . I will call you  &lt;#&gt;  min:)\",\n",
       " \"Geeee ... I miss you already, you know ? Your all I can think about. Fuck, I can't wait till next year when we will be together ... *loving kiss*\",\n",
       " 'Yun ah.the ubi one say if ü wan call by tomorrow.call 67441233 look for irene.ere only got bus8,22,65,61,66,382. Ubi cres,ubi tech park.6ph for 1st 5wkg days.èn',\n",
       " 'Ugh. Gotta drive back to sd from la. My butt is sore.',\n",
       " '26th OF JULY',\n",
       " 'Hi im having the most relaxing time ever! we have to get up at 7am every day! was the party good the other night? I get home tomorrow at 5ish.',\n",
       " 'Up to ü... Ü wan come then come lor... But i din c any stripes skirt...',\n",
       " 'The Xmas story is peace.. The Xmas msg is love.. The Xmas miracle is jesus.. Hav a blessed month ahead &amp; wish U Merry Xmas...',\n",
       " \"I can't, I don't have her number!\",\n",
       " \"Change again... It's e one next to escalator...\",\n",
       " \"Yetunde i'm in class can you not run water on it to make it ok. Pls now.\",\n",
       " 'Not a lot has happened here. Feels very quiet. Beth is at her aunts and charlie is working lots. Just me and helen in at the mo. How have you been? ',\n",
       " 'Then ü wait 4 me at bus stop aft ur lect lar. If i dun c ü then i go get my car then come back n pick ü.',\n",
       " ...]"
      ]
     },
     "execution_count": 340,
     "metadata": {},
     "output_type": "execute_result"
    }
   ],
   "source": [
    "messages = smsData['Message'].tolist()\n",
    "messages"
   ]
  },
  {
   "cell_type": "markdown",
   "metadata": {},
   "source": [
    "### • CountVectorizer "
   ]
  },
  {
   "cell_type": "code",
   "execution_count": 483,
   "metadata": {},
   "outputs": [
    {
     "name": "stdout",
     "output_type": "stream",
     "text": [
      "8713 mots avant suppression des stop words\n"
     ]
    }
   ],
   "source": [
    "#tokenize and count the word occurrences in the messages\n",
    "vectorizer = CountVectorizer()\n",
    "X = vectorizer.fit_transform(messages)\n",
    "nwords1 = X.shape[1]\n",
    "print(nwords1, 'mots avant suppression des stop words')"
   ]
  },
  {
   "cell_type": "code",
   "execution_count": 484,
   "metadata": {},
   "outputs": [
    {
     "name": "stdout",
     "output_type": "stream",
     "text": [
      "269 stop words ont été trouvé et supprimés. Ce qui nous laisse avec 8444 mots.\n"
     ]
    }
   ],
   "source": [
    "#supprimer les mots clés vides (stopwords) \n",
    "vectorizer = CountVectorizer(stop_words='english')\n",
    "X = vectorizer.fit_transform(messages)\n",
    "nwords2 = X.shape[1]\n",
    "print(nwords1 - nwords2, 'stop words ont été trouvé et supprimés. Ce qui nous laisse avec', nwords2, 'mots.')"
   ]
  },
  {
   "cell_type": "code",
   "execution_count": 485,
   "metadata": {},
   "outputs": [],
   "source": [
    "# calculer la matrice de co-occurences.\n",
    "occ_mat = X"
   ]
  },
  {
   "cell_type": "code",
   "execution_count": 487,
   "metadata": {},
   "outputs": [
    {
     "name": "stdout",
     "output_type": "stream",
     "text": [
      "Temps d'éxecution de  NaiveBayes : 0.0575 secondes\n",
      "Accuracy for NaiveBayes is: nan +/- nan\n",
      "Precision for NaiveBayes is: nan +/- nan\n",
      "\n",
      "\n",
      "Temps d'éxecution de  Cart : 2.2770 secondes\n",
      "Accuracy for Cart is: 0.972 +/- 0.007\n",
      "Precision for Cart is: 0.978 +/- 0.008\n",
      "\n",
      "\n",
      "Temps d'éxecution de  ID3 : 2.0921 secondes\n",
      "Accuracy for ID3 is: 0.968 +/- 0.004\n",
      "Precision for ID3 is: 0.976 +/- 0.005\n",
      "\n",
      "\n",
      "Temps d'éxecution de  DecisionStump : 3.3427 secondes\n",
      "Accuracy for DecisionStump is: 0.893 +/- 0.013\n",
      "Precision for DecisionStump is: 0.889 +/- 0.013\n",
      "\n",
      "\n",
      "Temps d'éxecution de  MLP : 34.6562 secondes\n",
      "Accuracy for MLP is: 0.985 +/- 0.004\n",
      "Precision for MLP is: 0.982 +/- 0.004\n",
      "\n",
      "\n",
      "Temps d'éxecution de  KNN : 0.8837 secondes\n",
      "Accuracy for KNN is: 0.914 +/- 0.013\n",
      "Precision for KNN is: 0.910 +/- 0.014\n",
      "\n",
      "\n",
      "Temps d'éxecution de  Bagging : 74.3127 secondes\n",
      "Accuracy for Bagging is: 0.975 +/- 0.007\n",
      "Precision for Bagging is: 0.978 +/- 0.008\n",
      "\n",
      "\n",
      "Temps d'éxecution de  Adaboost : 21.9198 secondes\n",
      "Accuracy for Adaboost is: 0.970 +/- 0.006\n",
      "Precision for Adaboost is: 0.974 +/- 0.005\n",
      "\n",
      "\n",
      "Temps d'éxecution de  Randomforest : 35.4422 secondes\n",
      "Accuracy for Randomforest is: 0.978 +/- 0.007\n",
      "Precision for Randomforest is: 0.977 +/- 0.005\n",
      "\n",
      "\n"
     ]
    }
   ],
   "source": [
    "run_classifiers(clfs, occ_mat, target)"
   ]
  },
  {
   "cell_type": "markdown",
   "metadata": {},
   "source": [
    "**conlusion** #TODO"
   ]
  },
  {
   "cell_type": "markdown",
   "metadata": {},
   "source": [
    "### • Tf–idf term weighting"
   ]
  },
  {
   "cell_type": "code",
   "execution_count": 388,
   "metadata": {},
   "outputs": [],
   "source": [
    "transformer = TfidfTransformer(smooth_idf=False)"
   ]
  },
  {
   "cell_type": "code",
   "execution_count": 410,
   "metadata": {},
   "outputs": [],
   "source": [
    "tfidf = transformer.fit_transform(occ_mat)"
   ]
  },
  {
   "cell_type": "code",
   "execution_count": 417,
   "metadata": {},
   "outputs": [
    {
     "name": "stdout",
     "output_type": "stream",
     "text": [
      "Temps d'éxecution de  NaiveBayes : 0.0232 secondes\n",
      "Accuracy for NaiveBayes is: nan +/- nan\n",
      "Precision for NaiveBayes is: nan +/- nan\n",
      "\n",
      "\n",
      "Temps d'éxecution de  Cart : 3.5304 secondes\n",
      "Accuracy for Cart is: 0.969 +/- 0.009\n",
      "Precision for Cart is: 0.978 +/- 0.007\n",
      "\n",
      "\n",
      "Temps d'éxecution de  ID3 : 3.5165 secondes\n",
      "Accuracy for ID3 is: 0.967 +/- 0.004\n",
      "Precision for ID3 is: 0.978 +/- 0.005\n",
      "\n",
      "\n",
      "Temps d'éxecution de  DecisionStump : 3.1934 secondes\n",
      "Accuracy for DecisionStump is: 0.887 +/- 0.015\n",
      "Precision for DecisionStump is: 0.885 +/- 0.014\n",
      "\n",
      "\n",
      "Temps d'éxecution de  MLP : 48.3667 secondes\n",
      "Accuracy for MLP is: 0.982 +/- 0.007\n",
      "Precision for MLP is: 0.978 +/- 0.009\n",
      "\n",
      "\n",
      "Temps d'éxecution de  KNN : 0.7732 secondes\n",
      "Accuracy for KNN is: 0.905 +/- 0.013\n",
      "Precision for KNN is: 0.901 +/- 0.014\n",
      "\n",
      "\n",
      "Temps d'éxecution de  Bagging : 104.1174 secondes\n",
      "Accuracy for Bagging is: 0.972 +/- 0.007\n",
      "Precision for Bagging is: 0.979 +/- 0.006\n",
      "\n",
      "\n",
      "Temps d'éxecution de  Adaboost : 22.8525 secondes\n",
      "Accuracy for Adaboost is: 0.971 +/- 0.006\n",
      "Precision for Adaboost is: 0.975 +/- 0.004\n",
      "\n",
      "\n",
      "Temps d'éxecution de  Randomforest : 34.5408 secondes\n",
      "Accuracy for Randomforest is: 0.980 +/- 0.006\n",
      "Precision for Randomforest is: 0.976 +/- 0.006\n",
      "\n",
      "\n"
     ]
    }
   ],
   "source": [
    "run_classifiers(clfs, tfidf, target)"
   ]
  },
  {
   "cell_type": "markdown",
   "metadata": {},
   "source": [
    "**conlusion** #TODO"
   ]
  },
  {
   "cell_type": "markdown",
   "metadata": {},
   "source": [
    "### • TruncatedSVD "
   ]
  },
  {
   "cell_type": "code",
   "execution_count": 488,
   "metadata": {},
   "outputs": [],
   "source": [
    "svd = TruncatedSVD().fit(tfidf)"
   ]
  },
  {
   "cell_type": "code",
   "execution_count": 489,
   "metadata": {},
   "outputs": [],
   "source": [
    "x_svd = svd.transform(occ_mat)"
   ]
  },
  {
   "cell_type": "code",
   "execution_count": 490,
   "metadata": {},
   "outputs": [
    {
     "name": "stdout",
     "output_type": "stream",
     "text": [
      "Temps d'éxecution de  NaiveBayes : 0.1035 secondes\n",
      "Accuracy for NaiveBayes is: 0.502 +/- 0.046\n",
      "Precision for NaiveBayes is: 0.919 +/- 0.010\n",
      "\n",
      "\n",
      "Temps d'éxecution de  Cart : 0.2453 secondes\n",
      "Accuracy for Cart is: 0.854 +/- 0.019\n",
      "Precision for Cart is: 0.924 +/- 0.014\n",
      "\n",
      "\n",
      "Temps d'éxecution de  ID3 : 0.3108 secondes\n",
      "Accuracy for ID3 is: 0.854 +/- 0.017\n",
      "Precision for ID3 is: 0.923 +/- 0.015\n",
      "\n",
      "\n",
      "Temps d'éxecution de  DecisionStump : 0.4404 secondes\n",
      "Accuracy for DecisionStump is: 0.861 +/- 0.013\n",
      "Precision for DecisionStump is: 0.868 +/- 0.018\n",
      "\n",
      "\n",
      "Temps d'éxecution de  MLP : 18.7172 secondes\n",
      "Accuracy for MLP is: 0.866 +/- 0.017\n",
      "Precision for MLP is: 0.866 +/- 0.017\n",
      "\n",
      "\n",
      "Temps d'éxecution de  KNN : 0.2885 secondes\n",
      "Accuracy for KNN is: 0.858 +/- 0.010\n",
      "Precision for KNN is: 0.896 +/- 0.013\n",
      "\n",
      "\n",
      "Temps d'éxecution de  Bagging : 7.5694 secondes\n",
      "Accuracy for Bagging is: 0.886 +/- 0.011\n",
      "Precision for Bagging is: 0.921 +/- 0.014\n",
      "\n",
      "\n",
      "Temps d'éxecution de  Adaboost : 2.3583 secondes\n",
      "Accuracy for Adaboost is: 0.865 +/- 0.018\n",
      "Precision for Adaboost is: 0.866 +/- 0.017\n",
      "\n",
      "\n",
      "Temps d'éxecution de  Randomforest : 4.3779 secondes\n",
      "Accuracy for Randomforest is: 0.896 +/- 0.008\n",
      "Precision for Randomforest is: 0.921 +/- 0.013\n",
      "\n",
      "\n"
     ]
    }
   ],
   "source": [
    "run_classifiers(clfs, x_svd, target)"
   ]
  },
  {
   "cell_type": "markdown",
   "metadata": {},
   "source": [
    "### • Pipeline "
   ]
  },
  {
   "cell_type": "code",
   "execution_count": 515,
   "metadata": {},
   "outputs": [],
   "source": [
    "pipeline = Pipeline([\n",
    "    ('vect', CountVectorizer(stop_words='english')),\n",
    "    ('tfidf', TfidfTransformer()),\n",
    "    ('svd', TruncatedSVD()),\n",
    "    ('MLP', MLPClassifier(hidden_layer_sizes=(40, 20), random_state=1))\n",
    "    \n",
    "])"
   ]
  },
  {
   "cell_type": "code",
   "execution_count": 516,
   "metadata": {},
   "outputs": [
    {
     "data": {
      "text/plain": [
       "Pipeline(steps=[('vect', CountVectorizer(stop_words='english')),\n",
       "                ('tfidf', TfidfTransformer()), ('svd', TruncatedSVD()),\n",
       "                ('MLP',\n",
       "                 MLPClassifier(hidden_layer_sizes=(40, 20), random_state=1))])"
      ]
     },
     "execution_count": 516,
     "metadata": {},
     "output_type": "execute_result"
    }
   ],
   "source": [
    "pipeline.fit(messages, target)"
   ]
  },
  {
   "cell_type": "markdown",
   "metadata": {},
   "source": [
    "### • Application sur un autre jeu de données "
   ]
  },
  {
   "cell_type": "code",
   "execution_count": 517,
   "metadata": {},
   "outputs": [
    {
     "data": {
      "text/html": [
       "<div>\n",
       "<style scoped>\n",
       "    .dataframe tbody tr th:only-of-type {\n",
       "        vertical-align: middle;\n",
       "    }\n",
       "\n",
       "    .dataframe tbody tr th {\n",
       "        vertical-align: top;\n",
       "    }\n",
       "\n",
       "    .dataframe thead th {\n",
       "        text-align: right;\n",
       "    }\n",
       "</style>\n",
       "<table border=\"1\" class=\"dataframe\">\n",
       "  <thead>\n",
       "    <tr style=\"text-align: right;\">\n",
       "      <th></th>\n",
       "      <th>Stars</th>\n",
       "      <th>Text</th>\n",
       "    </tr>\n",
       "  </thead>\n",
       "  <tbody>\n",
       "    <tr>\n",
       "      <th>0</th>\n",
       "      <td>1</td>\n",
       "      <td>Boarded my English Mastiff here over New Year'...</td>\n",
       "    </tr>\n",
       "    <tr>\n",
       "      <th>1</th>\n",
       "      <td>1</td>\n",
       "      <td>Another case of the Emperor's New Clothes.  So...</td>\n",
       "    </tr>\n",
       "    <tr>\n",
       "      <th>2</th>\n",
       "      <td>1</td>\n",
       "      <td>Came on Valentine's Day night having pre-bough...</td>\n",
       "    </tr>\n",
       "    <tr>\n",
       "      <th>3</th>\n",
       "      <td>1</td>\n",
       "      <td>2Nd time eating here today.1st time was great ...</td>\n",
       "    </tr>\n",
       "    <tr>\n",
       "      <th>4</th>\n",
       "      <td>1</td>\n",
       "      <td>Allegiant is a disaster.  Their fares are chea...</td>\n",
       "    </tr>\n",
       "    <tr>\n",
       "      <th>...</th>\n",
       "      <td>...</td>\n",
       "      <td>...</td>\n",
       "    </tr>\n",
       "    <tr>\n",
       "      <th>47366</th>\n",
       "      <td>5</td>\n",
       "      <td>This is our favorite coffee place in Montreal!...</td>\n",
       "    </tr>\n",
       "    <tr>\n",
       "      <th>47367</th>\n",
       "      <td>5</td>\n",
       "      <td>Had to visit the Carlos bakery and went on a s...</td>\n",
       "    </tr>\n",
       "    <tr>\n",
       "      <th>47368</th>\n",
       "      <td>5</td>\n",
       "      <td>Some of the best Tom Yum we've ever had. Also ...</td>\n",
       "    </tr>\n",
       "    <tr>\n",
       "      <th>47369</th>\n",
       "      <td>5</td>\n",
       "      <td>This is the best groomer in the valley, she is...</td>\n",
       "    </tr>\n",
       "    <tr>\n",
       "      <th>47370</th>\n",
       "      <td>5</td>\n",
       "      <td>I agree with the other reviewers: this is a gr...</td>\n",
       "    </tr>\n",
       "  </tbody>\n",
       "</table>\n",
       "<p>47371 rows × 2 columns</p>\n",
       "</div>"
      ],
      "text/plain": [
       "       Stars                                               Text\n",
       "0          1  Boarded my English Mastiff here over New Year'...\n",
       "1          1  Another case of the Emperor's New Clothes.  So...\n",
       "2          1  Came on Valentine's Day night having pre-bough...\n",
       "3          1  2Nd time eating here today.1st time was great ...\n",
       "4          1  Allegiant is a disaster.  Their fares are chea...\n",
       "...      ...                                                ...\n",
       "47366      5  This is our favorite coffee place in Montreal!...\n",
       "47367      5  Had to visit the Carlos bakery and went on a s...\n",
       "47368      5  Some of the best Tom Yum we've ever had. Also ...\n",
       "47369      5  This is the best groomer in the valley, she is...\n",
       "47370      5  I agree with the other reviewers: this is a gr...\n",
       "\n",
       "[47371 rows x 2 columns]"
      ]
     },
     "execution_count": 517,
     "metadata": {},
     "output_type": "execute_result"
    }
   ],
   "source": [
    "yelp = pd.read_csv('./yelp-text-by-stars.csv', sep=';') \n",
    "yelp"
   ]
  },
  {
   "cell_type": "code",
   "execution_count": 518,
   "metadata": {},
   "outputs": [],
   "source": [
    "yelpTarget = yelp['Stars']\n",
    "yelpData = yelp['Text']"
   ]
  },
  {
   "cell_type": "code",
   "execution_count": 522,
   "metadata": {},
   "outputs": [
    {
     "data": {
      "text/plain": [
       "Pipeline(steps=[('vect', CountVectorizer(stop_words='english')),\n",
       "                ('tfidf', TfidfTransformer()), ('svd', TruncatedSVD()),\n",
       "                ('MLP',\n",
       "                 MLPClassifier(hidden_layer_sizes=(40, 20), random_state=1))])"
      ]
     },
     "execution_count": 522,
     "metadata": {},
     "output_type": "execute_result"
    }
   ],
   "source": [
    "pipeline.fit(yelpData, yelpTarget)"
   ]
  },
  {
   "cell_type": "code",
   "execution_count": 523,
   "metadata": {},
   "outputs": [],
   "source": [
    "predicted = pipeline.predict(yelpData)"
   ]
  },
  {
   "cell_type": "code",
   "execution_count": 524,
   "metadata": {},
   "outputs": [
    {
     "data": {
      "text/plain": [
       "0.4565029237297081"
      ]
     },
     "execution_count": 524,
     "metadata": {},
     "output_type": "execute_result"
    }
   ],
   "source": [
    "np.mean(predicted == yelpTarget)"
   ]
  }
 ],
 "metadata": {
  "kernelspec": {
   "display_name": "Python 3",
   "language": "python",
   "name": "python3"
  },
  "language_info": {
   "codemirror_mode": {
    "name": "ipython",
    "version": 3
   },
   "file_extension": ".py",
   "mimetype": "text/x-python",
   "name": "python",
   "nbconvert_exporter": "python",
   "pygments_lexer": "ipython3",
   "version": "3.9.1"
  }
 },
 "nbformat": 4,
 "nbformat_minor": 4
}
